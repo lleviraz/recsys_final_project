{
  "cells": [
    {
      "cell_type": "markdown",
      "metadata": {
        "id": "uu7qrGBM6JQx"
      },
      "source": [
        "# Recommendations Systems - Final Project:  AutoReC on ML-1M"
      ]
    },
    {
      "cell_type": "markdown",
      "metadata": {
        "id": "QqHhQMJs6JQ2"
      },
      "source": [
        "By: Liad Levi-Raz and Gil Levy\n"
      ]
    },
    {
      "cell_type": "markdown",
      "metadata": {
        "id": "7X2WEq5uZug5"
      },
      "source": [
        "**DataSet Selection**"
      ]
    },
    {
      "cell_type": "code",
      "execution_count": 1,
      "metadata": {
        "id": "hXgvfpMsZug6"
      },
      "outputs": [],
      "source": [
        "dataset = 'ML-1M'  # 'ML-100k'  or 'ML-1M'\n",
        "# dataset = 'ML-100k'"
      ]
    },
    {
      "cell_type": "markdown",
      "metadata": {
        "id": "5a4MtTYm6JQ4"
      },
      "source": [
        "**Imports**"
      ]
    },
    {
      "cell_type": "code",
      "execution_count": 2,
      "metadata": {
        "id": "DdJ4ILun6JQ4"
      },
      "outputs": [],
      "source": [
        "# general\n",
        "import time\n",
        "import random\n",
        "import zipfile\n",
        "#import requests\n",
        "import warnings\n",
        "\n",
        "# ml\n",
        "import numpy as np\n",
        "import scipy as sp\n",
        "import pandas as pd\n",
        "\n",
        "# visual\n",
        "import seaborn as sns\n",
        "import matplotlib.pyplot as plt\n",
        "import matplotlib.ticker as tck\n",
        "\n",
        "from sklearn.metrics import mean_squared_error,ndcg_score \n",
        "from sklearn.preprocessing import StandardScaler,MaxAbsScaler\n",
        "\n",
        "# notebook\n",
        "from IPython.display import FileLink, display\n",
        "\n",
        "# torch\n",
        "import torch\n",
        "from torch import nn\n",
        "import torch.nn.functional as F\n",
        "from torch.nn import Sequential\n",
        "from torch.nn import Sigmoid,ReLU,Tanh,Identity, LeakyReLU,ELU\n",
        "from torch.nn import Embedding,Linear,Dropout\n",
        "from torch.utils.data import DataLoader, Dataset\n",
        "from torchvision.transforms import ToTensor,Compose\n",
        "from torch.optim import SparseAdam,Adam,Adagrad,SGD,lr_scheduler\n",
        "\n",
        "from tqdm.notebook import tqdm\n",
        "import copy\n",
        "\n",
        "# for meassuring time of execution \n",
        "import time\n",
        "from timeit import default_timer as timer\n"
      ]
    },
    {
      "cell_type": "markdown",
      "metadata": {
        "id": "xs_g3Mpv6JQ5"
      },
      "source": [
        "**Hide Warnings**"
      ]
    },
    {
      "cell_type": "code",
      "execution_count": 4,
      "metadata": {
        "id": "La5VJPFJ6JQ5"
      },
      "outputs": [],
      "source": [
        "warnings.filterwarnings('ignore')"
      ]
    },
    {
      "cell_type": "markdown",
      "metadata": {
        "id": "cf1kIXjU6JQ6"
      },
      "source": [
        "**Disable Autoscrolling**"
      ]
    },
    {
      "cell_type": "code",
      "execution_count": 5,
      "metadata": {
        "colab": {
          "base_uri": "https://localhost:8080/",
          "height": 17
        },
        "id": "_Ol4KqDN6JQ7",
        "outputId": "9bab4c5e-4256-4e44-b9ba-f62dc598cb7c"
      },
      "outputs": [
        {
          "output_type": "display_data",
          "data": {
            "application/javascript": [
              "IPython.OutputArea.prototype._should_scroll = function(lines) {\n",
              "    return false;\n",
              "}"
            ],
            "text/plain": [
              "<IPython.core.display.Javascript object>"
            ]
          },
          "metadata": {}
        }
      ],
      "source": [
        "%%javascript\n",
        "IPython.OutputArea.prototype._should_scroll = function(lines) {\n",
        "    return false;\n",
        "}"
      ]
    },
    {
      "cell_type": "markdown",
      "metadata": {
        "id": "RLqsdvxD6JQ8"
      },
      "source": [
        "**Set Random Seed**"
      ]
    },
    {
      "cell_type": "code",
      "execution_count": 6,
      "metadata": {
        "colab": {
          "base_uri": "https://localhost:8080/"
        },
        "id": "cqeno9eSOcQl",
        "outputId": "0823dfc3-8781-48ee-f309-0489154de96c"
      },
      "outputs": [
        {
          "output_type": "execute_result",
          "data": {
            "text/plain": [
              "<torch._C.Generator at 0x7f31546df1d0>"
            ]
          },
          "metadata": {},
          "execution_count": 6
        }
      ],
      "source": [
        "np.random.seed(1000)#42)\n",
        "torch.manual_seed(1000)#42)"
      ]
    },
    {
      "cell_type": "markdown",
      "metadata": {
        "id": "q0d-biQCOjyQ"
      },
      "source": [
        "# Dataset Selection\n",
        "\n",
        "To run on another dataset uncomment the relevant row\n"
      ]
    },
    {
      "cell_type": "code",
      "execution_count": 7,
      "metadata": {
        "colab": {
          "base_uri": "https://localhost:8080/"
        },
        "id": "weNMg39FOpYc",
        "outputId": "94a14ecf-82c8-48a4-ab30-4ffcb4ea608d"
      },
      "outputs": [
        {
          "output_type": "stream",
          "name": "stdout",
          "text": [
            "Working with dataset:  ML-1M\n",
            "\n"
          ]
        }
      ],
      "source": [
        "data_dir = None\n",
        "if dataset == 'ML-100k':\n",
        "    #ML 100k\n",
        "    print (\"Working with dataset:  {}\\n\".format(dataset))\n",
        "    dataset_name,data_dir,users_delim,item_delim,rating_delim,folds_delim,u_file,i_file,r_file= 'ml-100k','datasets/ml-100k/' , '|','|','\\t','\\t','u.user','u.item','u.data'\n",
        "    cols_user = ['user_id','age','gender','occupation','zip code'] # 100K\n",
        "elif dataset == 'ML-1M':\n",
        "    #ML 1M\n",
        "    print (\"Working with dataset:  {}\\n\".format(dataset))\n",
        "    dataset_name,data_dir,users_delim,item_delim,rating_delim,folds_delim,u_file,i_file,r_file= 'ml-1m','datasets/ml-1m/' , '::','|','::',' ','users.dat','u.item.dat','ratings.dat'\n",
        "    cols_user = ['user_id','gender', 'age' ,'occupation','zip code'] # 1M\n",
        "else:\n",
        "    print (\"No support for dataset {}\\n\".format(dataset))\n",
        "    \n",
        "#NOTE: The 10M and 20M are crashing on out of memory during the Pandas \"fold\" creation...\n",
        "#ML 10M\n",
        "# dataset_name,data_dir,users_delim,item_delim,rating_delim,folds_delim,u_file,i_file,r_file= 'ml-10m','datasets/ml-10m/' , '::','::','::',' ','tags.dat','movies.dat','ratings.dat'\n",
        "#ML 20M\n",
        "# dataset_name,data_dir,users_delim,item_delim,rating_delim,u_file,i_file,r_file= 'ml-20m','datasets/ml-20m/' , '::','::','::','tags.dat','movies.dat','ratings.dat'\n"
      ]
    },
    {
      "cell_type": "markdown",
      "metadata": {
        "id": "sxEHbru86JQ8"
      },
      "source": [
        "\n",
        "# Data exploration \n",
        "\n"
      ]
    },
    {
      "cell_type": "markdown",
      "metadata": {
        "id": "MxnkKdlV6JQ9"
      },
      "source": [
        "**Columns Names**"
      ]
    },
    {
      "cell_type": "code",
      "execution_count": 8,
      "metadata": {
        "id": "5v0_wubi6JQ9"
      },
      "outputs": [],
      "source": [
        "cols_data = ['user_id','item_id','rating','timestamp']\n",
        "cols_item = ['movie id','movie_title','release_date','video_release_date','IMDb_URL','unknown','Action','Adventure','Animation',\n",
        "             'Childrens','Comedy','Crime','Documentary','Drama','Fantasy','Film_Noir','Horror','Musical','Mystery','Romance',\n",
        "             'Sci_Fi','Thriller','War','Western']"
      ]
    },
    {
      "cell_type": "markdown",
      "metadata": {
        "id": "Z8BqWlMK6JQ-"
      },
      "source": [
        "**Read users data file**"
      ]
    },
    {
      "cell_type": "code",
      "execution_count": 9,
      "metadata": {
        "colab": {
          "base_uri": "https://localhost:8080/"
        },
        "id": "9rZB9KHS6JQ-",
        "outputId": "d1525a1e-45f0-41f9-aa64-f86b941b177d"
      },
      "outputs": [
        {
          "output_type": "execute_result",
          "data": {
            "text/plain": [
              "(6040, 5)"
            ]
          },
          "metadata": {},
          "execution_count": 9
        }
      ],
      "source": [
        "df_users = pd.read_csv(data_dir + u_file,delimiter=users_delim, header=None,names=cols_user)\n",
        "df_users.shape"
      ]
    },
    {
      "cell_type": "markdown",
      "metadata": {
        "id": "kqrJNW546JQ_"
      },
      "source": [
        "**Read items(movies) data file**"
      ]
    },
    {
      "cell_type": "code",
      "execution_count": 10,
      "metadata": {
        "colab": {
          "base_uri": "https://localhost:8080/"
        },
        "id": "-6VL3XWi6JQ_",
        "outputId": "0432f64d-5ce2-4236-c47e-59b4be52baa5"
      },
      "outputs": [
        {
          "output_type": "execute_result",
          "data": {
            "text/plain": [
              "(3952, 24)"
            ]
          },
          "metadata": {},
          "execution_count": 10
        }
      ],
      "source": [
        "df_items = pd.read_csv(data_dir + i_file,delimiter=item_delim, header=None,names=cols_item,encoding=\"ISO-8859-1\")\n",
        "df_items.shape"
      ]
    },
    {
      "cell_type": "markdown",
      "metadata": {
        "id": "2ytADnNp6JRA"
      },
      "source": [
        "**Read rating data file**"
      ]
    },
    {
      "cell_type": "code",
      "execution_count": 11,
      "metadata": {
        "colab": {
          "base_uri": "https://localhost:8080/"
        },
        "id": "gXRPVjW16JRA",
        "outputId": "f40b5aa1-6839-4f06-8745-843e4a340e5e"
      },
      "outputs": [
        {
          "output_type": "execute_result",
          "data": {
            "text/plain": [
              "(1000209, 4)"
            ]
          },
          "metadata": {},
          "execution_count": 11
        }
      ],
      "source": [
        "df_ratings = pd.read_csv(data_dir + r_file,delimiter=rating_delim, header=None,names=cols_data)\n",
        "df_ratings.shape"
      ]
    },
    {
      "cell_type": "markdown",
      "metadata": {
        "id": "GrdAPQQc6JRB"
      },
      "source": [
        "Making sure shapes are mathing the info data file"
      ]
    },
    {
      "cell_type": "code",
      "execution_count": 12,
      "metadata": {
        "colab": {
          "base_uri": "https://localhost:8080/"
        },
        "id": "7SLkqC086JRB",
        "outputId": "d4d35e0b-48da-4ccf-d945-587cf67a13c1"
      },
      "outputs": [
        {
          "output_type": "stream",
          "name": "stdout",
          "text": [
            "Counts: users=6040, items=3952, ratings=1000209\n"
          ]
        }
      ],
      "source": [
        "# if os.path.exists(data_dir + 'u.info'):\n",
        "#   open(data_dir + 'u.info').readlines()\n",
        "# else:\n",
        "print('Counts: users={}, items={}, ratings={}'.format(df_users.shape[0],df_items.shape[0],df_ratings.shape[0]))"
      ]
    },
    {
      "cell_type": "code",
      "execution_count": 13,
      "metadata": {
        "colab": {
          "base_uri": "https://localhost:8080/",
          "height": 331
        },
        "id": "ZiM0uAc-6JRC",
        "outputId": "c6744ab4-19f1-437a-8094-50b5667a247a",
        "scrolled": true
      },
      "outputs": [
        {
          "output_type": "execute_result",
          "data": {
            "text/html": [
              "\n",
              "  <div id=\"df-c746c38f-e076-4f91-8240-10e825329577\">\n",
              "    <div class=\"colab-df-container\">\n",
              "      <div>\n",
              "<style scoped>\n",
              "    .dataframe tbody tr th:only-of-type {\n",
              "        vertical-align: middle;\n",
              "    }\n",
              "\n",
              "    .dataframe tbody tr th {\n",
              "        vertical-align: top;\n",
              "    }\n",
              "\n",
              "    .dataframe thead th {\n",
              "        text-align: right;\n",
              "    }\n",
              "</style>\n",
              "<table border=\"1\" class=\"dataframe\">\n",
              "  <thead>\n",
              "    <tr style=\"text-align: right;\">\n",
              "      <th>item_id</th>\n",
              "      <th>1</th>\n",
              "      <th>2</th>\n",
              "      <th>3</th>\n",
              "      <th>4</th>\n",
              "      <th>5</th>\n",
              "      <th>6</th>\n",
              "      <th>7</th>\n",
              "      <th>8</th>\n",
              "      <th>9</th>\n",
              "      <th>10</th>\n",
              "      <th>11</th>\n",
              "      <th>12</th>\n",
              "      <th>13</th>\n",
              "      <th>14</th>\n",
              "      <th>15</th>\n",
              "      <th>16</th>\n",
              "      <th>17</th>\n",
              "      <th>18</th>\n",
              "      <th>19</th>\n",
              "      <th>20</th>\n",
              "      <th>21</th>\n",
              "      <th>22</th>\n",
              "      <th>23</th>\n",
              "      <th>24</th>\n",
              "      <th>25</th>\n",
              "      <th>26</th>\n",
              "      <th>27</th>\n",
              "      <th>28</th>\n",
              "      <th>29</th>\n",
              "      <th>30</th>\n",
              "      <th>31</th>\n",
              "      <th>32</th>\n",
              "      <th>33</th>\n",
              "      <th>34</th>\n",
              "      <th>35</th>\n",
              "      <th>36</th>\n",
              "      <th>37</th>\n",
              "      <th>38</th>\n",
              "      <th>39</th>\n",
              "      <th>40</th>\n",
              "      <th>...</th>\n",
              "      <th>3913</th>\n",
              "      <th>3914</th>\n",
              "      <th>3915</th>\n",
              "      <th>3916</th>\n",
              "      <th>3917</th>\n",
              "      <th>3918</th>\n",
              "      <th>3919</th>\n",
              "      <th>3920</th>\n",
              "      <th>3921</th>\n",
              "      <th>3922</th>\n",
              "      <th>3923</th>\n",
              "      <th>3924</th>\n",
              "      <th>3925</th>\n",
              "      <th>3926</th>\n",
              "      <th>3927</th>\n",
              "      <th>3928</th>\n",
              "      <th>3929</th>\n",
              "      <th>3930</th>\n",
              "      <th>3931</th>\n",
              "      <th>3932</th>\n",
              "      <th>3933</th>\n",
              "      <th>3934</th>\n",
              "      <th>3935</th>\n",
              "      <th>3936</th>\n",
              "      <th>3937</th>\n",
              "      <th>3938</th>\n",
              "      <th>3939</th>\n",
              "      <th>3940</th>\n",
              "      <th>3941</th>\n",
              "      <th>3942</th>\n",
              "      <th>3943</th>\n",
              "      <th>3944</th>\n",
              "      <th>3945</th>\n",
              "      <th>3946</th>\n",
              "      <th>3947</th>\n",
              "      <th>3948</th>\n",
              "      <th>3949</th>\n",
              "      <th>3950</th>\n",
              "      <th>3951</th>\n",
              "      <th>3952</th>\n",
              "    </tr>\n",
              "    <tr>\n",
              "      <th>user_id</th>\n",
              "      <th></th>\n",
              "      <th></th>\n",
              "      <th></th>\n",
              "      <th></th>\n",
              "      <th></th>\n",
              "      <th></th>\n",
              "      <th></th>\n",
              "      <th></th>\n",
              "      <th></th>\n",
              "      <th></th>\n",
              "      <th></th>\n",
              "      <th></th>\n",
              "      <th></th>\n",
              "      <th></th>\n",
              "      <th></th>\n",
              "      <th></th>\n",
              "      <th></th>\n",
              "      <th></th>\n",
              "      <th></th>\n",
              "      <th></th>\n",
              "      <th></th>\n",
              "      <th></th>\n",
              "      <th></th>\n",
              "      <th></th>\n",
              "      <th></th>\n",
              "      <th></th>\n",
              "      <th></th>\n",
              "      <th></th>\n",
              "      <th></th>\n",
              "      <th></th>\n",
              "      <th></th>\n",
              "      <th></th>\n",
              "      <th></th>\n",
              "      <th></th>\n",
              "      <th></th>\n",
              "      <th></th>\n",
              "      <th></th>\n",
              "      <th></th>\n",
              "      <th></th>\n",
              "      <th></th>\n",
              "      <th></th>\n",
              "      <th></th>\n",
              "      <th></th>\n",
              "      <th></th>\n",
              "      <th></th>\n",
              "      <th></th>\n",
              "      <th></th>\n",
              "      <th></th>\n",
              "      <th></th>\n",
              "      <th></th>\n",
              "      <th></th>\n",
              "      <th></th>\n",
              "      <th></th>\n",
              "      <th></th>\n",
              "      <th></th>\n",
              "      <th></th>\n",
              "      <th></th>\n",
              "      <th></th>\n",
              "      <th></th>\n",
              "      <th></th>\n",
              "      <th></th>\n",
              "      <th></th>\n",
              "      <th></th>\n",
              "      <th></th>\n",
              "      <th></th>\n",
              "      <th></th>\n",
              "      <th></th>\n",
              "      <th></th>\n",
              "      <th></th>\n",
              "      <th></th>\n",
              "      <th></th>\n",
              "      <th></th>\n",
              "      <th></th>\n",
              "      <th></th>\n",
              "      <th></th>\n",
              "      <th></th>\n",
              "      <th></th>\n",
              "      <th></th>\n",
              "      <th></th>\n",
              "      <th></th>\n",
              "      <th></th>\n",
              "    </tr>\n",
              "  </thead>\n",
              "  <tbody>\n",
              "    <tr>\n",
              "      <th>1</th>\n",
              "      <td>5.0</td>\n",
              "      <td>0.0</td>\n",
              "      <td>0.0</td>\n",
              "      <td>0.0</td>\n",
              "      <td>0.0</td>\n",
              "      <td>0.0</td>\n",
              "      <td>0.0</td>\n",
              "      <td>0.0</td>\n",
              "      <td>0.0</td>\n",
              "      <td>0.0</td>\n",
              "      <td>0.0</td>\n",
              "      <td>0.0</td>\n",
              "      <td>0.0</td>\n",
              "      <td>0.0</td>\n",
              "      <td>0.0</td>\n",
              "      <td>0.0</td>\n",
              "      <td>0.0</td>\n",
              "      <td>0.0</td>\n",
              "      <td>0.0</td>\n",
              "      <td>0.0</td>\n",
              "      <td>0.0</td>\n",
              "      <td>0.0</td>\n",
              "      <td>0.0</td>\n",
              "      <td>0.0</td>\n",
              "      <td>0.0</td>\n",
              "      <td>0.0</td>\n",
              "      <td>0.0</td>\n",
              "      <td>0.0</td>\n",
              "      <td>0.0</td>\n",
              "      <td>0.0</td>\n",
              "      <td>0.0</td>\n",
              "      <td>0.0</td>\n",
              "      <td>0.0</td>\n",
              "      <td>0.0</td>\n",
              "      <td>0.0</td>\n",
              "      <td>0.0</td>\n",
              "      <td>0.0</td>\n",
              "      <td>0.0</td>\n",
              "      <td>0.0</td>\n",
              "      <td>0.0</td>\n",
              "      <td>...</td>\n",
              "      <td>0.0</td>\n",
              "      <td>0.0</td>\n",
              "      <td>0.0</td>\n",
              "      <td>0.0</td>\n",
              "      <td>0.0</td>\n",
              "      <td>0.0</td>\n",
              "      <td>0.0</td>\n",
              "      <td>0.0</td>\n",
              "      <td>0.0</td>\n",
              "      <td>0.0</td>\n",
              "      <td>0.0</td>\n",
              "      <td>0.0</td>\n",
              "      <td>0.0</td>\n",
              "      <td>0.0</td>\n",
              "      <td>0.0</td>\n",
              "      <td>0.0</td>\n",
              "      <td>0.0</td>\n",
              "      <td>0.0</td>\n",
              "      <td>0.0</td>\n",
              "      <td>0.0</td>\n",
              "      <td>0.0</td>\n",
              "      <td>0.0</td>\n",
              "      <td>0.0</td>\n",
              "      <td>0.0</td>\n",
              "      <td>0.0</td>\n",
              "      <td>0.0</td>\n",
              "      <td>0.0</td>\n",
              "      <td>0.0</td>\n",
              "      <td>0.0</td>\n",
              "      <td>0.0</td>\n",
              "      <td>0.0</td>\n",
              "      <td>0.0</td>\n",
              "      <td>0.0</td>\n",
              "      <td>0.0</td>\n",
              "      <td>0.0</td>\n",
              "      <td>0.0</td>\n",
              "      <td>0.0</td>\n",
              "      <td>0.0</td>\n",
              "      <td>0.0</td>\n",
              "      <td>0.0</td>\n",
              "    </tr>\n",
              "    <tr>\n",
              "      <th>2</th>\n",
              "      <td>0.0</td>\n",
              "      <td>0.0</td>\n",
              "      <td>0.0</td>\n",
              "      <td>0.0</td>\n",
              "      <td>0.0</td>\n",
              "      <td>0.0</td>\n",
              "      <td>0.0</td>\n",
              "      <td>0.0</td>\n",
              "      <td>0.0</td>\n",
              "      <td>0.0</td>\n",
              "      <td>0.0</td>\n",
              "      <td>0.0</td>\n",
              "      <td>0.0</td>\n",
              "      <td>0.0</td>\n",
              "      <td>0.0</td>\n",
              "      <td>0.0</td>\n",
              "      <td>0.0</td>\n",
              "      <td>0.0</td>\n",
              "      <td>0.0</td>\n",
              "      <td>0.0</td>\n",
              "      <td>1.0</td>\n",
              "      <td>0.0</td>\n",
              "      <td>0.0</td>\n",
              "      <td>0.0</td>\n",
              "      <td>0.0</td>\n",
              "      <td>0.0</td>\n",
              "      <td>0.0</td>\n",
              "      <td>0.0</td>\n",
              "      <td>0.0</td>\n",
              "      <td>0.0</td>\n",
              "      <td>0.0</td>\n",
              "      <td>0.0</td>\n",
              "      <td>0.0</td>\n",
              "      <td>0.0</td>\n",
              "      <td>0.0</td>\n",
              "      <td>0.0</td>\n",
              "      <td>0.0</td>\n",
              "      <td>0.0</td>\n",
              "      <td>0.0</td>\n",
              "      <td>0.0</td>\n",
              "      <td>...</td>\n",
              "      <td>0.0</td>\n",
              "      <td>0.0</td>\n",
              "      <td>0.0</td>\n",
              "      <td>0.0</td>\n",
              "      <td>0.0</td>\n",
              "      <td>0.0</td>\n",
              "      <td>0.0</td>\n",
              "      <td>0.0</td>\n",
              "      <td>0.0</td>\n",
              "      <td>0.0</td>\n",
              "      <td>0.0</td>\n",
              "      <td>0.0</td>\n",
              "      <td>0.0</td>\n",
              "      <td>0.0</td>\n",
              "      <td>0.0</td>\n",
              "      <td>0.0</td>\n",
              "      <td>0.0</td>\n",
              "      <td>0.0</td>\n",
              "      <td>0.0</td>\n",
              "      <td>0.0</td>\n",
              "      <td>0.0</td>\n",
              "      <td>0.0</td>\n",
              "      <td>0.0</td>\n",
              "      <td>0.0</td>\n",
              "      <td>0.0</td>\n",
              "      <td>0.0</td>\n",
              "      <td>0.0</td>\n",
              "      <td>0.0</td>\n",
              "      <td>0.0</td>\n",
              "      <td>0.0</td>\n",
              "      <td>0.0</td>\n",
              "      <td>0.0</td>\n",
              "      <td>0.0</td>\n",
              "      <td>0.0</td>\n",
              "      <td>0.0</td>\n",
              "      <td>0.0</td>\n",
              "      <td>0.0</td>\n",
              "      <td>0.0</td>\n",
              "      <td>0.0</td>\n",
              "      <td>0.0</td>\n",
              "    </tr>\n",
              "    <tr>\n",
              "      <th>3</th>\n",
              "      <td>0.0</td>\n",
              "      <td>0.0</td>\n",
              "      <td>0.0</td>\n",
              "      <td>0.0</td>\n",
              "      <td>0.0</td>\n",
              "      <td>0.0</td>\n",
              "      <td>0.0</td>\n",
              "      <td>0.0</td>\n",
              "      <td>0.0</td>\n",
              "      <td>0.0</td>\n",
              "      <td>0.0</td>\n",
              "      <td>0.0</td>\n",
              "      <td>0.0</td>\n",
              "      <td>0.0</td>\n",
              "      <td>0.0</td>\n",
              "      <td>0.0</td>\n",
              "      <td>0.0</td>\n",
              "      <td>0.0</td>\n",
              "      <td>0.0</td>\n",
              "      <td>0.0</td>\n",
              "      <td>0.0</td>\n",
              "      <td>0.0</td>\n",
              "      <td>0.0</td>\n",
              "      <td>0.0</td>\n",
              "      <td>0.0</td>\n",
              "      <td>0.0</td>\n",
              "      <td>0.0</td>\n",
              "      <td>0.0</td>\n",
              "      <td>0.0</td>\n",
              "      <td>0.0</td>\n",
              "      <td>0.0</td>\n",
              "      <td>0.0</td>\n",
              "      <td>0.0</td>\n",
              "      <td>0.0</td>\n",
              "      <td>0.0</td>\n",
              "      <td>0.0</td>\n",
              "      <td>0.0</td>\n",
              "      <td>0.0</td>\n",
              "      <td>0.0</td>\n",
              "      <td>0.0</td>\n",
              "      <td>...</td>\n",
              "      <td>0.0</td>\n",
              "      <td>0.0</td>\n",
              "      <td>0.0</td>\n",
              "      <td>0.0</td>\n",
              "      <td>0.0</td>\n",
              "      <td>0.0</td>\n",
              "      <td>0.0</td>\n",
              "      <td>0.0</td>\n",
              "      <td>0.0</td>\n",
              "      <td>0.0</td>\n",
              "      <td>0.0</td>\n",
              "      <td>0.0</td>\n",
              "      <td>0.0</td>\n",
              "      <td>0.0</td>\n",
              "      <td>0.0</td>\n",
              "      <td>0.0</td>\n",
              "      <td>0.0</td>\n",
              "      <td>0.0</td>\n",
              "      <td>0.0</td>\n",
              "      <td>0.0</td>\n",
              "      <td>0.0</td>\n",
              "      <td>0.0</td>\n",
              "      <td>0.0</td>\n",
              "      <td>0.0</td>\n",
              "      <td>0.0</td>\n",
              "      <td>0.0</td>\n",
              "      <td>0.0</td>\n",
              "      <td>0.0</td>\n",
              "      <td>0.0</td>\n",
              "      <td>0.0</td>\n",
              "      <td>0.0</td>\n",
              "      <td>0.0</td>\n",
              "      <td>0.0</td>\n",
              "      <td>0.0</td>\n",
              "      <td>0.0</td>\n",
              "      <td>0.0</td>\n",
              "      <td>0.0</td>\n",
              "      <td>0.0</td>\n",
              "      <td>0.0</td>\n",
              "      <td>0.0</td>\n",
              "    </tr>\n",
              "    <tr>\n",
              "      <th>4</th>\n",
              "      <td>0.0</td>\n",
              "      <td>0.0</td>\n",
              "      <td>0.0</td>\n",
              "      <td>0.0</td>\n",
              "      <td>0.0</td>\n",
              "      <td>0.0</td>\n",
              "      <td>0.0</td>\n",
              "      <td>0.0</td>\n",
              "      <td>0.0</td>\n",
              "      <td>0.0</td>\n",
              "      <td>0.0</td>\n",
              "      <td>0.0</td>\n",
              "      <td>0.0</td>\n",
              "      <td>0.0</td>\n",
              "      <td>0.0</td>\n",
              "      <td>0.0</td>\n",
              "      <td>0.0</td>\n",
              "      <td>0.0</td>\n",
              "      <td>0.0</td>\n",
              "      <td>0.0</td>\n",
              "      <td>0.0</td>\n",
              "      <td>0.0</td>\n",
              "      <td>0.0</td>\n",
              "      <td>0.0</td>\n",
              "      <td>0.0</td>\n",
              "      <td>0.0</td>\n",
              "      <td>0.0</td>\n",
              "      <td>0.0</td>\n",
              "      <td>0.0</td>\n",
              "      <td>0.0</td>\n",
              "      <td>0.0</td>\n",
              "      <td>0.0</td>\n",
              "      <td>0.0</td>\n",
              "      <td>0.0</td>\n",
              "      <td>0.0</td>\n",
              "      <td>0.0</td>\n",
              "      <td>0.0</td>\n",
              "      <td>0.0</td>\n",
              "      <td>0.0</td>\n",
              "      <td>0.0</td>\n",
              "      <td>...</td>\n",
              "      <td>0.0</td>\n",
              "      <td>0.0</td>\n",
              "      <td>0.0</td>\n",
              "      <td>0.0</td>\n",
              "      <td>0.0</td>\n",
              "      <td>0.0</td>\n",
              "      <td>0.0</td>\n",
              "      <td>0.0</td>\n",
              "      <td>0.0</td>\n",
              "      <td>0.0</td>\n",
              "      <td>0.0</td>\n",
              "      <td>0.0</td>\n",
              "      <td>0.0</td>\n",
              "      <td>0.0</td>\n",
              "      <td>0.0</td>\n",
              "      <td>0.0</td>\n",
              "      <td>0.0</td>\n",
              "      <td>0.0</td>\n",
              "      <td>0.0</td>\n",
              "      <td>0.0</td>\n",
              "      <td>0.0</td>\n",
              "      <td>0.0</td>\n",
              "      <td>0.0</td>\n",
              "      <td>0.0</td>\n",
              "      <td>0.0</td>\n",
              "      <td>0.0</td>\n",
              "      <td>0.0</td>\n",
              "      <td>0.0</td>\n",
              "      <td>0.0</td>\n",
              "      <td>0.0</td>\n",
              "      <td>0.0</td>\n",
              "      <td>0.0</td>\n",
              "      <td>0.0</td>\n",
              "      <td>0.0</td>\n",
              "      <td>0.0</td>\n",
              "      <td>0.0</td>\n",
              "      <td>0.0</td>\n",
              "      <td>0.0</td>\n",
              "      <td>0.0</td>\n",
              "      <td>0.0</td>\n",
              "    </tr>\n",
              "    <tr>\n",
              "      <th>5</th>\n",
              "      <td>0.0</td>\n",
              "      <td>0.0</td>\n",
              "      <td>0.0</td>\n",
              "      <td>0.0</td>\n",
              "      <td>0.0</td>\n",
              "      <td>2.0</td>\n",
              "      <td>0.0</td>\n",
              "      <td>0.0</td>\n",
              "      <td>0.0</td>\n",
              "      <td>0.0</td>\n",
              "      <td>0.0</td>\n",
              "      <td>0.0</td>\n",
              "      <td>0.0</td>\n",
              "      <td>0.0</td>\n",
              "      <td>0.0</td>\n",
              "      <td>3.0</td>\n",
              "      <td>0.0</td>\n",
              "      <td>0.0</td>\n",
              "      <td>0.0</td>\n",
              "      <td>0.0</td>\n",
              "      <td>0.0</td>\n",
              "      <td>0.0</td>\n",
              "      <td>0.0</td>\n",
              "      <td>1.0</td>\n",
              "      <td>0.0</td>\n",
              "      <td>0.0</td>\n",
              "      <td>0.0</td>\n",
              "      <td>0.0</td>\n",
              "      <td>5.0</td>\n",
              "      <td>0.0</td>\n",
              "      <td>0.0</td>\n",
              "      <td>4.0</td>\n",
              "      <td>0.0</td>\n",
              "      <td>4.0</td>\n",
              "      <td>0.0</td>\n",
              "      <td>3.0</td>\n",
              "      <td>0.0</td>\n",
              "      <td>0.0</td>\n",
              "      <td>3.0</td>\n",
              "      <td>0.0</td>\n",
              "      <td>...</td>\n",
              "      <td>0.0</td>\n",
              "      <td>0.0</td>\n",
              "      <td>0.0</td>\n",
              "      <td>0.0</td>\n",
              "      <td>0.0</td>\n",
              "      <td>0.0</td>\n",
              "      <td>0.0</td>\n",
              "      <td>0.0</td>\n",
              "      <td>0.0</td>\n",
              "      <td>0.0</td>\n",
              "      <td>0.0</td>\n",
              "      <td>0.0</td>\n",
              "      <td>0.0</td>\n",
              "      <td>0.0</td>\n",
              "      <td>0.0</td>\n",
              "      <td>0.0</td>\n",
              "      <td>0.0</td>\n",
              "      <td>0.0</td>\n",
              "      <td>0.0</td>\n",
              "      <td>0.0</td>\n",
              "      <td>0.0</td>\n",
              "      <td>0.0</td>\n",
              "      <td>0.0</td>\n",
              "      <td>0.0</td>\n",
              "      <td>0.0</td>\n",
              "      <td>0.0</td>\n",
              "      <td>0.0</td>\n",
              "      <td>0.0</td>\n",
              "      <td>0.0</td>\n",
              "      <td>0.0</td>\n",
              "      <td>0.0</td>\n",
              "      <td>0.0</td>\n",
              "      <td>0.0</td>\n",
              "      <td>0.0</td>\n",
              "      <td>0.0</td>\n",
              "      <td>0.0</td>\n",
              "      <td>0.0</td>\n",
              "      <td>0.0</td>\n",
              "      <td>0.0</td>\n",
              "      <td>0.0</td>\n",
              "    </tr>\n",
              "  </tbody>\n",
              "</table>\n",
              "<p>5 rows × 3706 columns</p>\n",
              "</div>\n",
              "      <button class=\"colab-df-convert\" onclick=\"convertToInteractive('df-c746c38f-e076-4f91-8240-10e825329577')\"\n",
              "              title=\"Convert this dataframe to an interactive table.\"\n",
              "              style=\"display:none;\">\n",
              "        \n",
              "  <svg xmlns=\"http://www.w3.org/2000/svg\" height=\"24px\"viewBox=\"0 0 24 24\"\n",
              "       width=\"24px\">\n",
              "    <path d=\"M0 0h24v24H0V0z\" fill=\"none\"/>\n",
              "    <path d=\"M18.56 5.44l.94 2.06.94-2.06 2.06-.94-2.06-.94-.94-2.06-.94 2.06-2.06.94zm-11 1L8.5 8.5l.94-2.06 2.06-.94-2.06-.94L8.5 2.5l-.94 2.06-2.06.94zm10 10l.94 2.06.94-2.06 2.06-.94-2.06-.94-.94-2.06-.94 2.06-2.06.94z\"/><path d=\"M17.41 7.96l-1.37-1.37c-.4-.4-.92-.59-1.43-.59-.52 0-1.04.2-1.43.59L10.3 9.45l-7.72 7.72c-.78.78-.78 2.05 0 2.83L4 21.41c.39.39.9.59 1.41.59.51 0 1.02-.2 1.41-.59l7.78-7.78 2.81-2.81c.8-.78.8-2.07 0-2.86zM5.41 20L4 18.59l7.72-7.72 1.47 1.35L5.41 20z\"/>\n",
              "  </svg>\n",
              "      </button>\n",
              "      \n",
              "  <style>\n",
              "    .colab-df-container {\n",
              "      display:flex;\n",
              "      flex-wrap:wrap;\n",
              "      gap: 12px;\n",
              "    }\n",
              "\n",
              "    .colab-df-convert {\n",
              "      background-color: #E8F0FE;\n",
              "      border: none;\n",
              "      border-radius: 50%;\n",
              "      cursor: pointer;\n",
              "      display: none;\n",
              "      fill: #1967D2;\n",
              "      height: 32px;\n",
              "      padding: 0 0 0 0;\n",
              "      width: 32px;\n",
              "    }\n",
              "\n",
              "    .colab-df-convert:hover {\n",
              "      background-color: #E2EBFA;\n",
              "      box-shadow: 0px 1px 2px rgba(60, 64, 67, 0.3), 0px 1px 3px 1px rgba(60, 64, 67, 0.15);\n",
              "      fill: #174EA6;\n",
              "    }\n",
              "\n",
              "    [theme=dark] .colab-df-convert {\n",
              "      background-color: #3B4455;\n",
              "      fill: #D2E3FC;\n",
              "    }\n",
              "\n",
              "    [theme=dark] .colab-df-convert:hover {\n",
              "      background-color: #434B5C;\n",
              "      box-shadow: 0px 1px 3px 1px rgba(0, 0, 0, 0.15);\n",
              "      filter: drop-shadow(0px 1px 2px rgba(0, 0, 0, 0.3));\n",
              "      fill: #FFFFFF;\n",
              "    }\n",
              "  </style>\n",
              "\n",
              "      <script>\n",
              "        const buttonEl =\n",
              "          document.querySelector('#df-c746c38f-e076-4f91-8240-10e825329577 button.colab-df-convert');\n",
              "        buttonEl.style.display =\n",
              "          google.colab.kernel.accessAllowed ? 'block' : 'none';\n",
              "\n",
              "        async function convertToInteractive(key) {\n",
              "          const element = document.querySelector('#df-c746c38f-e076-4f91-8240-10e825329577');\n",
              "          const dataTable =\n",
              "            await google.colab.kernel.invokeFunction('convertToInteractive',\n",
              "                                                     [key], {});\n",
              "          if (!dataTable) return;\n",
              "\n",
              "          const docLinkHtml = 'Like what you see? Visit the ' +\n",
              "            '<a target=\"_blank\" href=https://colab.research.google.com/notebooks/data_table.ipynb>data table notebook</a>'\n",
              "            + ' to learn more about interactive tables.';\n",
              "          element.innerHTML = '';\n",
              "          dataTable['output_type'] = 'display_data';\n",
              "          await google.colab.output.renderOutput(dataTable, element);\n",
              "          const docLink = document.createElement('div');\n",
              "          docLink.innerHTML = docLinkHtml;\n",
              "          element.appendChild(docLink);\n",
              "        }\n",
              "      </script>\n",
              "    </div>\n",
              "  </div>\n",
              "  "
            ],
            "text/plain": [
              "item_id  1     2     3     4     5     6     ...  3947  3948  3949  3950  3951  3952\n",
              "user_id                                      ...                                    \n",
              "1         5.0   0.0   0.0   0.0   0.0   0.0  ...   0.0   0.0   0.0   0.0   0.0   0.0\n",
              "2         0.0   0.0   0.0   0.0   0.0   0.0  ...   0.0   0.0   0.0   0.0   0.0   0.0\n",
              "3         0.0   0.0   0.0   0.0   0.0   0.0  ...   0.0   0.0   0.0   0.0   0.0   0.0\n",
              "4         0.0   0.0   0.0   0.0   0.0   0.0  ...   0.0   0.0   0.0   0.0   0.0   0.0\n",
              "5         0.0   0.0   0.0   0.0   0.0   2.0  ...   0.0   0.0   0.0   0.0   0.0   0.0\n",
              "\n",
              "[5 rows x 3706 columns]"
            ]
          },
          "metadata": {},
          "execution_count": 13
        }
      ],
      "source": [
        "ratings = df_ratings.pivot(index = 'user_id', columns ='item_id', values = 'rating').fillna(0)\n",
        "ratings.head()"
      ]
    },
    {
      "cell_type": "markdown",
      "metadata": {
        "id": "GJ1DzkJU6JRD"
      },
      "source": [
        "**Calculate the dataset sparsity:**\n",
        "\n",
        "$$\n",
        "Density  = \\frac{\\text{number of nonzero ratings in the matrix}}{\\text{number of users}\\times\\text{number of items}} \n",
        "\\quad \\qquad\n",
        "Sparsity = 1 - \\frac{\\text{number of nonzero ratings in the matrix}}{\\text{number of users}\\times\\text{number of items}}\n",
        "$$"
      ]
    },
    {
      "cell_type": "code",
      "execution_count": 14,
      "metadata": {
        "colab": {
          "base_uri": "https://localhost:8080/"
        },
        "id": "HqMPtC2n6JRE",
        "outputId": "27ecfcf8-d325-4ba3-f632-508d88d91412"
      },
      "outputs": [
        {
          "output_type": "stream",
          "name": "stdout",
          "text": [
            "ml-1m dataset, sparsity=95.53%\n"
          ]
        }
      ],
      "source": [
        "matrix_sparsity =  round((1-np.count_nonzero(ratings)/ratings.size)*100,2)\n",
        "print('{} dataset, sparsity={}%'.format(dataset_name ,str(matrix_sparsity)) )"
      ]
    },
    {
      "cell_type": "markdown",
      "metadata": {
        "id": "r15Uq0Yu6JRD"
      },
      "source": [
        "<br>\n",
        "\n",
        "**Explore ratings data:**\n",
        "\n",
        "<br>"
      ]
    },
    {
      "cell_type": "code",
      "execution_count": 15,
      "metadata": {
        "colab": {
          "base_uri": "https://localhost:8080/",
          "height": 431
        },
        "id": "Ig582iXz9Q7X",
        "outputId": "9aee4f7d-eb0e-40cb-ae79-3e4ca74fa42c"
      },
      "outputs": [
        {
          "output_type": "display_data",
          "data": {
            "image/png": "[encoded data removed]",
            "text/plain": [
              "<Figure size 1080x432 with 2 Axes>"
            ]
          },
          "metadata": {
            "needs_background": "light"
          }
        }
      ],
      "source": [
        "f, axes = plt.subplots(1, 2,figsize=(15,6))\n",
        "sns.boxplot(df_ratings.rating,ax=axes[0])\n",
        "sns.countplot(df_ratings.rating,ax=axes[1])\n",
        "plt.suptitle('Dataset: {} dataset ratings'.format(dataset_name))\n",
        "plt.show()"
      ]
    },
    {
      "cell_type": "markdown",
      "metadata": {
        "id": "q4AM2fRZ969l"
      },
      "source": [
        "Distribution of number of ratings per user and items"
      ]
    },
    {
      "cell_type": "code",
      "execution_count": 16,
      "metadata": {
        "colab": {
          "base_uri": "https://localhost:8080/",
          "height": 592
        },
        "id": "4HFgYSnW9xUm",
        "outputId": "62e932d6-354e-4df8-db6e-3e4862178c81"
      },
      "outputs": [
        {
          "output_type": "execute_result",
          "data": {
            "text/plain": [
              "Text(0.5, 1.0, 'Distribution of number of ratings per user')"
            ]
          },
          "metadata": {},
          "execution_count": 16
        },
        {
          "output_type": "display_data",
          "data": {
            "image/png": "[encoded data removed]",
            "text/plain": [
              "<Figure size 1080x288 with 2 Axes>"
            ]
          },
          "metadata": {
            "needs_background": "light"
          }
        },
        {
          "output_type": "display_data",
          "data": {
            "image/png": "[encoded data removed]",
            "text/plain": [
              "<Figure size 864x288 with 1 Axes>"
            ]
          },
          "metadata": {
            "needs_background": "light"
          }
        }
      ],
      "source": [
        "fig, ax = plt.subplots(1, 2, sharex='col', sharey='row', figsize=(15, 4))\n",
        "\n",
        "ratings.astype(bool).sum(axis=0).plot.hist(ax=ax[0])\n",
        "ratings.astype(bool).sum(axis=1).plot.hist(ax=ax[1],color='orange')\n",
        "ax[0].set_title('per item')\n",
        "ax[1].set_title('per user')\n",
        "ax[0].set_xlabel('rating\\'s count')\n",
        "ax[1].set_xlabel('rating\\'s count');\n",
        "plt.suptitle('Dataset: {} distribution of ratings per user and item'.format(dataset_name))\n",
        "\n",
        "\n",
        "fig, ax = plt.subplots(1, 1, sharex='col', sharey='row', figsize=(12, 4))\n",
        "\n",
        "userRatingsAggr = df_ratings.groupby(['user_id']).agg({'rating': [np.size]})\n",
        "userRatingsAggr.reset_index(inplace=True)  # To reset multilevel (pivot-like) index\n",
        "userRatingsAggr['rating'].plot(ax=ax , kind='box', subplots=True , vert= False)\n",
        "ax.set_title('Distribution of number of ratings per user', fontsize = 16)\n"
      ]
    },
    {
      "cell_type": "markdown",
      "metadata": {
        "id": "HRO-540jZuhg"
      },
      "source": [
        "As  one of oue inovations integrates content information we anayse the genres information of the dataset "
      ]
    },
    {
      "cell_type": "code",
      "execution_count": 17,
      "metadata": {
        "colab": {
          "base_uri": "https://localhost:8080/",
          "height": 437
        },
        "id": "qVkR5v2CZuhg",
        "outputId": "d85f754d-df84-49ea-cd9b-f0993a8cc5d6"
      },
      "outputs": [
        {
          "output_type": "display_data",
          "data": {
            "image/png": "[encoded data removed]",
            "text/plain": [
              "<Figure size 1080x432 with 1 Axes>"
            ]
          },
          "metadata": {
            "needs_background": "light"
          }
        }
      ],
      "source": [
        "df_genres = df_items.iloc[:,5:].sum().sort_values(ascending=False)\n",
        "df_genres.head(5)\n",
        "\n",
        "plt.figure(figsize=(15,6))\n",
        "df_genres.plot.bar()\n",
        "plt.xticks(rotation=45)\n",
        "plt.title('Movies per genre', fontsize = 16)\n",
        "plt.show();"
      ]
    },
    {
      "cell_type": "code",
      "execution_count": 18,
      "metadata": {
        "colab": {
          "base_uri": "https://localhost:8080/",
          "height": 367
        },
        "id": "VCj-vmSRZuhg",
        "outputId": "58727339-7e18-45c8-882b-88fd8f3a80c1"
      },
      "outputs": [
        {
          "output_type": "execute_result",
          "data": {
            "text/plain": [
              "(array([6.900e+01, 2.025e+03, 0.000e+00, 1.322e+03, 0.000e+00, 4.210e+02,\n",
              "        1.000e+02, 0.000e+00, 1.400e+01, 1.000e+00]),\n",
              " array([0. , 0.6, 1.2, 1.8, 2.4, 3. , 3.6, 4.2, 4.8, 5.4, 6. ]),\n",
              " <a list of 10 Patch objects>)"
            ]
          },
          "metadata": {},
          "execution_count": 18
        },
        {
          "output_type": "display_data",
          "data": {
            "image/png": "[encoded data removed]",
            "text/plain": [
              "<Figure size 1080x288 with 1 Axes>"
            ]
          },
          "metadata": {
            "needs_background": "light"
          }
        }
      ],
      "source": [
        "fig, ax = plt.subplots(1, 1, sharex='col', sharey='row', figsize=(15, 4))\n",
        "\n",
        "geners_per_item = df_items.iloc[:,5:].sum(axis = 1)\n",
        "ax.set_title('Histogram  of number of genres per item ', fontsize = 16)\n",
        "ax.set_xlabel('Number of generes')\n",
        "ax.set_ylabel('Number of items')\n",
        "ax.hist(geners_per_item)"
      ]
    },
    {
      "cell_type": "markdown",
      "metadata": {
        "id": "Y0spBLp06JRG"
      },
      "source": [
        "# Baseline Model Implementation & Evaluation \n",
        "\n",
        "In this section we reproduce the results from the original paper\n"
      ]
    },
    {
      "cell_type": "code",
      "execution_count": 19,
      "metadata": {
        "colab": {
          "base_uri": "https://localhost:8080/"
        },
        "id": "8Vlj3_vd6JRG",
        "outputId": "3fb4273d-7a80-426c-9b44-835e54e8d4dd"
      },
      "outputs": [
        {
          "output_type": "stream",
          "name": "stdout",
          "text": [
            "Using device: cuda\n"
          ]
        }
      ],
      "source": [
        "device = torch.device('cuda' if torch.cuda.is_available() else 'cpu')\n",
        "print('Using device:', device)"
      ]
    },
    {
      "cell_type": "markdown",
      "metadata": {
        "id": "Ie9PuRdK8h7-"
      },
      "source": [
        "## Baseline algorithm - Matrix Factorization Neural Network"
      ]
    },
    {
      "cell_type": "code",
      "execution_count": 20,
      "metadata": {
        "id": "F2nIGsyX6JRG"
      },
      "outputs": [],
      "source": [
        "class MF_NN(nn.Module):\n",
        "    def __init__(self, max_user_id, max_item_id,latent_dim_mf):\n",
        "        super(MF_NN , self).__init__()\n",
        "\n",
        "        self.embedding_user_mf = Embedding(num_embeddings=max_user_id, embedding_dim=latent_dim_mf)\n",
        "        self.embedding_item_mf = Embedding(num_embeddings=max_item_id, embedding_dim=latent_dim_mf)\n",
        "    \n",
        "    def forward(self, user_indices, item_indices):\n",
        "        \n",
        "        user_embedding_mf = self.embedding_user_mf(user_indices)\n",
        "        item_embedding_mf = self.embedding_item_mf(item_indices)\n",
        "    \n",
        "        mf_vector =torch.mul(user_embedding_mf, item_embedding_mf)\n",
        "        mf_result = mf_vector.sum(dim = 1)  # dim 0 is the batch \n",
        "        \n",
        "        return mf_result\n",
        "    \n",
        "    def num_params(self):\n",
        "       return sum(p.numel() for p in self.parameters() if p.requires_grad)"
      ]
    },
    {
      "cell_type": "markdown",
      "metadata": {
        "id": "qpw4_KuBtvpZ"
      },
      "source": [
        "## Original \"AutoRec\" Architechture Model"
      ]
    },
    {
      "cell_type": "code",
      "execution_count": 21,
      "metadata": {
        "id": "fnAiq3rq6JRH"
      },
      "outputs": [],
      "source": [
        "class AutoRec(nn.Module):\n",
        "    def __init__(self, input_dim , hidden_dims = [500], dropout = 0,activation=Sigmoid(),bn=False): # Must have at least 1 hidden layer\n",
        "        super(AutoRec , self).__init__()\n",
        "       \n",
        "        layers = []\n",
        "        #checking odd number of layers\n",
        "        assert(len(hidden_dims)%2==1)\n",
        "        middle_layer=int(len(hidden_dims)/2)+1\n",
        "        # Linear  Hidden Layers \n",
        "        for layer_num  in range(len(hidden_dims)):\n",
        "            if layer_num == 0:\n",
        "                num_in_channels = input_dim\n",
        "            else:\n",
        "                num_in_channels = hidden_dims[layer_num - 1]\n",
        "            linear1 = Linear(num_in_channels, hidden_dims[layer_num])\n",
        "            layers.append(linear1)\n",
        "            # nn.init.normal_(linear1.weight, 0, 0.03)\n",
        "            # nn.init.xavier_normal_(linear1.weight)\n",
        "            layers.append(activation)   # Activation Layer\n",
        "            #Add Dropout after the layent space - after last encoder layer (or first decoder layer)\n",
        "            if (bn==True):\n",
        "              layers.append(nn.BatchNorm1d(hidden_dims[layer_num]))\n",
        "            if (layer_num==middle_layer-1) & (dropout>0):           \n",
        "              layers.append(nn.Dropout(dropout))\n",
        "       \n",
        "        # Last linear  \n",
        "        linear2 = Linear(hidden_dims[layer_num], input_dim)\n",
        "        layers.append(linear2)\n",
        "        # nn.init.xavier_normal_(linear2.weight)\n",
        "        # nn.init.normal_(linear2.weight, 0, 0.03)\n",
        "        #Trying to add Identity as in the paper\n",
        "        layers.append(Identity())\n",
        "\n",
        "        self.autorec_sequential = nn.Sequential(*layers)\n",
        "    \n",
        "    def forward(self, vect):\n",
        "        \n",
        "        autorec_result = self.autorec_sequential(vect)  #.squeeze()     \n",
        "\n",
        "        return autorec_result\n",
        "    \n",
        "    def num_params(self):\n",
        "       return sum(p.numel() for p in self.parameters() if p.requires_grad)"
      ]
    },
    {
      "cell_type": "markdown",
      "metadata": {
        "id": "oy8BX_3PZuhi"
      },
      "source": [
        "## Training"
      ]
    },
    {
      "cell_type": "markdown",
      "metadata": {
        "id": "ozn154lO6JRH"
      },
      "source": [
        "**Loading the 5 folds of the dataset**"
      ]
    },
    {
      "cell_type": "code",
      "execution_count": 22,
      "metadata": {
        "colab": {
          "base_uri": "https://localhost:8080/"
        },
        "id": "K-FWzg8xXgv8",
        "outputId": "b6e2bf19-dad3-4b57-a6c8-13b770bd28bc"
      },
      "outputs": [
        {
          "output_type": "stream",
          "name": "stdout",
          "text": [
            "(6040, 3952) (6040, 3952)\n"
          ]
        }
      ],
      "source": [
        "# %%time\n",
        "\n",
        "def add_skip_col (df): \n",
        "    indx = 1\n",
        "    for col in df.columns:\n",
        "        while (indx < col):\n",
        "            df.insert(indx-1, indx, np.zeros(df.shape[0])) \n",
        "            indx = indx + 1\n",
        "        indx +=1\n",
        "    return df\n",
        "\n",
        "def add_skip_row (df): \n",
        "    indx = 1\n",
        "    for row in df.index:\n",
        "        while (indx < row):\n",
        "            df.loc[indx+0.5] = np.zeros(test_df.shape[1]) \n",
        "            df = df.sort_index().reset_index(drop = True)  # Reset index\n",
        "        indx = indx + 1     \n",
        "    indx +=1\n",
        "    \n",
        "df_folds = {i:\n",
        "       {'train' : pd.read_csv('{}u{}.base'.format(data_dir,i), delimiter=folds_delim, header=None, names=cols_data).drop_duplicates(),\n",
        "        'test'  : pd.read_csv('{}u{}.test'.format(data_dir,i), delimiter=folds_delim, header=None, names=cols_data).drop_duplicates()\n",
        "       } for i in range(1,6)} \n",
        "\n",
        "def fold2df(i):\n",
        "    train = df_folds[i]['train'].pivot(index = 'user_id', columns ='item_id', values = 'rating').fillna(0)\n",
        "    test  = df_folds[i]['test'].pivot(index = 'user_id', columns ='item_id', values = 'rating').fillna(0)\n",
        "    return train,test \n",
        "\n",
        "def getfulldf(train_fold,test_fold):\n",
        "    train = ratings.copy()\n",
        "    train[:] = 0\n",
        "    test = train.copy() \n",
        "    train.loc[train_fold.index,train_fold.columns] = train_fold.values\n",
        "    test.loc[test_fold.index,test_fold.columns] = test_fold.values\n",
        "    train = add_skip_col(train)\n",
        "    test = add_skip_col(test)\n",
        "    return train,test\n",
        "\n",
        "fold = 2\n",
        "train,test = getfulldf(*fold2df(fold))\n",
        "\n",
        "print(train.shape,test.shape)"
      ]
    },
    {
      "cell_type": "markdown",
      "source": [
        "An attempt to scale the ratings data - didnt improve performance"
      ],
      "metadata": {
        "id": "ZrE1Q7EQE9XS"
      }
    },
    {
      "cell_type": "code",
      "execution_count": 23,
      "metadata": {
        "id": "A6Wh9aEsQ-bX"
      },
      "outputs": [],
      "source": [
        "# scaler = MaxAbsScaler() #StandardScaler()\n",
        "\n",
        "# train = pd.DataFrame(scaler.fit_transform(train),index=train.index,columns=train.columns)\n",
        "# test = pd.DataFrame(scaler.fit_transform(test),index=train.index,columns=train.columns)"
      ]
    },
    {
      "cell_type": "code",
      "execution_count": 24,
      "metadata": {
        "id": "auBtPxrW6JRI"
      },
      "outputs": [],
      "source": [
        "df_ratings_train = df_folds[fold]['train'].drop(['timestamp'], axis = 1)\n",
        "df_ratings_test  = df_folds[fold]['test'].drop(['timestamp'], axis = 1)"
      ]
    },
    {
      "cell_type": "code",
      "execution_count": 25,
      "metadata": {
        "colab": {
          "base_uri": "https://localhost:8080/"
        },
        "id": "e5yan8WP6JRJ",
        "outputId": "757f30bc-abe0-4991-849b-b81051923eae"
      },
      "outputs": [
        {
          "output_type": "execute_result",
          "data": {
            "text/plain": [
              "(6041, 3953)"
            ]
          },
          "metadata": {},
          "execution_count": 25
        }
      ],
      "source": [
        "max_user_id     = df_ratings_train['user_id'].max()+1\n",
        "max_item_id     = df_ratings_train['item_id'].max()+1\n",
        "\n",
        "max_user_id , max_item_id"
      ]
    },
    {
      "cell_type": "markdown",
      "metadata": {
        "id": "ivQ0_Us6Zuhj"
      },
      "source": [
        "**MF Data loader**"
      ]
    },
    {
      "cell_type": "code",
      "execution_count": 26,
      "metadata": {
        "id": "hc6H2Cvn6JRJ"
      },
      "outputs": [],
      "source": [
        "# MF\n",
        "batch_size_mf    = 512\n",
        "\n",
        "train_samples    = torch.tensor(df_ratings_train[['user_id' , 'item_id']].values)\n",
        "train_labels     = torch.tensor(df_ratings_train[ 'rating'].values)\n",
        "ds_train_mf      = torch.utils.data.TensorDataset(train_samples, train_labels)\n",
        "dl_train_mf      = DataLoader(ds_train_mf,batch_size=batch_size_mf,shuffle=True)\n",
        "\n",
        "test_samples     = torch.tensor(df_ratings_test[['user_id' , 'item_id']].values)\n",
        "test_labels      = torch.tensor(df_ratings_test[ 'rating'].values)\n",
        "ds_test_mf       = torch.utils.data.TensorDataset(test_samples, test_labels)\n",
        "dl_test_mf       = DataLoader(ds_test_mf,batch_size=1024,shuffle=False)"
      ]
    },
    {
      "cell_type": "markdown",
      "metadata": {
        "id": "qW22q3JdZuhk"
      },
      "source": [
        "**AutoRec Data loader**"
      ]
    },
    {
      "cell_type": "code",
      "execution_count": 27,
      "metadata": {
        "id": "H8BO8z-a6JRJ"
      },
      "outputs": [],
      "source": [
        "# AutoRec\n",
        "#every row of a user with its rating\n",
        "def create_autorec_dataloader(batch_size=128):\n",
        "  train_samples_users    = torch.tensor(train.values)\n",
        "  train_samples_items    = torch.tensor(train.T.values)\n",
        "  ds_train_users         = torch.utils.data.TensorDataset(train_samples_users,torch.ones(train.shape[0]))\n",
        "  ds_train_items         = torch.utils.data.TensorDataset(train_samples_items,torch.ones(train.shape[1]))\n",
        "\n",
        "  test_samples_users    = torch.tensor(test.values)\n",
        "  test_samples_items    = torch.tensor(test.T.values)\n",
        "  ds_test_users         = torch.utils.data.TensorDataset(test_samples_users,torch.ones(test.shape[0]))\n",
        "  ds_test_items         = torch.utils.data.TensorDataset(test_samples_items,torch.ones(test.shape[1]))\n",
        "  dl_train_users        = DataLoader(ds_train_users,batch_size=batch_size,shuffle=True)\n",
        "  dl_train_items        = DataLoader(ds_train_items,batch_size=batch_size,shuffle=True)\n",
        "  dl_test_users         = DataLoader(ds_test_users,batch_size=1024,shuffle=False) # not used \n",
        "  dl_test_items         = DataLoader(ds_test_items,batch_size=1024,shuffle=False) # not used \n",
        "\n",
        "  return dl_train_users,dl_train_items,ds_test_users,dl_test_items\n"
      ]
    },
    {
      "cell_type": "markdown",
      "metadata": {
        "id": "w7ROfesZZuhl"
      },
      "source": [
        "**Classes for traning the models**"
      ]
    },
    {
      "cell_type": "code",
      "execution_count": 28,
      "metadata": {
        "id": "f6CQ3wZ46JRK"
      },
      "outputs": [],
      "source": [
        "# Class for training and ploting the results \n",
        "class Runner:\n",
        "    def __init__(self):\n",
        "        self.loss_train_arr  = []\n",
        "        self.loss_test_arr   = []\n",
        "    \n",
        "    def train_network(self, optimizer, criterion ,  dl_train ,dl_test  \\\n",
        "                         , num_epoch = 50 , early_stopping = 5,verbose=False,\n",
        "                      scheduler=None):\n",
        "        start_time = timer()\n",
        "                \n",
        "        epochs_without_improvement = 0\n",
        "        best_test_loss             = None \n",
        "            \n",
        "        for epoch in range(num_epoch):         \n",
        "            # Train loop\n",
        "            train_loss = self.epoch_func_train(dl_train,optimizer, criterion)\n",
        "            self.loss_train_arr.append(train_loss)\n",
        "            \n",
        "            # Test  evaluation\n",
        "            test_loss = self.epoch_func_test(dl_test,criterion)\n",
        "            self.loss_test_arr.append(test_loss)\n",
        "            \n",
        "            # Early Stop and best model save \n",
        "            if not best_test_loss or test_loss < best_test_loss:   \n",
        "                best_train_loss = train_loss\n",
        "                best_test_loss  = test_loss\n",
        "                epochs_without_improvement = 0\n",
        "                #print (\"Achieved lower test loss  , save model  at epoch number {} \".format(epoch + 1) )\n",
        "                best_state_dict = copy.deepcopy(self.model.state_dict())\n",
        "            else:\n",
        "                epochs_without_improvement += 1\n",
        "\n",
        "            if epochs_without_improvement == early_stopping:\n",
        "                print (\"Early stoping after {} epochs. Test loss did not imporve for more than {} epcochs\".format(epoch,early_stopping))\n",
        "                # pass #?\n",
        "                break\n",
        "            \n",
        "            # Verbose\n",
        "            if (verbose) & (epoch % int(   max(1,num_epoch/10)   ) == 0):   #  report every 10% of the number of epoch\n",
        "            #if (1):   #  report every 10% of the number of epochs\n",
        "                print(\"Epoch {epoch_id}\".format(epoch_id=epoch + 1),end=',')\n",
        "                print(\"Train loss  : {:.3f}\".format(train_loss),end=',')\n",
        "                print(\"Test loss    : {:.3f}\".format(test_loss))\n",
        "            \n",
        "            if scheduler!=None:\n",
        "              scheduler.step(test_loss)\n",
        "        \n",
        "        # Finish  training \n",
        "        self.model.load_state_dict(best_state_dict)\n",
        "        if (verbose):\n",
        "          print('\\nFinished Training, Train loss={:.3f}, Test loss={:.3f}'.format(best_train_loss ,best_test_loss ))\n",
        "  \n",
        "        end_time      = timer()\n",
        "        self.fit_time = end_time - start_time\n",
        "        return best_train_loss ,best_test_loss\n",
        "        \n",
        "    def loss_graph(self):\n",
        "        fig, ax = plt.subplots(1, 1,figsize=(10, 4))\n",
        "        ax.set_title('Loss vs Epoch')\n",
        "        ax.set_xlabel('epoch')\n",
        "        ax.set_ylabel('loss')\n",
        "        ax.set_yscale('log')\n",
        "        ax.plot(self.loss_train_arr, label=\"Train loss\")\n",
        "        ax.plot(self.loss_test_arr, label=\"Test loss\")\n",
        "        ax.legend()\n"
      ]
    },
    {
      "cell_type": "code",
      "execution_count": 29,
      "metadata": {
        "id": "C5iDQKia6JRK"
      },
      "outputs": [],
      "source": [
        "class Runner_MF(Runner):\n",
        "    \n",
        "    def __init__(self , model , device):\n",
        "        super().__init__()\n",
        "        self.model  = model\n",
        "        self.device = device\n",
        "        \n",
        "    def epoch_func_train(self , dl_train , optimizer, criterion,verbose=False):\n",
        "        num_batches_train = len(dl_train)\n",
        "        train_loss        = 0\n",
        "        for batch  in tqdm(dl_train, disable=(not verbose)):\n",
        "            user_item , label = batch\n",
        "            user   = user_item[:,0]\n",
        "            item   = user_item[:,1]        \n",
        "            # Send tensors to GPU\n",
        "            user   = user.to(self.device)\n",
        "            item   = item.to(self.device)\n",
        "            label  = label.to(self.device).type(torch.float32)\n",
        "                 \n",
        "            pred   = self.model(user , item)\n",
        "            loss   = criterion(pred , label)\n",
        "\n",
        "            optimizer.zero_grad()\n",
        "            loss.backward()\n",
        "            optimizer.step()               \n",
        "            train_loss += loss.item()\n",
        "        \n",
        "        train_loss = train_loss / num_batches_train\n",
        "        return train_loss\n",
        "    \n",
        "    def epoch_func_test(self , dl_test ,criterion):     \n",
        "        num_batches_test = len(dl_test)\n",
        "        test_loss        = 0\n",
        "        for batch  in dl_test:\n",
        "            user_item , label = batch\n",
        "            user   = user_item[:,0]\n",
        "            item   = user_item[:,1]        \n",
        "            # Send tensors to GPU\n",
        "            user  = user.to(self.device)\n",
        "            item  = item.to(self.device)\n",
        "            label = label.to(self.device).type(torch.float32)\n",
        "            with torch.no_grad():     \n",
        "                pred   = self.model(user , item)\n",
        "                loss   = criterion(pred , label)\n",
        "            test_loss += loss.item()\n",
        "        \n",
        "        test_loss = test_loss / num_batches_test\n",
        "        return test_loss\n",
        "      \n",
        "    def predict_all(self , max_user_id , max_item_id): \n",
        "        size = 500 # Break due to memory issues \n",
        "        predictions = torch.ones((max_user_id-1 , max_item_id-1))  \n",
        "        for user_id in range(1 , max_user_id):\n",
        "            user_vector = torch.full( (size,), user_id).to(self.device)\n",
        "            for item_id in range(1 , max_item_id , size): # limit to 100 due to GPU memory \n",
        "                last_item_id = min(item_id+size , max_item_id)\n",
        "                item_vector = torch.arange(item_id,last_item_id).to(self.device)\n",
        "                vect_size = last_item_id-item_id\n",
        "                if vect_size < size:\n",
        "                    user_vector = torch.full( (vect_size,), user_id).to(self.device)  \n",
        "                with torch.no_grad():  \n",
        "                    pred_user = self.model(user_vector , item_vector)\n",
        "                predictions[user_id-1 , item_id-1:last_item_id-1] = pred_user\n",
        "                del item_vector \n",
        "                torch.cuda.empty_cache()   # free memory\n",
        "            del user_vector\n",
        "        return predictions"
      ]
    },
    {
      "cell_type": "code",
      "execution_count": 30,
      "metadata": {
        "id": "fB_IlNhF6JRK"
      },
      "outputs": [],
      "source": [
        "class Runner_AutoRec(Runner):\n",
        "    \n",
        "    def __init__(self , model , train , test , device):\n",
        "        super().__init__()\n",
        "        self.model  = model\n",
        "        self.device = device\n",
        "        self.train  = torch.tensor(train).to(self.device).type(torch.float32)\n",
        "        self.test   = torch.tensor(test).to(self.device).type(torch.float32)\n",
        "        \n",
        "    def epoch_func_train(self , dl_train , optimizer, criterion,verbose=False):\n",
        "        num_batches_train = len(dl_train)\n",
        "        train_loss        = 0\n",
        "        for batch  in tqdm(dl_train,disable=(not verbose)):\n",
        "            vector ,_ = batch  \n",
        "            # Send tensors to GPU\n",
        "            vector = vector.to(self.device).type(torch.float32)\n",
        "            pred   = self.model(vector)\n",
        "            loss   = criterion(pred , vector)\n",
        "\n",
        "            optimizer.zero_grad()\n",
        "            loss.backward()\n",
        "            optimizer.step()               \n",
        "            train_loss += loss.item()\n",
        "        \n",
        "        train_loss = train_loss / num_batches_train\n",
        "        return train_loss\n",
        "    \n",
        "    def epoch_func_test(self , dl_test,criterion):\n",
        "        with torch.no_grad():\n",
        "            pred      = self.predict_all(self.train)\n",
        "            test_loss = criterion(pred , self.test)        \n",
        "        return test_loss.item()\n",
        "        \n",
        "    def predict_all(self , ratings): \n",
        "        ratings_t = torch.tensor(ratings).to(self.device).type(torch.float32)\n",
        "        predictions = self.model(ratings_t)\n",
        "        return predictions"
      ]
    },
    {
      "cell_type": "markdown",
      "metadata": {
        "id": "P-dMBKtDZuhm"
      },
      "source": [
        "## Metrics For Evaluation"
      ]
    },
    {
      "cell_type": "code",
      "execution_count": 31,
      "metadata": {
        "id": "gtKq0geIZuhn"
      },
      "outputs": [],
      "source": [
        "class my_metrics():\n",
        "    \n",
        "    def clean_data(df_true,df_pred,lower_bound,upper_bound):   # All inputs are  numpy\n",
        "        \n",
        "        # zero the values  of both true and prediction for non valid ground true\n",
        "        # df_pred never has zeros or nulls, as it is requested to predict on every cell       \n",
        "        assert(df_true.shape==df_pred.shape,'true shape:{} and pred shape:{}, dataframes shapes are different'.format(df_true.shape,df_pred.shape))\n",
        "        \n",
        "        idx_ignore           = np.where( (df_true < lower_bound) |  (df_true > upper_bound ) ) \n",
        "        number_valid_ratings = df_true.size   - len(idx_ignore[0]) \n",
        "        true_values          = np.copy(df_true)\n",
        "        true_values[idx_ignore]  = 0 # will not add to the  score \n",
        "        pred_values              = np.copy(df_pred)\n",
        "        pred_values[idx_ignore]  = 0 # will not add to the  score \n",
        "              \n",
        "        return true_values , pred_values , number_valid_ratings \n",
        "        \n",
        "    def RMSE(df_true,df_pred,lower_bound=1,upper_bound=5):\n",
        "        \n",
        "        true_values , pred_values , number_valid_ratings = my_metrics.clean_data(df_true,df_pred,lower_bound,upper_bound)\n",
        "                \n",
        "        return ( ((true_values - pred_values)**2).sum() /(number_valid_ratings))**0.5\n",
        "          \n",
        "    def MRR(df_true,df_pred,lower_bound=1,upper_bound=5,top_n=5,relevancy_threshold=3):\n",
        "        # please use MRR_for_user\n",
        "        # ignore in the prediction  for  non valid ratings \n",
        "        true_values , pred_values , number_valid_ratings = my_metrics.clean_data(df_true,df_pred,lower_bound,upper_bound)    \n",
        "        num_of_users = df_true.shape[0]\n",
        "        mrr_sum = 0\n",
        "        for user_id in range(num_of_users):\n",
        "            \n",
        "            mrr , reduce_user = my_metrics.MRR_for_user(true_values[user_id,:],pred_values[user_id,:],\\\n",
        "                                               lower_bound,upper_bound,top_n,relevancy_threshold)\n",
        "            \n",
        "            mrr_sum += mrr\n",
        "            num_of_users -= reduce_user\n",
        "           \n",
        "        return  mrr_sum/num_of_users\n",
        "    \n",
        "    def MRR_for_user(user_true,user_pred,lower_bound,upper_bound,top_n,relevancy_threshold):\n",
        "\n",
        "        relevant_vector   = (user_true >=relevancy_threshold)*1\n",
        "        if (relevant_vector.sum() == 0):\n",
        "            reduce_user = 1\n",
        "            mrr         = 0\n",
        "        else:\n",
        "            reduce_user = 0\n",
        "            # extract top n prediction \n",
        "            pred_top_n_items  = (-user_pred).argsort()[0:top_n]\n",
        "            # check the top_n in the relevant vector \n",
        "            relevant_vector_top_n = relevant_vector[pred_top_n_items]\n",
        "        \n",
        "            # Find the first relevant  index\n",
        "            relevant_idx = np.nonzero(relevant_vector_top_n)\n",
        "        \n",
        "            if len(relevant_idx[0]) ==  0:\n",
        "                mrr = 0\n",
        "            else:\n",
        "                mrr =  1/(relevant_idx[0][0]+1)\n",
        "           \n",
        "        return mrr , reduce_user\n",
        "    \n",
        "    def NDCG(df_true,df_pred,lower_bound=1,upper_bound=5,top_n=5):\n",
        "        # please use NDCG_for_user\n",
        "        \n",
        "        # ignore in the score the ground true that has non valid ratings \n",
        "        true_values , pred_values , number_valid_ratings = my_metrics.clean_data(df_true,df_pred,lower_bound,upper_bound)            \n",
        "        num_of_users = df_true.shape[0]\n",
        "        \n",
        "        nDCG_sum = 0\n",
        "        for user_id in range(num_of_users):\n",
        "            nDCG , reduce_user = my_metrics.NDCG_for_user(true_values[user_id,:],pred_values[user_id,:],lower_bound,upper_bound,top_n)\n",
        "            nDCG_sum += nDCG\n",
        "            num_of_users -= reduce_user\n",
        "        \n",
        "        return  nDCG_sum/num_of_users\n",
        "        \n",
        "    def NDCG_for_user(user_true,user_pred,lower_bound,upper_bound,top_n):\n",
        "        # please use DCG function\n",
        "        \n",
        "        reduce_user       = (np.count_nonzero(user_true) == 0)*1    \n",
        "        \n",
        "        pred_sort         = (-user_pred).argsort()\n",
        "        relevant_vector   = user_true[pred_sort][0:top_n]\n",
        "        \n",
        "        # DCG\n",
        "        DCG_score         = my_metrics.DCG(relevant_vector , top_n)\n",
        "        \n",
        "        #IDCG\n",
        "        relevant_vector_ideal = np.sort(relevant_vector)[::-1] # max to min \n",
        "        IDCG_score            = my_metrics.DCG(relevant_vector_ideal , top_n)\n",
        "        \n",
        "        if (IDCG_score == 0):\n",
        "            return 0 , reduce_user\n",
        "        else: \n",
        "            return DCG_score/IDCG_score , reduce_user\n",
        "    \n",
        "    def DCG(rel,n):\n",
        "        # please implement the DCG formula\n",
        "\n",
        "        decay_vector  =   np.log2(np.arange(start = 1 , stop = n+1 , step = 1) +1 )\n",
        "        return        ((rel/decay_vector)).sum()\n",
        "       \n",
        "    def get_error(df_true,df_pred):        \n",
        "        return {'RMSE':my_metrics.RMSE(df_true,df_pred,),'MRR_5':my_metrics.MRR(df_true,df_pred,top_n=5),'MRR_10':my_metrics.MRR(df_true,df_pred,top_n=10),'NDCG_5':my_metrics.NDCG(df_true,df_pred,top_n=5),'NDCG_10':my_metrics.NDCG(df_true,df_pred,top_n=10)}\n"
      ]
    },
    {
      "cell_type": "code",
      "execution_count": 32,
      "metadata": {
        "id": "nVzU7rJd6JRL"
      },
      "outputs": [],
      "source": [
        "def autorec_mse_loss (pred , label):  # receives Tensors \n",
        "    # Zero all pred where label is also zero (no ratings available)\n",
        "    zero_indx = (label == 0)\n",
        "    cnt_nonzero = torch.count_nonzero(label).item()\n",
        "    pred[zero_indx] = 0\n",
        "    cnt_nonzero = max(1,cnt_nonzero)  # sometimes no ratings\n",
        "    return  ( ((pred - label)**2).sum() / cnt_nonzero ) "
      ]
    },
    {
      "cell_type": "code",
      "execution_count": 33,
      "metadata": {
        "id": "7GTpIxdD6JRL"
      },
      "outputs": [],
      "source": [
        "final_results = pd.DataFrame(columns=['Method','RMSE','MRR_5','MRR_10','NDCG_5','NDCG_10','Time','Params'])\n",
        "\n",
        "def model_eval (name , runner , test,pred ,save_results = True):\n",
        "    rmse   = round(my_metrics.RMSE(test ,pred)   , 3)\n",
        "    mrr10  = round(my_metrics.MRR(test,pred,top_n=10 , relevancy_threshold=3)  , 3)\n",
        "    mrr5   = round(my_metrics.MRR(test,pred,top_n=5 , relevancy_threshold=3) , 3) \n",
        "    ndcg10 = round(my_metrics.NDCG(test,pred,top_n=10) , 3)\n",
        "    ndcg5  = round(my_metrics.NDCG(test,pred,top_n=5) , 3)\n",
        "    time   = runner.fit_time\n",
        "    params = runner.model.num_params()\n",
        "    \n",
        "    if (save_results == True):\n",
        "        final_results.loc[len(final_results)] = name , rmse, mrr10 , mrr5 , ndcg10, ndcg5 , time , params\n",
        "    \n",
        "    return name , rmse, mrr10 , mrr5 , ndcg10, ndcg5 , time , params"
      ]
    },
    {
      "cell_type": "code",
      "execution_count": 34,
      "metadata": {
        "id": "EcZL-6da6JRL"
      },
      "outputs": [],
      "source": [
        "def init_param(model):\n",
        "    for param in model.named_parameters():\n",
        "      param[1].data.normal_(0.0 ,0.03)\n",
        "        # param[1].data.normal_(0.0 ,0.01)"
      ]
    },
    {
      "cell_type": "markdown",
      "metadata": {
        "id": "FulR8E-U-URS"
      },
      "source": [
        "## Training the Baseline MF"
      ]
    },
    {
      "cell_type": "code",
      "execution_count": 35,
      "metadata": {
        "colab": {
          "base_uri": "https://localhost:8080/",
          "height": 572
        },
        "id": "lm-_pAp_6JRL",
        "outputId": "09925616-4188-447d-add9-76b7829ea147",
        "scrolled": true
      },
      "outputs": [
        {
          "output_type": "stream",
          "name": "stdout",
          "text": [
            "MF_NN(\n",
            "  (embedding_user_mf): Embedding(6041, 20)\n",
            "  (embedding_item_mf): Embedding(3953, 20)\n",
            ") \n",
            "\n",
            "Model parameters: 199880\n",
            "Epoch 1,Train loss  : 7.068,Test loss    : 1.394\n",
            "Epoch 6,Train loss  : 0.826,Test loss    : 0.834\n",
            "Epoch 11,Train loss  : 0.744,Test loss    : 0.777\n",
            "Epoch 16,Train loss  : 0.667,Test loss    : 0.749\n",
            "Epoch 21,Train loss  : 0.600,Test loss    : 0.752\n",
            "Early stoping after 23 epochs. Test loss did not imporve for more than 5 epcochs\n",
            "\n",
            "Finished Training, Train loss=0.624, Test loss=0.747\n",
            "CPU times: user 3min 1s, sys: 2.98 s, total: 3min 4s\n",
            "Wall time: 3min 8s\n"
          ]
        },
        {
          "output_type": "display_data",
          "data": {
            "image/png": "[encoded data removed]",
            "text/plain": [
              "<Figure size 720x288 with 1 Axes>"
            ]
          },
          "metadata": {
            "needs_background": "light"
          }
        }
      ],
      "source": [
        "%%time\n",
        "\n",
        "def train_mf_nn(latent_dim=20,lr=1e-3,epochs=10,verbose=False):\n",
        "  mf_criterion  = nn.MSELoss() \n",
        "  #Re-using the same hyper paramter of \"hidden_dims\" for the latent space dim \n",
        "  mf_model      = MF_NN(max_user_id, max_item_id,latent_dim_mf=latent_dim).to(device)  \n",
        "\n",
        "  init_param(mf_model)  # for normal dist\n",
        "  num_params = mf_model.num_params()\n",
        "  if verbose:\n",
        "    print(mf_model,\"\\n\")\n",
        "    print('Model parameters:',num_params)\n",
        "  mf_optim  = Adam(mf_model.parameters(), lr=lr) \n",
        "        \n",
        "  runner_mf = Runner_MF(mf_model,device)  \n",
        "  train_loss,val_loss = runner_mf.train_network(mf_optim, mf_criterion , dl_train_mf ,\n",
        "                                                dl_test_mf, num_epoch = epochs , early_stopping = 5,verbose=verbose)\n",
        "  return runner_mf,train_loss,val_loss\n",
        "\n",
        "def evaluate_mf_nn(runner_mf, model_name = 'MF_NN'):\n",
        "  # Evaluation\n",
        "  pred   = runner_mf.predict_all(max_user_id , max_item_id).detach().cpu().numpy()\n",
        "  return model_eval(model_name , runner_mf , test.values,pred)\n",
        "\n",
        "#TODO UNCOMMENT for plotting\n",
        "runner_mf,_,_ = train_mf_nn(epochs=50,verbose=True)\n",
        "evaluate_mf_nn(runner_mf)\n",
        "\n",
        "runner_mf.loss_graph()\n"
      ]
    },
    {
      "cell_type": "code",
      "execution_count": 36,
      "metadata": {
        "id": "9BYi-YhB8vXh",
        "colab": {
          "base_uri": "https://localhost:8080/",
          "height": 81
        },
        "outputId": "53ef0616-0274-4fd8-c6e4-083532e300ad"
      },
      "outputs": [
        {
          "output_type": "execute_result",
          "data": {
            "text/html": [
              "\n",
              "  <div id=\"df-b4f5d742-5e53-4336-bc05-5346b2c5c51f\">\n",
              "    <div class=\"colab-df-container\">\n",
              "      <div>\n",
              "<style scoped>\n",
              "    .dataframe tbody tr th:only-of-type {\n",
              "        vertical-align: middle;\n",
              "    }\n",
              "\n",
              "    .dataframe tbody tr th {\n",
              "        vertical-align: top;\n",
              "    }\n",
              "\n",
              "    .dataframe thead th {\n",
              "        text-align: right;\n",
              "    }\n",
              "</style>\n",
              "<table border=\"1\" class=\"dataframe\">\n",
              "  <thead>\n",
              "    <tr style=\"text-align: right;\">\n",
              "      <th></th>\n",
              "      <th>Method</th>\n",
              "      <th>RMSE</th>\n",
              "      <th>MRR_5</th>\n",
              "      <th>MRR_10</th>\n",
              "      <th>NDCG_5</th>\n",
              "      <th>NDCG_10</th>\n",
              "      <th>Time</th>\n",
              "      <th>Params</th>\n",
              "    </tr>\n",
              "  </thead>\n",
              "  <tbody>\n",
              "    <tr>\n",
              "      <th>0</th>\n",
              "      <td>MF_NN</td>\n",
              "      <td>0.864</td>\n",
              "      <td>0.987</td>\n",
              "      <td>0.987</td>\n",
              "      <td>0.967</td>\n",
              "      <td>0.971</td>\n",
              "      <td>168.180904</td>\n",
              "      <td>199880</td>\n",
              "    </tr>\n",
              "  </tbody>\n",
              "</table>\n",
              "</div>\n",
              "      <button class=\"colab-df-convert\" onclick=\"convertToInteractive('df-b4f5d742-5e53-4336-bc05-5346b2c5c51f')\"\n",
              "              title=\"Convert this dataframe to an interactive table.\"\n",
              "              style=\"display:none;\">\n",
              "        \n",
              "  <svg xmlns=\"http://www.w3.org/2000/svg\" height=\"24px\"viewBox=\"0 0 24 24\"\n",
              "       width=\"24px\">\n",
              "    <path d=\"M0 0h24v24H0V0z\" fill=\"none\"/>\n",
              "    <path d=\"M18.56 5.44l.94 2.06.94-2.06 2.06-.94-2.06-.94-.94-2.06-.94 2.06-2.06.94zm-11 1L8.5 8.5l.94-2.06 2.06-.94-2.06-.94L8.5 2.5l-.94 2.06-2.06.94zm10 10l.94 2.06.94-2.06 2.06-.94-2.06-.94-.94-2.06-.94 2.06-2.06.94z\"/><path d=\"M17.41 7.96l-1.37-1.37c-.4-.4-.92-.59-1.43-.59-.52 0-1.04.2-1.43.59L10.3 9.45l-7.72 7.72c-.78.78-.78 2.05 0 2.83L4 21.41c.39.39.9.59 1.41.59.51 0 1.02-.2 1.41-.59l7.78-7.78 2.81-2.81c.8-.78.8-2.07 0-2.86zM5.41 20L4 18.59l7.72-7.72 1.47 1.35L5.41 20z\"/>\n",
              "  </svg>\n",
              "      </button>\n",
              "      \n",
              "  <style>\n",
              "    .colab-df-container {\n",
              "      display:flex;\n",
              "      flex-wrap:wrap;\n",
              "      gap: 12px;\n",
              "    }\n",
              "\n",
              "    .colab-df-convert {\n",
              "      background-color: #E8F0FE;\n",
              "      border: none;\n",
              "      border-radius: 50%;\n",
              "      cursor: pointer;\n",
              "      display: none;\n",
              "      fill: #1967D2;\n",
              "      height: 32px;\n",
              "      padding: 0 0 0 0;\n",
              "      width: 32px;\n",
              "    }\n",
              "\n",
              "    .colab-df-convert:hover {\n",
              "      background-color: #E2EBFA;\n",
              "      box-shadow: 0px 1px 2px rgba(60, 64, 67, 0.3), 0px 1px 3px 1px rgba(60, 64, 67, 0.15);\n",
              "      fill: #174EA6;\n",
              "    }\n",
              "\n",
              "    [theme=dark] .colab-df-convert {\n",
              "      background-color: #3B4455;\n",
              "      fill: #D2E3FC;\n",
              "    }\n",
              "\n",
              "    [theme=dark] .colab-df-convert:hover {\n",
              "      background-color: #434B5C;\n",
              "      box-shadow: 0px 1px 3px 1px rgba(0, 0, 0, 0.15);\n",
              "      filter: drop-shadow(0px 1px 2px rgba(0, 0, 0, 0.3));\n",
              "      fill: #FFFFFF;\n",
              "    }\n",
              "  </style>\n",
              "\n",
              "      <script>\n",
              "        const buttonEl =\n",
              "          document.querySelector('#df-b4f5d742-5e53-4336-bc05-5346b2c5c51f button.colab-df-convert');\n",
              "        buttonEl.style.display =\n",
              "          google.colab.kernel.accessAllowed ? 'block' : 'none';\n",
              "\n",
              "        async function convertToInteractive(key) {\n",
              "          const element = document.querySelector('#df-b4f5d742-5e53-4336-bc05-5346b2c5c51f');\n",
              "          const dataTable =\n",
              "            await google.colab.kernel.invokeFunction('convertToInteractive',\n",
              "                                                     [key], {});\n",
              "          if (!dataTable) return;\n",
              "\n",
              "          const docLinkHtml = 'Like what you see? Visit the ' +\n",
              "            '<a target=\"_blank\" href=https://colab.research.google.com/notebooks/data_table.ipynb>data table notebook</a>'\n",
              "            + ' to learn more about interactive tables.';\n",
              "          element.innerHTML = '';\n",
              "          dataTable['output_type'] = 'display_data';\n",
              "          await google.colab.output.renderOutput(dataTable, element);\n",
              "          const docLink = document.createElement('div');\n",
              "          docLink.innerHTML = docLinkHtml;\n",
              "          element.appendChild(docLink);\n",
              "        }\n",
              "      </script>\n",
              "    </div>\n",
              "  </div>\n",
              "  "
            ],
            "text/plain": [
              "  Method   RMSE  MRR_5  MRR_10  NDCG_5  NDCG_10        Time  Params\n",
              "0  MF_NN  0.864  0.987   0.987   0.967    0.971  168.180904  199880"
            ]
          },
          "metadata": {},
          "execution_count": 36
        }
      ],
      "source": [
        "final_results"
      ]
    },
    {
      "cell_type": "markdown",
      "metadata": {
        "id": "X67LvcHBOheH"
      },
      "source": [
        "## AutoRec User - Reporduing the RMSE results from the paper"
      ]
    },
    {
      "cell_type": "code",
      "execution_count": 37,
      "metadata": {
        "colab": {
          "base_uri": "https://localhost:8080/",
          "height": 694
        },
        "id": "-vX-m4a66JRM",
        "outputId": "534381aa-c81e-46a8-a344-c903dc41a673"
      },
      "outputs": [
        {
          "output_type": "stream",
          "name": "stdout",
          "text": [
            "AutoRec(\n",
            "  (autorec_sequential): Sequential(\n",
            "    (0): Linear(in_features=3952, out_features=100, bias=True)\n",
            "    (1): Sigmoid()\n",
            "    (2): Linear(in_features=100, out_features=3952, bias=True)\n",
            "    (3): Identity()\n",
            "  )\n",
            ") \n",
            "\n",
            "Model parameters: 794452\n",
            "Epoch 1,Train loss  : 11.173,Test loss    : 6.915\n",
            "Epoch 51,Train loss  : 0.831,Test loss    : 0.859\n",
            "Epoch 101,Train loss  : 0.737,Test loss    : 0.795\n",
            "Epoch 151,Train loss  : 0.704,Test loss    : 0.783\n",
            "Epoch 201,Train loss  : 0.684,Test loss    : 0.778\n",
            "Epoch 251,Train loss  : 0.668,Test loss    : 0.776\n",
            "Epoch 301,Train loss  : 0.662,Test loss    : 0.773\n",
            "Early stoping after 324 epochs. Test loss did not imporve for more than 30 epcochs\n",
            "\n",
            "Finished Training, Train loss=0.662, Test loss=0.773\n",
            "('AutoRec_User', 0.879, 0.988, 0.988, 0.968, 0.972, 124.19743664099997, 794452)\n",
            "CPU times: user 2min 10s, sys: 1.41 s, total: 2min 11s\n",
            "Wall time: 2min 10s\n"
          ]
        },
        {
          "output_type": "display_data",
          "data": {
            "image/png": "[encoded data removed]",
            "text/plain": [
              "<Figure size 720x288 with 1 Axes>"
            ]
          },
          "metadata": {
            "needs_background": "light"
          }
        }
      ],
      "source": [
        "%%time\n",
        "\n",
        "'''\n",
        "100K\n",
        "\n",
        "1M\n",
        "AutoRec User - Best Test RMSE=0.876\n",
        "Hyperparameters used: {'Iterations': 500, 'Hid_dim_size': 100, 'Learning_Rate': 0.003, 'Dropout': 0, 'Batch_size': 1024\n",
        "'''\n",
        "\n",
        "def train_autorec_user(hidden_dims=[100],lr=0.003,epochs=500,dropout=0,batch_size=1024,verbose=False,activation=Sigmoid(),optimizer='adam',bn=False):\n",
        "  autorec_user_criterion  = autorec_mse_loss\n",
        "\n",
        "  autorec_user_model      = AutoRec(input_dim = train.shape[1],hidden_dims = hidden_dims,dropout=dropout,activation=activation,bn=bn).to(device)\n",
        "\n",
        "  # init_param(autorec_user_model)  # for normal dist\n",
        "  num_params = autorec_user_model.num_params()\n",
        "  if verbose:          \n",
        "    print(autorec_user_model,\"\\n\")\n",
        "    print('Model parameters:',num_params)\n",
        "  \n",
        "  if optimizer=='adam':\n",
        "    autorec_user_optim  = Adam(autorec_user_model.parameters(), lr=lr,weight_decay=2*1e-4) \n",
        "  else:\n",
        "    print('SGD')\n",
        "    autorec_user_optim  = SGD(autorec_user_model.parameters(), lr=lr,weight_decay=2*1e-4,momentum=0.9) \n",
        "  scheduler = lr_scheduler.ReduceLROnPlateau(autorec_user_optim, mode='min', \n",
        "                                             factor=0.7, patience=10,min_lr=0.0001, verbose=False)\n",
        "  \n",
        "  #create the data loader\n",
        "  dl_train_users ,dl_test_users,_,_ = create_autorec_dataloader(batch_size)\n",
        "  \n",
        "  runner_autorec_user = Runner_AutoRec(autorec_user_model, train.values , test.values , device)\n",
        "  train_loss,val_loss = runner_autorec_user.train_network(autorec_user_optim, autorec_user_criterion , dl_train_users ,dl_test_users, \\\n",
        "                                  num_epoch = epochs , early_stopping = 30,verbose=verbose,scheduler=scheduler)\n",
        "\n",
        "  return runner_autorec_user,train_loss,val_loss\n",
        "\n",
        "def evaluate_autorec_user(runner_autorec_user,save_results , model_name = 'AutoRec_User'):\n",
        "  # Evaluation\n",
        "  pred = runner_autorec_user.predict_all(train.values).detach().cpu().numpy()\n",
        "  return model_eval (model_name , runner_autorec_user , test.values,pred,save_results)\n",
        "\n",
        "#TODO UNCOMMENT for plotting\n",
        "runner_autorec_user,_,_ = train_autorec_user(verbose=True)\n",
        "print(evaluate_autorec_user(runner_autorec_user,save_results = True))\n",
        "\n",
        "runner_autorec_user.loss_graph()"
      ]
    },
    {
      "cell_type": "code",
      "execution_count": 38,
      "metadata": {
        "id": "MOPe7BFL8vXh",
        "colab": {
          "base_uri": "https://localhost:8080/",
          "height": 143
        },
        "outputId": "70ac3835-ec27-48fb-cc6d-fa326604b465"
      },
      "outputs": [
        {
          "output_type": "execute_result",
          "data": {
            "text/html": [
              "\n",
              "  <div id=\"df-f0bca23c-800c-4a82-ac03-ac1ef897bd7e\">\n",
              "    <div class=\"colab-df-container\">\n",
              "      <div>\n",
              "<style scoped>\n",
              "    .dataframe tbody tr th:only-of-type {\n",
              "        vertical-align: middle;\n",
              "    }\n",
              "\n",
              "    .dataframe tbody tr th {\n",
              "        vertical-align: top;\n",
              "    }\n",
              "\n",
              "    .dataframe thead th {\n",
              "        text-align: right;\n",
              "    }\n",
              "</style>\n",
              "<table border=\"1\" class=\"dataframe\">\n",
              "  <thead>\n",
              "    <tr style=\"text-align: right;\">\n",
              "      <th></th>\n",
              "      <th>RMSE</th>\n",
              "      <th>MRR_5</th>\n",
              "      <th>MRR_10</th>\n",
              "      <th>NDCG_5</th>\n",
              "      <th>NDCG_10</th>\n",
              "      <th>Time</th>\n",
              "    </tr>\n",
              "    <tr>\n",
              "      <th>Method</th>\n",
              "      <th></th>\n",
              "      <th></th>\n",
              "      <th></th>\n",
              "      <th></th>\n",
              "      <th></th>\n",
              "      <th></th>\n",
              "    </tr>\n",
              "  </thead>\n",
              "  <tbody>\n",
              "    <tr>\n",
              "      <th>AutoRec_User</th>\n",
              "      <td>0.879</td>\n",
              "      <td>0.988</td>\n",
              "      <td>0.988</td>\n",
              "      <td>0.968</td>\n",
              "      <td>0.972</td>\n",
              "      <td>124.197437</td>\n",
              "    </tr>\n",
              "    <tr>\n",
              "      <th>MF_NN</th>\n",
              "      <td>0.864</td>\n",
              "      <td>0.987</td>\n",
              "      <td>0.987</td>\n",
              "      <td>0.967</td>\n",
              "      <td>0.971</td>\n",
              "      <td>168.180904</td>\n",
              "    </tr>\n",
              "  </tbody>\n",
              "</table>\n",
              "</div>\n",
              "      <button class=\"colab-df-convert\" onclick=\"convertToInteractive('df-f0bca23c-800c-4a82-ac03-ac1ef897bd7e')\"\n",
              "              title=\"Convert this dataframe to an interactive table.\"\n",
              "              style=\"display:none;\">\n",
              "        \n",
              "  <svg xmlns=\"http://www.w3.org/2000/svg\" height=\"24px\"viewBox=\"0 0 24 24\"\n",
              "       width=\"24px\">\n",
              "    <path d=\"M0 0h24v24H0V0z\" fill=\"none\"/>\n",
              "    <path d=\"M18.56 5.44l.94 2.06.94-2.06 2.06-.94-2.06-.94-.94-2.06-.94 2.06-2.06.94zm-11 1L8.5 8.5l.94-2.06 2.06-.94-2.06-.94L8.5 2.5l-.94 2.06-2.06.94zm10 10l.94 2.06.94-2.06 2.06-.94-2.06-.94-.94-2.06-.94 2.06-2.06.94z\"/><path d=\"M17.41 7.96l-1.37-1.37c-.4-.4-.92-.59-1.43-.59-.52 0-1.04.2-1.43.59L10.3 9.45l-7.72 7.72c-.78.78-.78 2.05 0 2.83L4 21.41c.39.39.9.59 1.41.59.51 0 1.02-.2 1.41-.59l7.78-7.78 2.81-2.81c.8-.78.8-2.07 0-2.86zM5.41 20L4 18.59l7.72-7.72 1.47 1.35L5.41 20z\"/>\n",
              "  </svg>\n",
              "      </button>\n",
              "      \n",
              "  <style>\n",
              "    .colab-df-container {\n",
              "      display:flex;\n",
              "      flex-wrap:wrap;\n",
              "      gap: 12px;\n",
              "    }\n",
              "\n",
              "    .colab-df-convert {\n",
              "      background-color: #E8F0FE;\n",
              "      border: none;\n",
              "      border-radius: 50%;\n",
              "      cursor: pointer;\n",
              "      display: none;\n",
              "      fill: #1967D2;\n",
              "      height: 32px;\n",
              "      padding: 0 0 0 0;\n",
              "      width: 32px;\n",
              "    }\n",
              "\n",
              "    .colab-df-convert:hover {\n",
              "      background-color: #E2EBFA;\n",
              "      box-shadow: 0px 1px 2px rgba(60, 64, 67, 0.3), 0px 1px 3px 1px rgba(60, 64, 67, 0.15);\n",
              "      fill: #174EA6;\n",
              "    }\n",
              "\n",
              "    [theme=dark] .colab-df-convert {\n",
              "      background-color: #3B4455;\n",
              "      fill: #D2E3FC;\n",
              "    }\n",
              "\n",
              "    [theme=dark] .colab-df-convert:hover {\n",
              "      background-color: #434B5C;\n",
              "      box-shadow: 0px 1px 3px 1px rgba(0, 0, 0, 0.15);\n",
              "      filter: drop-shadow(0px 1px 2px rgba(0, 0, 0, 0.3));\n",
              "      fill: #FFFFFF;\n",
              "    }\n",
              "  </style>\n",
              "\n",
              "      <script>\n",
              "        const buttonEl =\n",
              "          document.querySelector('#df-f0bca23c-800c-4a82-ac03-ac1ef897bd7e button.colab-df-convert');\n",
              "        buttonEl.style.display =\n",
              "          google.colab.kernel.accessAllowed ? 'block' : 'none';\n",
              "\n",
              "        async function convertToInteractive(key) {\n",
              "          const element = document.querySelector('#df-f0bca23c-800c-4a82-ac03-ac1ef897bd7e');\n",
              "          const dataTable =\n",
              "            await google.colab.kernel.invokeFunction('convertToInteractive',\n",
              "                                                     [key], {});\n",
              "          if (!dataTable) return;\n",
              "\n",
              "          const docLinkHtml = 'Like what you see? Visit the ' +\n",
              "            '<a target=\"_blank\" href=https://colab.research.google.com/notebooks/data_table.ipynb>data table notebook</a>'\n",
              "            + ' to learn more about interactive tables.';\n",
              "          element.innerHTML = '';\n",
              "          dataTable['output_type'] = 'display_data';\n",
              "          await google.colab.output.renderOutput(dataTable, element);\n",
              "          const docLink = document.createElement('div');\n",
              "          docLink.innerHTML = docLinkHtml;\n",
              "          element.appendChild(docLink);\n",
              "        }\n",
              "      </script>\n",
              "    </div>\n",
              "  </div>\n",
              "  "
            ],
            "text/plain": [
              "               RMSE  MRR_5  MRR_10  NDCG_5  NDCG_10        Time\n",
              "Method                                                         \n",
              "AutoRec_User  0.879  0.988   0.988   0.968    0.972  124.197437\n",
              "MF_NN         0.864  0.987   0.987   0.967    0.971  168.180904"
            ]
          },
          "metadata": {},
          "execution_count": 38
        }
      ],
      "source": [
        "final_results.groupby('Method').min('RMSE')"
      ]
    },
    {
      "cell_type": "markdown",
      "metadata": {
        "id": "RzZtG-rMOK88"
      },
      "source": [
        "## AutoRec Item - Reporduing the RMSE results from the paper"
      ]
    },
    {
      "cell_type": "code",
      "execution_count": 39,
      "metadata": {
        "id": "XV0sLp-46JRM",
        "colab": {
          "base_uri": "https://localhost:8080/",
          "height": 625
        },
        "outputId": "157894b2-91f3-4614-e24c-923dfdd42e76"
      },
      "outputs": [
        {
          "output_type": "stream",
          "name": "stdout",
          "text": [
            "AutoRec(\n",
            "  (autorec_sequential): Sequential(\n",
            "    (0): Linear(in_features=6040, out_features=400, bias=True)\n",
            "    (1): Sigmoid()\n",
            "    (2): Linear(in_features=400, out_features=6040, bias=True)\n",
            "    (3): Identity()\n",
            "  )\n",
            ") \n",
            "\n",
            "Model parameters: 4838440\n",
            "Epoch 1,Train loss  : 8.869,Test loss    : 2.046\n",
            "Epoch 51,Train loss  : 0.614,Test loss    : 0.727\n",
            "Epoch 101,Train loss  : 0.405,Test loss    : 0.704\n",
            "Early stoping after 120 epochs. Test loss did not imporve for more than 30 epcochs\n",
            "\n",
            "Finished Training, Train loss=0.428, Test loss=0.703\n",
            "('AutoRec_Item', 0.838, 0.974, 0.974, 0.965, 0.97, 16.514514910000003, 4838440)\n",
            "CPU times: user 22.2 s, sys: 147 ms, total: 22.3 s\n",
            "Wall time: 22 s\n"
          ]
        },
        {
          "output_type": "display_data",
          "data": {
            "image/png": "[encoded data removed]",
            "text/plain": [
              "<Figure size 720x288 with 1 Axes>"
            ]
          },
          "metadata": {
            "needs_background": "light"
          }
        }
      ],
      "source": [
        "%%time\n",
        "\n",
        "'''\n",
        "100K\n",
        "\n",
        "1M\n",
        "Best Test RMSE=0.839, was obtained by config=2\n",
        "BEST: 0.839.... def train_autorec_item(hidden_dims=[400],lr=0.003,epochs=500,dropout=0,batch_size=1024,verbose=False,activation=Sigmoid()):\n",
        "\n",
        "'''\n",
        "\n",
        "def train_autorec_item(hidden_dims=[400],lr=0.003,epochs=500,dropout=0,batch_size=1024,\n",
        "                       verbose=False,activation=Sigmoid(),optimizer='adam',wd=2*1e-4,bn=False):\n",
        "\n",
        "  autorec_item_criterion  = autorec_mse_loss\n",
        "  autorec_item_model      = AutoRec(input_dim = max_user_id-1,hidden_dims = hidden_dims,dropout=dropout,activation=activation,bn=bn).to(device) \n",
        "\n",
        "  # init_param(autorec_item_model)  # for normal dist\n",
        "  num_params = autorec_item_model.num_params()\n",
        "  \n",
        "  if verbose:\n",
        "    print(autorec_item_model,\"\\n\")\n",
        "    print('Model parameters:',num_params)\n",
        "\n",
        "  if optimizer=='adam':\n",
        "    autorec_item_optim  = Adam(autorec_item_model.parameters(), lr=lr,weight_decay=wd) \n",
        "  else:\n",
        "    print('SGD')\n",
        "    autorec_item_optim  = SGD(autorec_item_model.parameters(), lr=lr,weight_decay=wd,momentum=0.9) \n",
        "\n",
        "  # autorec_item_optim  = Adam(autorec_item_model.parameters(), lr=lr,weight_decay=wd) \n",
        "  scheduler = lr_scheduler.ReduceLROnPlateau(autorec_item_optim, mode='min', \n",
        "                                             factor=0.8, patience=3, verbose=False)\n",
        "\n",
        "  #create the data loader\n",
        "  _,dl_train_items,_,dl_test_items = create_autorec_dataloader(batch_size)\n",
        "  \n",
        "  runner_autorec_item = Runner_AutoRec(autorec_item_model, train.values.T , test.values.T , device)  \n",
        "  train_loss,val_loss = runner_autorec_item.train_network(autorec_item_optim, autorec_item_criterion ,\n",
        "                                                          dl_train_items ,dl_test_items, \n",
        "                                                          num_epoch = epochs , early_stopping = 30,verbose=verbose,\n",
        "                                                          scheduler=scheduler)\n",
        "  return runner_autorec_item,train_loss,val_loss\n",
        "\n",
        "def evaluate_autorec_item(runner_autorec_item, save_results , model_name = 'AutoRec_Item'):\n",
        "  # Evaluation\n",
        "  pred = runner_autorec_item.predict_all(train.values.T).detach().cpu().numpy()\n",
        "  return model_eval (model_name , runner_autorec_item , test.values.T,pred,save_results)\n",
        "\n",
        "#TODO UNCOMMENT for plotting\n",
        "runner_autorec_item,_,_ = train_autorec_item(verbose=True)\n",
        "\n",
        "print(evaluate_autorec_item(runner_autorec_item,save_results = True))\n",
        "\n",
        "runner_autorec_item.loss_graph()\n"
      ]
    },
    {
      "cell_type": "code",
      "execution_count": 40,
      "metadata": {
        "id": "W-jAM2OTZuhr",
        "colab": {
          "base_uri": "https://localhost:8080/",
          "height": 143
        },
        "outputId": "8775ab6c-1923-4dfd-f800-2dcc54c467ad"
      },
      "outputs": [
        {
          "output_type": "execute_result",
          "data": {
            "text/html": [
              "\n",
              "  <div id=\"df-9ae379f4-4737-4b75-baa9-dfdc7022670c\">\n",
              "    <div class=\"colab-df-container\">\n",
              "      <div>\n",
              "<style scoped>\n",
              "    .dataframe tbody tr th:only-of-type {\n",
              "        vertical-align: middle;\n",
              "    }\n",
              "\n",
              "    .dataframe tbody tr th {\n",
              "        vertical-align: top;\n",
              "    }\n",
              "\n",
              "    .dataframe thead th {\n",
              "        text-align: right;\n",
              "    }\n",
              "</style>\n",
              "<table border=\"1\" class=\"dataframe\">\n",
              "  <thead>\n",
              "    <tr style=\"text-align: right;\">\n",
              "      <th></th>\n",
              "      <th>Method</th>\n",
              "      <th>RMSE</th>\n",
              "      <th>MRR_5</th>\n",
              "      <th>MRR_10</th>\n",
              "      <th>NDCG_5</th>\n",
              "      <th>NDCG_10</th>\n",
              "      <th>Time</th>\n",
              "      <th>Params</th>\n",
              "    </tr>\n",
              "  </thead>\n",
              "  <tbody>\n",
              "    <tr>\n",
              "      <th>0</th>\n",
              "      <td>MF_NN</td>\n",
              "      <td>0.864</td>\n",
              "      <td>0.987</td>\n",
              "      <td>0.987</td>\n",
              "      <td>0.967</td>\n",
              "      <td>0.971</td>\n",
              "      <td>168.180904</td>\n",
              "      <td>199880</td>\n",
              "    </tr>\n",
              "    <tr>\n",
              "      <th>1</th>\n",
              "      <td>AutoRec_User</td>\n",
              "      <td>0.879</td>\n",
              "      <td>0.988</td>\n",
              "      <td>0.988</td>\n",
              "      <td>0.968</td>\n",
              "      <td>0.972</td>\n",
              "      <td>124.197437</td>\n",
              "      <td>794452</td>\n",
              "    </tr>\n",
              "    <tr>\n",
              "      <th>2</th>\n",
              "      <td>AutoRec_Item</td>\n",
              "      <td>0.838</td>\n",
              "      <td>0.974</td>\n",
              "      <td>0.974</td>\n",
              "      <td>0.965</td>\n",
              "      <td>0.970</td>\n",
              "      <td>16.514515</td>\n",
              "      <td>4838440</td>\n",
              "    </tr>\n",
              "  </tbody>\n",
              "</table>\n",
              "</div>\n",
              "      <button class=\"colab-df-convert\" onclick=\"convertToInteractive('df-9ae379f4-4737-4b75-baa9-dfdc7022670c')\"\n",
              "              title=\"Convert this dataframe to an interactive table.\"\n",
              "              style=\"display:none;\">\n",
              "        \n",
              "  <svg xmlns=\"http://www.w3.org/2000/svg\" height=\"24px\"viewBox=\"0 0 24 24\"\n",
              "       width=\"24px\">\n",
              "    <path d=\"M0 0h24v24H0V0z\" fill=\"none\"/>\n",
              "    <path d=\"M18.56 5.44l.94 2.06.94-2.06 2.06-.94-2.06-.94-.94-2.06-.94 2.06-2.06.94zm-11 1L8.5 8.5l.94-2.06 2.06-.94-2.06-.94L8.5 2.5l-.94 2.06-2.06.94zm10 10l.94 2.06.94-2.06 2.06-.94-2.06-.94-.94-2.06-.94 2.06-2.06.94z\"/><path d=\"M17.41 7.96l-1.37-1.37c-.4-.4-.92-.59-1.43-.59-.52 0-1.04.2-1.43.59L10.3 9.45l-7.72 7.72c-.78.78-.78 2.05 0 2.83L4 21.41c.39.39.9.59 1.41.59.51 0 1.02-.2 1.41-.59l7.78-7.78 2.81-2.81c.8-.78.8-2.07 0-2.86zM5.41 20L4 18.59l7.72-7.72 1.47 1.35L5.41 20z\"/>\n",
              "  </svg>\n",
              "      </button>\n",
              "      \n",
              "  <style>\n",
              "    .colab-df-container {\n",
              "      display:flex;\n",
              "      flex-wrap:wrap;\n",
              "      gap: 12px;\n",
              "    }\n",
              "\n",
              "    .colab-df-convert {\n",
              "      background-color: #E8F0FE;\n",
              "      border: none;\n",
              "      border-radius: 50%;\n",
              "      cursor: pointer;\n",
              "      display: none;\n",
              "      fill: #1967D2;\n",
              "      height: 32px;\n",
              "      padding: 0 0 0 0;\n",
              "      width: 32px;\n",
              "    }\n",
              "\n",
              "    .colab-df-convert:hover {\n",
              "      background-color: #E2EBFA;\n",
              "      box-shadow: 0px 1px 2px rgba(60, 64, 67, 0.3), 0px 1px 3px 1px rgba(60, 64, 67, 0.15);\n",
              "      fill: #174EA6;\n",
              "    }\n",
              "\n",
              "    [theme=dark] .colab-df-convert {\n",
              "      background-color: #3B4455;\n",
              "      fill: #D2E3FC;\n",
              "    }\n",
              "\n",
              "    [theme=dark] .colab-df-convert:hover {\n",
              "      background-color: #434B5C;\n",
              "      box-shadow: 0px 1px 3px 1px rgba(0, 0, 0, 0.15);\n",
              "      filter: drop-shadow(0px 1px 2px rgba(0, 0, 0, 0.3));\n",
              "      fill: #FFFFFF;\n",
              "    }\n",
              "  </style>\n",
              "\n",
              "      <script>\n",
              "        const buttonEl =\n",
              "          document.querySelector('#df-9ae379f4-4737-4b75-baa9-dfdc7022670c button.colab-df-convert');\n",
              "        buttonEl.style.display =\n",
              "          google.colab.kernel.accessAllowed ? 'block' : 'none';\n",
              "\n",
              "        async function convertToInteractive(key) {\n",
              "          const element = document.querySelector('#df-9ae379f4-4737-4b75-baa9-dfdc7022670c');\n",
              "          const dataTable =\n",
              "            await google.colab.kernel.invokeFunction('convertToInteractive',\n",
              "                                                     [key], {});\n",
              "          if (!dataTable) return;\n",
              "\n",
              "          const docLinkHtml = 'Like what you see? Visit the ' +\n",
              "            '<a target=\"_blank\" href=https://colab.research.google.com/notebooks/data_table.ipynb>data table notebook</a>'\n",
              "            + ' to learn more about interactive tables.';\n",
              "          element.innerHTML = '';\n",
              "          dataTable['output_type'] = 'display_data';\n",
              "          await google.colab.output.renderOutput(dataTable, element);\n",
              "          const docLink = document.createElement('div');\n",
              "          docLink.innerHTML = docLinkHtml;\n",
              "          element.appendChild(docLink);\n",
              "        }\n",
              "      </script>\n",
              "    </div>\n",
              "  </div>\n",
              "  "
            ],
            "text/plain": [
              "         Method   RMSE  MRR_5  MRR_10  NDCG_5  NDCG_10        Time   Params\n",
              "0         MF_NN  0.864  0.987   0.987   0.967    0.971  168.180904   199880\n",
              "1  AutoRec_User  0.879  0.988   0.988   0.968    0.972  124.197437   794452\n",
              "2  AutoRec_Item  0.838  0.974   0.974   0.965    0.970   16.514515  4838440"
            ]
          },
          "metadata": {},
          "execution_count": 40
        }
      ],
      "source": [
        "final_results"
      ]
    },
    {
      "cell_type": "code",
      "execution_count": 41,
      "metadata": {
        "id": "YaWK1gIjVWh5"
      },
      "outputs": [],
      "source": [
        "#final_results.groupby('Method').min('RMSE')"
      ]
    },
    {
      "cell_type": "code",
      "execution_count": 42,
      "metadata": {
        "id": "ZnIl9GVX_sew",
        "colab": {
          "base_uri": "https://localhost:8080/"
        },
        "outputId": "fc4c7345-0680-4c0f-950e-1c667c1f43a9"
      },
      "outputs": [
        {
          "output_type": "stream",
          "name": "stdout",
          "text": [
            "Diff from paper results RMSE Item:0.0070\n",
            "Diff from paper results RMSE User:0.0050\n"
          ]
        }
      ],
      "source": [
        "rmse0=final_results.groupby('Method').min('RMSE')['RMSE']\n",
        "print('Diff from paper results RMSE Item:{:.4f}'.format(rmse0[0]-0.831))\n",
        "print('Diff from paper results RMSE User:{:.4f}'.format(rmse0[1]-0.874))"
      ]
    },
    {
      "cell_type": "markdown",
      "metadata": {
        "id": "Auyj5-clR9Fo"
      },
      "source": [
        "## Reproduced paper results\n",
        "\n",
        "To reproduce the results we used the suggested basic AutoEncoder architechture with a single linear layer + Sigmoid for the Encoder, and a single linear layer for the Decoder.\n",
        "We experimented with various hidden layers sizes, and searched for the best hyper parameters by using 5-Fold Cross Validation, using permutations of the following hyper parameters:\n",
        "\n",
        "For *AutoRec User* best Test RMSE=0.876 (**bold** indicated the selected values):\n",
        "Hyperparameters used:\n",
        "\n",
        "1. Hidden Layer size=[32,64,**100**,128,250,500]\n",
        "2. Learning rate = [0.1,0.01,0.001,**0.003**,0.0001,0.0003,0.00001]\n",
        "3. Batch size = [16,32,128,512,**1024**]\n",
        "4. Activation = [**Sigmoid**,ReLU,Tanh]\n",
        "\n",
        "For *AutoRec Item* best Test RMSE=0.839 (**bold** indicated the selected values):\n",
        "\n",
        "1. Hidden Layer size=[32,64,**100**,128,250,**400**,500]\n",
        "2. Learning rate = [0.1,0.01,0.001,**0.003**,0.0001,0.0003,0.00001]\n",
        "3. Batch size = [16,32,128,512,**1024**]\n",
        "4. Activation = [**Sigmoid**,ReLU,Tanh]\n",
        "\n",
        "\n",
        "![image.png](data:image/png;base64,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)"
      ]
    },
    {
      "cell_type": "markdown",
      "metadata": {
        "id": "1fPXeWn9Zuht"
      },
      "source": [
        "**Results Summary**"
      ]
    },
    {
      "cell_type": "code",
      "execution_count": 61,
      "metadata": {
        "id": "Ob3liy90Zuht",
        "colab": {
          "base_uri": "https://localhost:8080/",
          "height": 493
        },
        "outputId": "2e4a85ae-1886-4af9-d0c6-43fa9ed9cc70"
      },
      "outputs": [
        {
          "output_type": "display_data",
          "data": {
            "image/png": "[encoded data removed]",
            "text/plain": [
              "<Figure size 1440x504 with 1 Axes>"
            ]
          },
          "metadata": {
            "needs_background": "light"
          }
        }
      ],
      "source": [
        "labels = [\"RMSE\" , \"MRR_5\" , \"MRR_10\", \"NDCG_5\" ,\"NDCG_10\"]\n",
        "x = np.arange(len(labels))\n",
        "\n",
        "\n",
        "MF_NN = [final_results.loc[0,'RMSE'] , \\\n",
        "        final_results.loc[0,'MRR_5'] , \\\n",
        "        final_results.loc[0,'MRR_10'] , \\\n",
        "        final_results.loc[0,'NDCG_5'] , \\\n",
        "        final_results.loc[0,'NDCG_10']]\n",
        "\n",
        "AutoRec_User = [final_results.loc[1,'RMSE'] , \\\n",
        "            final_results.loc[1,'MRR_5'] , \\\n",
        "            final_results.loc[1,'MRR_10'] , \\\n",
        "            final_results.loc[1,'NDCG_5'] , \\\n",
        "            final_results.loc[1,'NDCG_10']]\n",
        "\n",
        "AutoRec_Item = [final_results.loc[2,'RMSE'] , \\\n",
        "            final_results.loc[2,'MRR_5'] , \\\n",
        "            final_results.loc[2,'MRR_10'] , \\\n",
        "            final_results.loc[2,'NDCG_5'] , \\\n",
        "            final_results.loc[2,'NDCG_10']]\n",
        "        \n",
        "\n",
        "MF_NN           = [ int(i*100)/100  for i in MF_NN]\n",
        "AutoRec_User    = [ int(i*100)/100  for i in AutoRec_User]\n",
        "AutoRec_Item    = [ int(i*100)/100  for i in AutoRec_Item]\n",
        "\n",
        "\n",
        "fig, ax = plt.subplots(1, 1, figsize=(20, 7))\n",
        "width = 0.12\n",
        "ax.bar(x - width/2, MF_NN , width, label='MF_NN')\n",
        "ax.bar(x + width/2, AutoRec_User , width, label='AutoRec_User')\n",
        "ax.bar(x + (3/2)*width, AutoRec_Item, width, label='AutoRec_Item')\n",
        "ax.set_title(\"Dataset: {}  Evaluation methods\".format(dataset_name), fontsize=16)\n",
        "ax.set_ylabel(\"Evaluation values\", fontsize=16)\n",
        "ax.set_xticks(x)\n",
        "ax.set_xticklabels(labels ,fontsize=14,rotation=45)\n",
        "ax.legend(loc='lower right')\n",
        "\n",
        "for p in ax.patches:\n",
        "    ax.annotate(str(p.get_height()), (p.get_x() * 1.010, p.get_height() * 1.010))\n",
        "\n"
      ]
    },
    {
      "cell_type": "markdown",
      "metadata": {
        "id": "ALioOOfJtb7W"
      },
      "source": [
        "<br>\n",
        "\n",
        "## RMSE Vs Latent Dim Size (Single Layer AutoEncoder)\n",
        "\n",
        "<br>"
      ]
    },
    {
      "cell_type": "code",
      "execution_count": 62,
      "metadata": {
        "id": "km4tmOudKUjb"
      },
      "outputs": [],
      "source": [
        "'''\n",
        "A dictionary holding the names of the model functions to call dynamically during the KFold CV\n",
        "'''\n",
        "models = {'MF_NN': {'model_train_func':'train_mf_nn','model_eval_func':'evaluate_mf_nn'},\n",
        "          'AutoRec_User': {'model_train_func':'train_autorec_user','model_eval_func':'evaluate_autorec_user'},\n",
        "          'AutoRec_Item':{'model_train_func':'train_autorec_item','model_eval_func':'evaluate_autorec_item'}\n",
        "          }\n"
      ]
    },
    {
      "cell_type": "code",
      "execution_count": 63,
      "metadata": {
        "id": "d9vcpL0QZuhu",
        "colab": {
          "base_uri": "https://localhost:8080/",
          "height": 1000
        },
        "outputId": "c60306da-e983-4105-d26e-b41ff9dc3c8d"
      },
      "outputs": [
        {
          "output_type": "stream",
          "name": "stdout",
          "text": [
            "\n",
            "latent dim = 30\n",
            "AutoRec_User RMSE: 0.917\n",
            "Early stoping after 395 epochs. Test loss did not imporve for more than 30 epcochs\n",
            "AutoRec_Item RMSE: 0.896\n",
            "\n",
            "latent dim = 50\n",
            "AutoRec_User RMSE: 0.893\n",
            "Early stoping after 407 epochs. Test loss did not imporve for more than 30 epcochs\n",
            "AutoRec_Item RMSE: 0.873\n",
            "\n",
            "latent dim = 100\n",
            "Early stoping after 473 epochs. Test loss did not imporve for more than 30 epcochs\n",
            "AutoRec_User RMSE: 0.878\n",
            "Early stoping after 371 epochs. Test loss did not imporve for more than 30 epcochs\n",
            "AutoRec_Item RMSE: 0.851\n",
            "\n",
            "latent dim = 150\n",
            "Early stoping after 222 epochs. Test loss did not imporve for more than 30 epcochs\n",
            "AutoRec_User RMSE: 0.876\n",
            "Early stoping after 281 epochs. Test loss did not imporve for more than 30 epcochs\n",
            "AutoRec_Item RMSE: 0.846\n",
            "\n",
            "latent dim = 200\n",
            "Early stoping after 144 epochs. Test loss did not imporve for more than 30 epcochs\n",
            "AutoRec_User RMSE: 0.876\n",
            "Early stoping after 169 epochs. Test loss did not imporve for more than 30 epcochs\n",
            "AutoRec_Item RMSE: 0.842\n",
            "\n",
            "latent dim = 300\n",
            "Early stoping after 125 epochs. Test loss did not imporve for more than 30 epcochs\n",
            "AutoRec_User RMSE: 0.877\n",
            "Early stoping after 149 epochs. Test loss did not imporve for more than 30 epcochs\n",
            "AutoRec_Item RMSE: 0.84\n",
            "\n",
            "latent dim = 400\n",
            "Early stoping after 98 epochs. Test loss did not imporve for more than 30 epcochs\n",
            "AutoRec_User RMSE: 0.876\n",
            "Early stoping after 124 epochs. Test loss did not imporve for more than 30 epcochs\n",
            "AutoRec_Item RMSE: 0.839\n",
            "\n",
            "latent dim = 500\n",
            "Early stoping after 92 epochs. Test loss did not imporve for more than 30 epcochs\n",
            "AutoRec_User RMSE: 0.878\n",
            "Early stoping after 124 epochs. Test loss did not imporve for more than 30 epcochs\n",
            "AutoRec_Item RMSE: 0.838\n"
          ]
        },
        {
          "output_type": "display_data",
          "data": {
            "image/png": "[encoded data removed]",
            "text/plain": [
              "<Figure size 1440x432 with 2 Axes>"
            ]
          },
          "metadata": {
            "needs_background": "light"
          }
        }
      ],
      "source": [
        "def plot_rmse_vs_latent_dim():\n",
        "    latent_dim = [30, 50 ,100 , 150 , 200 , 300 ,  400, 500]\n",
        "    \n",
        "    AutoRec_User_list = []\n",
        "    AutoRec_Item_list = [] \n",
        "    \n",
        "    for dim_size  in latent_dim:\n",
        "        print (\"\\nlatent dim = {}\".format(dim_size))\n",
        "        for model_name in [\"AutoRec_User\" , \"AutoRec_Item\"]:\n",
        "            trn_f = globals()[models[model_name]['model_train_func']]\n",
        "            model_runner,train_loss,test_loss = trn_f(hidden_dims=[dim_size],verbose=False)\n",
        "            evl_f = globals()[models[model_name]['model_eval_func']]\n",
        "            name , rmse_eval, mrr10 , mrr5 , ndcg10, ndcg5 , time , _= evl_f(model_runner,save_results=False)\n",
        "            locals()[model_name+\"_list\"].append(rmse_eval)\n",
        "        \n",
        "            print (\"{} RMSE: {}\".format(model_name,rmse_eval))\n",
        "   \n",
        "        \n",
        "    fig, ax = plt.subplots(1, 2,figsize=(20, 6))\n",
        "\n",
        "    ax[0].set_title('Dataset: {}  User AutoRec Loss vs Epoch'.format(dataset_name))\n",
        "    ax[0].set_xlabel('Number of hidden units')\n",
        "    ax[0].set_ylabel('RMSE')\n",
        "    ax[0].plot(latent_dim, AutoRec_User_list, label = \"User AutoRec\")\n",
        "    ax[0].legend()\n",
        "\n",
        "    ax[1].set_title('Dataset: {}  Item AutoRec Loss vs Epoch'.format(dataset_name))\n",
        "    ax[1].set_xlabel('Number of hidden units')\n",
        "    ax[1].set_ylabel('RMSE')\n",
        "    ax[1].plot(latent_dim , AutoRec_Item_list, label = \"Item AutoRec\")\n",
        "    ax[1].legend()\n",
        "\n",
        "plot_rmse_vs_latent_dim()"
      ]
    },
    {
      "cell_type": "markdown",
      "metadata": {
        "id": "OEPg6cewIjLz"
      },
      "source": [
        "<br>\n",
        "\n",
        "# Suggested Improvements: \n",
        "<br>"
      ]
    },
    {
      "cell_type": "markdown",
      "metadata": {
        "id": "Yx5_wNv6Zuhu"
      },
      "source": [
        "## <br>\n",
        "\n",
        "## 1. Autoencoder with Content aware (side band info)\n",
        "\n",
        "Adding sideband information to original Autoencoder supporting cold start \n",
        "<br>"
      ]
    },
    {
      "cell_type": "markdown",
      "metadata": {
        "id": "RFgZuOJZZuhu"
      },
      "source": [
        "## Auto Rec User Content ##"
      ]
    },
    {
      "cell_type": "code",
      "execution_count": 64,
      "metadata": {
        "id": "O3TrGu-rZuhu"
      },
      "outputs": [],
      "source": [
        "def create_autorec_dataloader_content(train_df , batch_size=128):\n",
        "  train_samples_users    = torch.tensor(train_df.values)\n",
        "  train_samples_items    = torch.tensor(train_df.T.values)\n",
        "  ds_train_users         = torch.utils.data.TensorDataset(train_samples_users,torch.ones(train_df.shape[0]))\n",
        "  ds_train_items         = torch.utils.data.TensorDataset(train_samples_items,torch.ones(train_df.shape[1]))\n",
        "\n",
        "  test_samples_users    = torch.tensor(test.values)\n",
        "  test_samples_items    = torch.tensor(test.T.values)\n",
        "  ds_test_users         = torch.utils.data.TensorDataset(test_samples_users,torch.ones(test.shape[0]))\n",
        "  ds_test_items         = torch.utils.data.TensorDataset(test_samples_items,torch.ones(test.shape[1]))\n",
        "  dl_train_users        = DataLoader(ds_train_users,batch_size=batch_size,shuffle=True)\n",
        "  dl_train_items        = DataLoader(ds_train_items,batch_size=batch_size,shuffle=True)\n",
        "  dl_test_users         = DataLoader(ds_test_users,batch_size=1024,shuffle=False) # not used \n",
        "  dl_test_items         = DataLoader(ds_test_items,batch_size=1024,shuffle=False) # not used \n",
        "\n",
        "  return dl_train_users,dl_train_items,ds_test_users,dl_test_items"
      ]
    },
    {
      "cell_type": "code",
      "execution_count": 65,
      "metadata": {
        "id": "TwqcUaDsZuhv"
      },
      "outputs": [],
      "source": [
        "users_profile_df_base = df_users.set_index('user_id')\n",
        "users_profile_df_base.sort_index(axis=0, inplace=True)\n",
        "\n",
        "#users_profile_df_base['age_q'] = (users_profile_df_base['age']/5).astype('int')\n",
        "users_profile_df_base['age_q'] = pd.cut(x=users_profile_df_base['age'] , bins = (5,8,10,12,15,18,20,25,30,40,50,60,70))\n",
        "# transalte to one hot vectors\n",
        "occupation_df = pd.get_dummies(users_profile_df_base.occupation, prefix='occupation')\n",
        "gender_df     = pd.get_dummies(users_profile_df_base.gender, prefix='gender')\n",
        "age_df        = pd.get_dummies(users_profile_df_base.age_q, prefix='age')\n",
        "\n",
        "users_profile_df = pd.concat((occupation_df ,gender_df , age_df ),axis = 1)"
      ]
    },
    {
      "cell_type": "code",
      "execution_count": 66,
      "metadata": {
        "id": "qkTRhT8DZuhv"
      },
      "outputs": [],
      "source": [
        "content_gain_user  = 8   # 8 , 8 for 100K , 1M\n",
        "\n",
        "train_content_user = pd.concat((train , users_profile_df*content_gain_user) , axis = 1)\n",
        "df_zero            = users_profile_df*0\n",
        "test_content_user  = pd.concat((test , df_zero) ,axis = 1)"
      ]
    },
    {
      "cell_type": "code",
      "execution_count": 67,
      "metadata": {
        "id": "gnFu9Yg2Zuhv",
        "colab": {
          "base_uri": "https://localhost:8080/",
          "height": 729
        },
        "outputId": "b2f32cef-c706-4f87-d2cc-281fb56757c4"
      },
      "outputs": [
        {
          "output_type": "stream",
          "name": "stdout",
          "text": [
            "AutoRec(\n",
            "  (autorec_sequential): Sequential(\n",
            "    (0): Linear(in_features=3987, out_features=150, bias=True)\n",
            "    (1): Sigmoid()\n",
            "    (2): Linear(in_features=150, out_features=3987, bias=True)\n",
            "    (3): Identity()\n",
            "  )\n",
            ") \n",
            "\n",
            "Model parameters: 1200237\n",
            "Epoch 1,Train loss  : 13.651,Test loss    : 10.823\n",
            "Epoch 51,Train loss  : 0.933,Test loss    : 0.964\n",
            "Epoch 101,Train loss  : 0.931,Test loss    : 0.962\n",
            "Epoch 151,Train loss  : 0.928,Test loss    : 0.959\n",
            "Epoch 201,Train loss  : 0.885,Test loss    : 0.919\n",
            "Epoch 251,Train loss  : 0.810,Test loss    : 0.856\n",
            "Epoch 301,Train loss  : 0.741,Test loss    : 0.809\n",
            "Epoch 351,Train loss  : 0.691,Test loss    : 0.784\n",
            "Epoch 401,Train loss  : 0.651,Test loss    : 0.769\n",
            "Epoch 451,Train loss  : 0.617,Test loss    : 0.762\n",
            "\n",
            "Finished Training, Train loss=0.595, Test loss=0.758\n",
            "('AutoRec_User_Content', 0.871, 0.988, 0.988, 0.969, 0.973, 269.684787014, 1200237)\n",
            "CPU times: user 4min 37s, sys: 1.96 s, total: 4min 39s\n",
            "Wall time: 4min 38s\n"
          ]
        },
        {
          "output_type": "display_data",
          "data": {
            "image/png": "[encoded data removed]",
            "text/plain": [
              "<Figure size 720x288 with 1 Axes>"
            ]
          },
          "metadata": {
            "needs_background": "light"
          }
        }
      ],
      "source": [
        "%%time\n",
        "\n",
        "'''\n",
        "100K\n",
        "Best Test RMSE=0.937, \n",
        "Hyperparameters used: {'Iterations': 1000, 'Hid_dim_size': 250, 'Learning_Rate': 0.0005, 'Dropout': 0, 'Batch_size': 256\n",
        "\n",
        "1M\n",
        "Best Test RMSE=0.871, \n",
        "Hyperparameters used: {'Iterations': 1000, 'Hid_dim_size': 150, 'Learning_Rate': 0.0002, 'Dropout': 0, 'Batch_size': 256\n",
        "'''\n",
        "\n",
        "def train_autorec_user_content(hidden_dims=[150],lr=0.0002,epochs=500,dropout=0,batch_size=256, \\\n",
        "                               verbose=False , activation=Sigmoid(),optimizer='adam',wd=2*1e-4):\n",
        "    \n",
        "    autorec_user_content_criterion  = autorec_mse_loss\n",
        "    autorec_user_content_model      = AutoRec(input_dim = train_content_user.shape[1],hidden_dims = hidden_dims,dropout=dropout).to(device) \n",
        "\n",
        "    #init_param(autorec_user_content_model)  # for normal dist\n",
        "    num_params = autorec_user_content_model.num_params()\n",
        "    if verbose:          \n",
        "        print(autorec_user_content_model,\"\\n\")\n",
        "        print('Model parameters:',num_params)      \n",
        "    \n",
        "    if optimizer=='adam':\n",
        "        autorec_user_content_optim  = Adam(autorec_user_content_model.parameters(), lr=lr,weight_decay=wd) \n",
        "    else:\n",
        "        print('SGD')\n",
        "        autorec_user_content_optim  = SGD(autorec_user_content_model.parameters(), lr=lr,weight_decay=wd,momentum=0.9) \n",
        "    \n",
        "    scheduler = lr_scheduler.ReduceLROnPlateau(autorec_user_content_optim, mode='min', \n",
        "                                             factor=0.7, patience=10,min_lr=0.0001, verbose=False)\n",
        "  \n",
        "    \n",
        "    #create the data loader\n",
        "    dl_train_users,_,dl_test_users,_ = create_autorec_dataloader_content(train_content_user, batch_size=batch_size)\n",
        "  \n",
        "    runner_autorec_user_content = Runner_AutoRec(autorec_user_content_model, train_content_user.values ,\\\n",
        "                                               test_content_user.values , device)  \n",
        "    \n",
        "    train_loss,val_loss = runner_autorec_user_content.train_network(autorec_user_content_optim, \\\n",
        "                                                                    autorec_user_content_criterion ,\n",
        "                                                                    dl_train_users ,dl_test_users, \n",
        "                                                                    num_epoch = epochs , early_stopping = 30, \\\n",
        "                                                                    verbose=verbose,scheduler=scheduler)\n",
        "        \n",
        "    return runner_autorec_user_content,train_loss,val_loss\n",
        "\n",
        "def evaluate_autorec_user_content(runner_autorec_user_content,save_results , model_name = 'AutoRec_User_Content'):\n",
        "  # Evaluation\n",
        "    pred = runner_autorec_user_content.predict_all(train_content_user.values).detach().cpu().numpy()\n",
        "    return model_eval (model_name , runner_autorec_user_content , test_content_user.values,pred,save_results)\n",
        "\n",
        "runner_autorec_user_content,_,_ = train_autorec_user_content(verbose=True)\n",
        "\n",
        "print(evaluate_autorec_user_content(runner_autorec_user_content,save_results=True))\n",
        "\n",
        "runner_autorec_user_content.loss_graph()\n"
      ]
    },
    {
      "cell_type": "code",
      "execution_count": null,
      "metadata": {
        "id": "zu09tbI_Zuhv"
      },
      "outputs": [],
      "source": [
        "final_results"
      ]
    },
    {
      "cell_type": "markdown",
      "metadata": {
        "id": "Tt_n254LZuhv"
      },
      "source": [
        "## Auto Rec Item Content ##"
      ]
    },
    {
      "cell_type": "code",
      "execution_count": null,
      "metadata": {
        "id": "6UJ79kIBZuhw"
      },
      "outputs": [],
      "source": [
        "col_movies = ['movie id','Action','Adventure','Animation',\n",
        "            'Childrens','Comedy','Crime','Documentary','Drama','Fantasy',\\\n",
        "             'Film_Noir','Horror','Musical',\\\n",
        "            'Mystery','Romance', 'Sci_Fi','Thriller','War','Western']\n",
        "\n",
        "movies_profile_genere_basic_df = df_items[col_movies] \\\n",
        "                                .set_index('movie id')\n",
        "\n",
        "movies_profile_genere_basic_df.sort_index(axis=0, inplace=True)\n",
        "\n",
        "movies_profile_genere_basic_df.sort_index(axis=0, inplace=True)\n",
        "\n",
        "movies_profile_df = movies_profile_genere_basic_df\n",
        "\n",
        "df_zero           = movies_profile_df.T*0\n",
        "test_content_item = pd.concat((test , df_zero))"
      ]
    },
    {
      "cell_type": "code",
      "execution_count": null,
      "metadata": {
        "id": "Sys5MpCDZuhw"
      },
      "outputs": [],
      "source": [
        "content_gain_item       = 10  # 20  ,10 for 100K , 1M\n",
        "train_content_item      = pd.concat((train , movies_profile_df.T*content_gain_item))"
      ]
    },
    {
      "cell_type": "code",
      "execution_count": null,
      "metadata": {
        "id": "6b307QksZuhw"
      },
      "outputs": [],
      "source": [
        "%%time\n",
        "\n",
        "'''\n",
        "100K\n",
        "Best Test RMSE=0.889, was obtained by config=2\n",
        "Hyperparameters used: {'Iterations': 1000, 'Hid_dim_size': 250, 'Learning_Rate': 0.001, 'Dropout': 0, 'Batch_size': 256\n",
        "\n",
        "1M\n",
        "Best Test RMSE=0.843, \n",
        "Hyperparameters used: {'Iterations': 1000, 'Hid_dim_size': 500, 'Learning_Rate': 0.0005, 'Dropout': 0, 'Batch_size': 128\n",
        "'''\n",
        "\n",
        "def train_autorec_item_content(hidden_dims=[500],lr=0.0005,epochs=500,dropout=0,batch_size=128,verbose=False ,\\\n",
        "                              activation=Sigmoid(),optimizer='adam',wd=7*1e-4):\n",
        "\n",
        "    autorec_item_content_criterion  = autorec_mse_loss\n",
        "    autorec_item_content_model      = AutoRec(input_dim = train_content_item.shape[0],hidden_dims = hidden_dims,dropout=dropout).to(device) \n",
        "\n",
        "    #init_param(autorec_item_content_model)  # for normal dist\n",
        "    num_params = autorec_item_content_model.num_params()\n",
        "    if verbose:\n",
        "        print(autorec_item_content_model,\"\\n\")\n",
        "        print('Model parameters:',num_params)\n",
        "    \n",
        "    if optimizer=='adam':\n",
        "        autorec_item_content_optim  = Adam(autorec_item_content_model.parameters(), lr=lr,weight_decay=wd) \n",
        "    else:\n",
        "        print('SGD')\n",
        "        autorec_item_content_optim  = SGD(autorec_item_content_model.parameters(), lr=lr,weight_decay=wd,momentum=0.9) \n",
        "    \n",
        "\n",
        "    scheduler = lr_scheduler.ReduceLROnPlateau(autorec_item_content_optim, mode='min', \n",
        "                                             factor=0.8, patience=3, verbose=False)\n",
        "\n",
        "    #create the data loader\n",
        "    _,dl_train_items,_,dl_test_items = create_autorec_dataloader_content(train_content_item, batch_size=batch_size)\n",
        "  \n",
        "    runner_autorec_item_content = Runner_AutoRec(autorec_item_content_model, train_content_item.values.T ,\\\n",
        "                                               test_content_item.values.T , device)  \n",
        "    \n",
        "    train_loss,val_loss = runner_autorec_item_content.train_network(autorec_item_content_optim, autorec_item_content_criterion ,\n",
        "                                                          dl_train_items ,dl_test_items, \n",
        "                                                          num_epoch = epochs , early_stopping = 30, \\\n",
        "                                                          verbose=verbose,scheduler=scheduler)\n",
        "    \n",
        "    return runner_autorec_item_content,train_loss,val_loss\n",
        "\n",
        "def evaluate_autorec_item_content(runner_autorec_item_content,save_results,model_name = 'AutoRec_Item_Content'):\n",
        "  # Evaluation\n",
        "    pred = runner_autorec_item_content.predict_all(train_content_item.values.T).detach().cpu().numpy()\n",
        "    return model_eval (model_name , runner_autorec_item_content , test_content_item.values.T,pred,save_results)\n",
        "\n",
        "runner_autorec_item_content,_,_ = train_autorec_item_content(verbose=True)\n",
        "\n",
        "print(evaluate_autorec_item_content(runner_autorec_item_content,save_results=True))\n",
        "\n",
        "runner_autorec_item_content.loss_graph()"
      ]
    },
    {
      "cell_type": "code",
      "execution_count": 76,
      "metadata": {
        "id": "vcVV-yPGZuhw",
        "colab": {
          "base_uri": "https://localhost:8080/",
          "height": 300
        },
        "outputId": "23b10ed8-324a-4ffd-e214-f28745fec02e"
      },
      "outputs": [
        {
          "output_type": "execute_result",
          "data": {
            "text/html": [
              "\n",
              "  <div id=\"df-cf92035d-8749-4f57-9eae-7f4a8cdaddd6\">\n",
              "    <div class=\"colab-df-container\">\n",
              "      <div>\n",
              "<style scoped>\n",
              "    .dataframe tbody tr th:only-of-type {\n",
              "        vertical-align: middle;\n",
              "    }\n",
              "\n",
              "    .dataframe tbody tr th {\n",
              "        vertical-align: top;\n",
              "    }\n",
              "\n",
              "    .dataframe thead th {\n",
              "        text-align: right;\n",
              "    }\n",
              "</style>\n",
              "<table border=\"1\" class=\"dataframe\">\n",
              "  <thead>\n",
              "    <tr style=\"text-align: right;\">\n",
              "      <th></th>\n",
              "      <th>Method</th>\n",
              "      <th>RMSE</th>\n",
              "      <th>MRR_5</th>\n",
              "      <th>MRR_10</th>\n",
              "      <th>NDCG_5</th>\n",
              "      <th>NDCG_10</th>\n",
              "      <th>Time</th>\n",
              "      <th>Params</th>\n",
              "    </tr>\n",
              "  </thead>\n",
              "  <tbody>\n",
              "    <tr>\n",
              "      <th>0</th>\n",
              "      <td>MF_NN</td>\n",
              "      <td>0.864</td>\n",
              "      <td>0.987</td>\n",
              "      <td>0.987</td>\n",
              "      <td>0.967</td>\n",
              "      <td>0.971</td>\n",
              "      <td>168.180904</td>\n",
              "      <td>199880</td>\n",
              "    </tr>\n",
              "    <tr>\n",
              "      <th>1</th>\n",
              "      <td>AutoRec_User</td>\n",
              "      <td>0.879</td>\n",
              "      <td>0.988</td>\n",
              "      <td>0.988</td>\n",
              "      <td>0.968</td>\n",
              "      <td>0.972</td>\n",
              "      <td>124.197437</td>\n",
              "      <td>794452</td>\n",
              "    </tr>\n",
              "    <tr>\n",
              "      <th>2</th>\n",
              "      <td>AutoRec_Item</td>\n",
              "      <td>0.838</td>\n",
              "      <td>0.974</td>\n",
              "      <td>0.974</td>\n",
              "      <td>0.965</td>\n",
              "      <td>0.970</td>\n",
              "      <td>16.514515</td>\n",
              "      <td>4838440</td>\n",
              "    </tr>\n",
              "    <tr>\n",
              "      <th>3</th>\n",
              "      <td>AutoRec_User_Content</td>\n",
              "      <td>0.871</td>\n",
              "      <td>0.989</td>\n",
              "      <td>0.989</td>\n",
              "      <td>0.969</td>\n",
              "      <td>0.973</td>\n",
              "      <td>202.111784</td>\n",
              "      <td>1200237</td>\n",
              "    </tr>\n",
              "    <tr>\n",
              "      <th>4</th>\n",
              "      <td>AutoRec_Item_Content</td>\n",
              "      <td>0.843</td>\n",
              "      <td>0.974</td>\n",
              "      <td>0.974</td>\n",
              "      <td>0.965</td>\n",
              "      <td>0.969</td>\n",
              "      <td>34.425685</td>\n",
              "      <td>6064558</td>\n",
              "    </tr>\n",
              "    <tr>\n",
              "      <th>5</th>\n",
              "      <td>AutoRec_Item_Advance</td>\n",
              "      <td>0.839</td>\n",
              "      <td>0.977</td>\n",
              "      <td>0.977</td>\n",
              "      <td>0.966</td>\n",
              "      <td>0.971</td>\n",
              "      <td>37.101328</td>\n",
              "      <td>6173602</td>\n",
              "    </tr>\n",
              "    <tr>\n",
              "      <th>6</th>\n",
              "      <td>AutoRec_User_Content</td>\n",
              "      <td>0.871</td>\n",
              "      <td>0.988</td>\n",
              "      <td>0.988</td>\n",
              "      <td>0.969</td>\n",
              "      <td>0.973</td>\n",
              "      <td>269.684787</td>\n",
              "      <td>1200237</td>\n",
              "    </tr>\n",
              "    <tr>\n",
              "      <th>7</th>\n",
              "      <td>AutoRec_Item_Content</td>\n",
              "      <td>0.842</td>\n",
              "      <td>0.974</td>\n",
              "      <td>0.973</td>\n",
              "      <td>0.965</td>\n",
              "      <td>0.970</td>\n",
              "      <td>33.618607</td>\n",
              "      <td>6064558</td>\n",
              "    </tr>\n",
              "  </tbody>\n",
              "</table>\n",
              "</div>\n",
              "      <button class=\"colab-df-convert\" onclick=\"convertToInteractive('df-cf92035d-8749-4f57-9eae-7f4a8cdaddd6')\"\n",
              "              title=\"Convert this dataframe to an interactive table.\"\n",
              "              style=\"display:none;\">\n",
              "        \n",
              "  <svg xmlns=\"http://www.w3.org/2000/svg\" height=\"24px\"viewBox=\"0 0 24 24\"\n",
              "       width=\"24px\">\n",
              "    <path d=\"M0 0h24v24H0V0z\" fill=\"none\"/>\n",
              "    <path d=\"M18.56 5.44l.94 2.06.94-2.06 2.06-.94-2.06-.94-.94-2.06-.94 2.06-2.06.94zm-11 1L8.5 8.5l.94-2.06 2.06-.94-2.06-.94L8.5 2.5l-.94 2.06-2.06.94zm10 10l.94 2.06.94-2.06 2.06-.94-2.06-.94-.94-2.06-.94 2.06-2.06.94z\"/><path d=\"M17.41 7.96l-1.37-1.37c-.4-.4-.92-.59-1.43-.59-.52 0-1.04.2-1.43.59L10.3 9.45l-7.72 7.72c-.78.78-.78 2.05 0 2.83L4 21.41c.39.39.9.59 1.41.59.51 0 1.02-.2 1.41-.59l7.78-7.78 2.81-2.81c.8-.78.8-2.07 0-2.86zM5.41 20L4 18.59l7.72-7.72 1.47 1.35L5.41 20z\"/>\n",
              "  </svg>\n",
              "      </button>\n",
              "      \n",
              "  <style>\n",
              "    .colab-df-container {\n",
              "      display:flex;\n",
              "      flex-wrap:wrap;\n",
              "      gap: 12px;\n",
              "    }\n",
              "\n",
              "    .colab-df-convert {\n",
              "      background-color: #E8F0FE;\n",
              "      border: none;\n",
              "      border-radius: 50%;\n",
              "      cursor: pointer;\n",
              "      display: none;\n",
              "      fill: #1967D2;\n",
              "      height: 32px;\n",
              "      padding: 0 0 0 0;\n",
              "      width: 32px;\n",
              "    }\n",
              "\n",
              "    .colab-df-convert:hover {\n",
              "      background-color: #E2EBFA;\n",
              "      box-shadow: 0px 1px 2px rgba(60, 64, 67, 0.3), 0px 1px 3px 1px rgba(60, 64, 67, 0.15);\n",
              "      fill: #174EA6;\n",
              "    }\n",
              "\n",
              "    [theme=dark] .colab-df-convert {\n",
              "      background-color: #3B4455;\n",
              "      fill: #D2E3FC;\n",
              "    }\n",
              "\n",
              "    [theme=dark] .colab-df-convert:hover {\n",
              "      background-color: #434B5C;\n",
              "      box-shadow: 0px 1px 3px 1px rgba(0, 0, 0, 0.15);\n",
              "      filter: drop-shadow(0px 1px 2px rgba(0, 0, 0, 0.3));\n",
              "      fill: #FFFFFF;\n",
              "    }\n",
              "  </style>\n",
              "\n",
              "      <script>\n",
              "        const buttonEl =\n",
              "          document.querySelector('#df-cf92035d-8749-4f57-9eae-7f4a8cdaddd6 button.colab-df-convert');\n",
              "        buttonEl.style.display =\n",
              "          google.colab.kernel.accessAllowed ? 'block' : 'none';\n",
              "\n",
              "        async function convertToInteractive(key) {\n",
              "          const element = document.querySelector('#df-cf92035d-8749-4f57-9eae-7f4a8cdaddd6');\n",
              "          const dataTable =\n",
              "            await google.colab.kernel.invokeFunction('convertToInteractive',\n",
              "                                                     [key], {});\n",
              "          if (!dataTable) return;\n",
              "\n",
              "          const docLinkHtml = 'Like what you see? Visit the ' +\n",
              "            '<a target=\"_blank\" href=https://colab.research.google.com/notebooks/data_table.ipynb>data table notebook</a>'\n",
              "            + ' to learn more about interactive tables.';\n",
              "          element.innerHTML = '';\n",
              "          dataTable['output_type'] = 'display_data';\n",
              "          await google.colab.output.renderOutput(dataTable, element);\n",
              "          const docLink = document.createElement('div');\n",
              "          docLink.innerHTML = docLinkHtml;\n",
              "          element.appendChild(docLink);\n",
              "        }\n",
              "      </script>\n",
              "    </div>\n",
              "  </div>\n",
              "  "
            ],
            "text/plain": [
              "                 Method   RMSE  MRR_5  ...  NDCG_10        Time   Params\n",
              "0                 MF_NN  0.864  0.987  ...    0.971  168.180904   199880\n",
              "1          AutoRec_User  0.879  0.988  ...    0.972  124.197437   794452\n",
              "2          AutoRec_Item  0.838  0.974  ...    0.970   16.514515  4838440\n",
              "3  AutoRec_User_Content  0.871  0.989  ...    0.973  202.111784  1200237\n",
              "4  AutoRec_Item_Content  0.843  0.974  ...    0.969   34.425685  6064558\n",
              "5  AutoRec_Item_Advance  0.839  0.977  ...    0.971   37.101328  6173602\n",
              "6  AutoRec_User_Content  0.871  0.988  ...    0.973  269.684787  1200237\n",
              "7  AutoRec_Item_Content  0.842  0.974  ...    0.970   33.618607  6064558\n",
              "\n",
              "[8 rows x 8 columns]"
            ]
          },
          "metadata": {},
          "execution_count": 76
        }
      ],
      "source": [
        "final_results"
      ]
    },
    {
      "cell_type": "markdown",
      "metadata": {
        "id": "4IV1s2axZuhx"
      },
      "source": [
        "## Auto Rec Item Content  Advance ##"
      ]
    },
    {
      "cell_type": "code",
      "execution_count": null,
      "metadata": {
        "id": "GkPOl3OzZuhx"
      },
      "outputs": [],
      "source": [
        "class AutoRec_content2(nn.Module):\n",
        "    def __init__(self, input_dim , main_dim , hidden_dims = [150], dropout = 0): # Must have at least 1 hidden layer\n",
        "        super(AutoRec_content2 , self).__init__()\n",
        "\n",
        "        hidden_dim    = hidden_dims[0]\n",
        "        \n",
        "        self.main_dim = main_dim\n",
        "        side_dim      = input_dim - main_dim\n",
        "\n",
        "        self.layer_main_1 = Linear(main_dim, hidden_dim)\n",
        "        self.layer_side_1 = Linear(side_dim, hidden_dim , bias = False)\n",
        "        \n",
        "        self.sigmoid      = Sigmoid()    # Activation Layer   \n",
        "        \n",
        "        self.layer_main_2 = Linear(hidden_dim, input_dim)\n",
        "        self.layer_side_2 = Linear(side_dim, input_dim, bias = False)\n",
        "        \n",
        "    def forward(self, vect):\n",
        "        \n",
        "        main_vect = vect[: , 0:self.main_dim]\n",
        "        side_vect = vect[:, self.main_dim::]\n",
        "        \n",
        "        x1  = self.layer_main_1(main_vect)\n",
        "        y1  = self.layer_side_1(side_vect)\n",
        "        z1  = x1+y1   \n",
        "        z11 = self.sigmoid(z1)\n",
        "        \n",
        "        x2 = self.layer_main_2(z11)\n",
        "        y2 = self.layer_side_2(side_vect)\n",
        "        z2 = x2+y2\n",
        "                \n",
        "        autorec_result = z2 #squeeze()     \n",
        "\n",
        "        return autorec_result\n",
        "    \n",
        "    def num_params(self):\n",
        "        return sum(p.numel() for p in self.parameters() if p.requires_grad)"
      ]
    },
    {
      "cell_type": "code",
      "execution_count": null,
      "metadata": {
        "id": "v_lj0_2zZuhy"
      },
      "outputs": [],
      "source": [
        "content_gain_item2  = 1\n",
        "train_content_item2 = pd.concat((train , movies_profile_df.T*content_gain_item2))"
      ]
    },
    {
      "cell_type": "code",
      "execution_count": null,
      "metadata": {
        "id": "3NwYXzgAZuhy"
      },
      "outputs": [],
      "source": [
        "%%time\n",
        "\n",
        "'''\n",
        "100K\n",
        "Best Test RMSE=0.927, was obtained by config=0\n",
        "Hyperparameters used: {'Iterations': 1000, 'Hid_dim_size': 100, 'Learning_Rate': 0.001, 'Dropout': 0, 'Batch_size': 64\n",
        "\n",
        "1M\n",
        "Best Test RMSE=0.839\n",
        "Hyperparameters used: {'Iterations': 1000, 'Hid_dim_size': 500, 'Learning_Rate': 0.0005, 'Dropout': 0, 'Batch_size': 128\n",
        "'''\n",
        "\n",
        "def train_autorec_item_content2(hidden_dims=[500],lr=0.0005,epochs=500,dropout=0,batch_size=128,verbose=False ,\\\n",
        "                               activation=Sigmoid(),optimizer='adam',wd=5*1e-4):\n",
        "    \n",
        "    autorec_item_content2_criterion  = autorec_mse_loss\n",
        "    autorec_item_content2_model      = AutoRec_content2(input_dim = train_content_item2.shape[0],main_dim = train.shape[0], \\\n",
        "                                                       hidden_dims = hidden_dims,dropout=dropout).to(device) \n",
        "\n",
        "    #init_param(autorec_item_content2_model)  # for normal dist\n",
        "    num_params = autorec_item_content2_model.num_params()\n",
        "    if verbose:\n",
        "        print(autorec_item_content2_model,\"\\n\")\n",
        "        print('Model parameters:',num_params)\n",
        "\n",
        "    if optimizer=='adam':\n",
        "        autorec_item_content2_optim  = Adam(autorec_item_content2_model.parameters(), lr=lr,weight_decay=wd) \n",
        "    else:\n",
        "        print('SGD')\n",
        "        autorec_item_content2_optim  = SGD(autorec_item_content2_model.parameters(), lr=lr,weight_decay=wd,momentum=0.9) \n",
        "  \n",
        "    scheduler = lr_scheduler.ReduceLROnPlateau(autorec_item_content2_optim, mode='min', \n",
        "                                             factor=0.8, patience=3, verbose=False)\n",
        "\n",
        "    #create the data loader\n",
        "    _,dl_train_items,_,dl_test_items = create_autorec_dataloader_content(train_content_item2, batch_size=batch_size)\n",
        "  \n",
        "    runner_autorec_item_content2 = Runner_AutoRec(autorec_item_content2_model, train_content_item2.values.T ,\\\n",
        "                                               test_content_item.values.T , device)  \n",
        "    \n",
        "    train_loss,val_loss = runner_autorec_item_content2.train_network(autorec_item_content2_optim, \\\n",
        "                                                                     autorec_item_content2_criterion ,\n",
        "                                                                      dl_train_items ,dl_test_items, \n",
        "                                                                      num_epoch = epochs , early_stopping = 30,\\\n",
        "                                                                    verbose=verbose , \\\n",
        "                                                                    scheduler=scheduler)\n",
        "    \n",
        "    return runner_autorec_item_content2,train_loss,val_loss\n",
        "\n",
        "def evaluate_autorec_item_content2(runner_autorec_item_content2,save_results, model_name = 'AutoRec_Item_Advance'):\n",
        "  # Evaluation\n",
        "    pred = runner_autorec_item_content2.predict_all(train_content_item2.values.T).detach().cpu().numpy()\n",
        "    return model_eval (model_name , runner_autorec_item_content2 , test_content_item.values.T,pred,save_results)\n",
        "\n",
        "\n",
        "runner_autorec_item_content2,_,_ = train_autorec_item_content2(verbose=True)\n",
        "\n",
        "print(evaluate_autorec_item_content2(runner_autorec_item_content2,save_results=True))\n",
        "\n",
        "runner_autorec_item_content2.loss_graph()"
      ]
    },
    {
      "cell_type": "code",
      "execution_count": null,
      "metadata": {
        "id": "gbXLU3fOZuhy"
      },
      "outputs": [],
      "source": [
        "final_results"
      ]
    },
    {
      "cell_type": "markdown",
      "metadata": {
        "id": "gq4Sxh6QZuhy"
      },
      "source": [
        "**Various latent space sizes for the AutoRec Content based models**"
      ]
    },
    {
      "cell_type": "code",
      "execution_count": 77,
      "metadata": {
        "id": "OQedvCs-Zuhz"
      },
      "outputs": [],
      "source": [
        "models['AutoRec_User_content'] = {'model_train_func':'train_autorec_user_content','model_eval_func':'evaluate_autorec_user_content'}\n",
        "models['AutoRec_Item_content'] = {'model_train_func':'train_autorec_item_content','model_eval_func':'evaluate_autorec_item_content'}\n",
        "models['AutoRec_Item_content2'] = {'model_train_func':'train_autorec_item_content2','model_eval_func':'evaluate_autorec_item_content2'}"
      ]
    },
    {
      "cell_type": "code",
      "execution_count": null,
      "metadata": {
        "id": "HJ0PZyT9Zuhz"
      },
      "outputs": [],
      "source": [
        "def plot_rmse_vs_latent_dim_content():\n",
        "    latent_dim = [50 ,100 , 150 , 200 , 300 ,  400, 500]\n",
        "\n",
        "    AutoRec_User_content_list  = []\n",
        "    AutoRec_Item_content_list  = [] \n",
        "    AutoRec_Item_content2_list = [] \n",
        "    \n",
        "    for dim_size  in latent_dim:\n",
        "        print (\"\\nlatent dim = {}\".format(dim_size))\n",
        "        for model_name in [\"AutoRec_User_content\" , \"AutoRec_Item_content\" , \"AutoRec_Item_content2\"]:\n",
        "            trn_f = globals()[models[model_name]['model_train_func']]\n",
        "            model_runner,train_loss,test_loss = trn_f(hidden_dims=[dim_size],verbose=False)\n",
        "            evl_f = globals()[models[model_name]['model_eval_func']]\n",
        "            name , rmse_eval, mrr10 , mrr5 , ndcg10, ndcg5 , time,_ = evl_f(model_runner,save_results=False)\n",
        "            locals()[model_name+\"_list\"].append(rmse_eval)\n",
        "        \n",
        "            print (\"{} RMSE: {}\".format(model_name,rmse_eval))\n",
        "   \n",
        "        \n",
        "    fig, ax = plt.subplots(1, 2,figsize=(20, 6))\n",
        "\n",
        "    ax[0].set_title('Dataset: {}  User AutoRec content Loss vs Epoch'.format(dataset_name))\n",
        "    ax[0].set_xlabel('Number of hidden units')\n",
        "    ax[0].set_ylabel('RMSE')\n",
        "    ax[0].plot(latent_dim, AutoRec_User_content_list,   label   = \"User AutoReC content\")\n",
        "    ax[0].legend()\n",
        "\n",
        "    ax[1].set_title('Dataset: {}  Item AutoRec content Loss vs Epoch'.format(dataset_name))\n",
        "    ax[1].set_xlabel('Number of hidden units')\n",
        "    ax[1].set_ylabel('RMSE')\n",
        "    ax[1].plot(latent_dim , AutoRec_Item_content_list,  label   = \"Item AutoReC Content\")\n",
        "    ax[1].plot(latent_dim , AutoRec_Item_content2_list, label   = \"Item AutoReC Content advance\")\n",
        "    ax[1].legend()\n",
        "\n",
        "plot_rmse_vs_latent_dim_content()"
      ]
    },
    {
      "cell_type": "markdown",
      "metadata": {
        "id": "w1fltFJNZuhz"
      },
      "source": [
        "**Various content gain  for the content based models**"
      ]
    },
    {
      "cell_type": "code",
      "execution_count": null,
      "metadata": {
        "id": "v_N1_TgqZuhz"
      },
      "outputs": [],
      "source": [
        "models_content = {'AutoRec_User_content': {'set_gain_func':'set_user_content_gain'},\n",
        "                  'AutoRec_Item_content': {'set_gain_func':'set_item_content_gain'}}\n",
        "\n",
        "def set_user_content_gain(content_gain_user):\n",
        "    train_content_user = pd.concat((train , users_profile_df*content_gain_user) , axis = 1)\n",
        "    df_zero           = users_profile_df*0\n",
        "    test_content_user = pd.concat((test , df_zero) ,axis = 1)\n",
        "    return train_content_item , test_content_item\n",
        "    \n",
        "def set_item_content_gain(content_gain_item):\n",
        "    train_content_item    = pd.concat((train , movies_profile_df.T*content_gain_item))\n",
        "    train_content_user    = pd.concat((train , users_profile_df*content_gain_user) , axis = 1)\n",
        "    df_zero               = users_profile_df*0\n",
        "    test_content_user     = pd.concat((test , df_zero) ,axis = 1) \n",
        "    return train_content_item , test_content_item\n"
      ]
    },
    {
      "cell_type": "code",
      "execution_count": null,
      "metadata": {
        "id": "jOwM31ihZuhz",
        "scrolled": true
      },
      "outputs": [],
      "source": [
        "content_gain_list = [0, 5 , 10 , 15 , 20]\n",
        "\n",
        "AutoRec_User_content_list = []\n",
        "AutoRec_Item_content_list = [] \n",
        "\n",
        "for content_gain  in content_gain_list:\n",
        "    print (\"\\nContent gain = {}\".format(content_gain))\n",
        "    for model_name in [\"AutoRec_User_content\" ,\"AutoRec_Item_content\"]:\n",
        "        train_content_item , test_content_item = globals()[models_content[model_name]['set_gain_func']](content_gain)\n",
        "        trn_f = globals()[models[model_name]['model_train_func']]\n",
        "        model_runner,train_loss,test_loss = trn_f(hidden_dims=[250],verbose=False)\n",
        "        evl_f = globals()[models[model_name]['model_eval_func']]\n",
        "        name , rmse_eval, mrr10 , mrr5 , ndcg10, ndcg5 , time,_ = evl_f(model_runner,save_results=False)\n",
        "        globals()[model_name+\"_list\"].append(rmse_eval)\n",
        "        \n",
        "        print (\"{} RMSE: {}\".format(model_name,rmse_eval))\n",
        "      \n",
        "fig, ax = plt.subplots(1, 1,figsize=(10, 4))\n",
        "ax.set_title('Dataset: {}  RMSE Vs Content Gain'.format(dataset_name))\n",
        "ax.set_xlabel('Content Gain')\n",
        "ax.set_ylabel('RMSE')\n",
        "ax.plot(content_gain_list, AutoRec_User_content_list, label = \"User Content AutoReC\")\n",
        "ax.plot(content_gain_list , AutoRec_Item_content_list, label = \"Item Content  AutoReC\")\n",
        "ax.legend()"
      ]
    },
    {
      "cell_type": "markdown",
      "metadata": {
        "id": "HpGngx7JZuh0"
      },
      "source": [
        "## <br>\n",
        "\n",
        "## 2. Deep Autoencoder Recommendation\n",
        "\n",
        "Creating a deeper network while keeping the same number of parameters\n",
        "<br>"
      ]
    },
    {
      "cell_type": "markdown",
      "metadata": {
        "id": "lnc09vTVL6HD"
      },
      "source": [
        "## Deep AutoRec User"
      ]
    },
    {
      "cell_type": "code",
      "execution_count": null,
      "metadata": {
        "id": "hcZlU9agIjrM"
      },
      "outputs": [],
      "source": [
        "%%time\n",
        "\n",
        "#Best single - RMSE: 0.873\n",
        "#hidden_dims=[100],lr=0.003,epochs=500,dropout=0,batch_size=1024,activation=Sigmoid()\n",
        "#dest deep\n",
        "#4M params , 0.879 runner_autorec_user,_,_ = train_autorec_user(epochs=2000,activation=ReLU(),hidden_dims=[100,64,100],lr=0.0001,batch_size=256,dropout=0.3,verbose=True)\n",
        "'''\n",
        "# 0.873 runner_autorec_user,_,_ = train_autorec_user(epochs=1500,activation=ELU(),hidden_dims=[512, 256, 512],\n",
        "                                            #  lr=0.01,batch_size=128,dropout=0.7,verbose=True,optimizer='sgd')\n",
        "Same as \"diamond\" arch:\n",
        "runner_autorec_user,_,_ = train_autorec_user(epochs=850,activation=ELU(),hidden_dims=[256,512,256],\n",
        "                                             lr=0.01,batch_size=100,dropout=0.8,verbose=True,optimizer='sgd')           \n",
        "'''\n",
        "runner_autorec_user,_,_ = train_autorec_user(epochs=850,activation=ELU(),hidden_dims=[256,512,256],\n",
        "                                             lr=0.01,batch_size=100,dropout=0.8,verbose=True,optimizer='sgd') \n",
        "print(evaluate_autorec_user(runner_autorec_user,model_name='DeepAutoRec_User',save_results=True))\n",
        "\n",
        "runner_autorec_user.loss_graph()"
      ]
    },
    {
      "cell_type": "code",
      "execution_count": 78,
      "metadata": {
        "id": "XYQID3qKQ0_8",
        "colab": {
          "base_uri": "https://localhost:8080/",
          "height": 268
        },
        "outputId": "65df8a73-f718-45c0-bccd-c02cb17dcf6d"
      },
      "outputs": [
        {
          "output_type": "execute_result",
          "data": {
            "text/html": [
              "\n",
              "  <div id=\"df-a9c72936-7288-4093-a78a-74a227e72047\">\n",
              "    <div class=\"colab-df-container\">\n",
              "      <div>\n",
              "<style scoped>\n",
              "    .dataframe tbody tr th:only-of-type {\n",
              "        vertical-align: middle;\n",
              "    }\n",
              "\n",
              "    .dataframe tbody tr th {\n",
              "        vertical-align: top;\n",
              "    }\n",
              "\n",
              "    .dataframe thead th {\n",
              "        text-align: right;\n",
              "    }\n",
              "</style>\n",
              "<table border=\"1\" class=\"dataframe\">\n",
              "  <thead>\n",
              "    <tr style=\"text-align: right;\">\n",
              "      <th></th>\n",
              "      <th>RMSE</th>\n",
              "      <th>MRR_5</th>\n",
              "      <th>MRR_10</th>\n",
              "      <th>NDCG_5</th>\n",
              "      <th>NDCG_10</th>\n",
              "      <th>Time</th>\n",
              "    </tr>\n",
              "    <tr>\n",
              "      <th>Method</th>\n",
              "      <th></th>\n",
              "      <th></th>\n",
              "      <th></th>\n",
              "      <th></th>\n",
              "      <th></th>\n",
              "      <th></th>\n",
              "    </tr>\n",
              "  </thead>\n",
              "  <tbody>\n",
              "    <tr>\n",
              "      <th>AutoRec_Item</th>\n",
              "      <td>0.838</td>\n",
              "      <td>0.974</td>\n",
              "      <td>0.974</td>\n",
              "      <td>0.965</td>\n",
              "      <td>0.970</td>\n",
              "      <td>16.514515</td>\n",
              "    </tr>\n",
              "    <tr>\n",
              "      <th>AutoRec_Item_Advance</th>\n",
              "      <td>0.839</td>\n",
              "      <td>0.977</td>\n",
              "      <td>0.977</td>\n",
              "      <td>0.966</td>\n",
              "      <td>0.971</td>\n",
              "      <td>37.101328</td>\n",
              "    </tr>\n",
              "    <tr>\n",
              "      <th>AutoRec_Item_Content</th>\n",
              "      <td>0.842</td>\n",
              "      <td>0.974</td>\n",
              "      <td>0.973</td>\n",
              "      <td>0.965</td>\n",
              "      <td>0.969</td>\n",
              "      <td>33.618607</td>\n",
              "    </tr>\n",
              "    <tr>\n",
              "      <th>AutoRec_User</th>\n",
              "      <td>0.879</td>\n",
              "      <td>0.988</td>\n",
              "      <td>0.988</td>\n",
              "      <td>0.968</td>\n",
              "      <td>0.972</td>\n",
              "      <td>124.197437</td>\n",
              "    </tr>\n",
              "    <tr>\n",
              "      <th>AutoRec_User_Content</th>\n",
              "      <td>0.871</td>\n",
              "      <td>0.988</td>\n",
              "      <td>0.988</td>\n",
              "      <td>0.969</td>\n",
              "      <td>0.973</td>\n",
              "      <td>202.111784</td>\n",
              "    </tr>\n",
              "    <tr>\n",
              "      <th>MF_NN</th>\n",
              "      <td>0.864</td>\n",
              "      <td>0.987</td>\n",
              "      <td>0.987</td>\n",
              "      <td>0.967</td>\n",
              "      <td>0.971</td>\n",
              "      <td>168.180904</td>\n",
              "    </tr>\n",
              "  </tbody>\n",
              "</table>\n",
              "</div>\n",
              "      <button class=\"colab-df-convert\" onclick=\"convertToInteractive('df-a9c72936-7288-4093-a78a-74a227e72047')\"\n",
              "              title=\"Convert this dataframe to an interactive table.\"\n",
              "              style=\"display:none;\">\n",
              "        \n",
              "  <svg xmlns=\"http://www.w3.org/2000/svg\" height=\"24px\"viewBox=\"0 0 24 24\"\n",
              "       width=\"24px\">\n",
              "    <path d=\"M0 0h24v24H0V0z\" fill=\"none\"/>\n",
              "    <path d=\"M18.56 5.44l.94 2.06.94-2.06 2.06-.94-2.06-.94-.94-2.06-.94 2.06-2.06.94zm-11 1L8.5 8.5l.94-2.06 2.06-.94-2.06-.94L8.5 2.5l-.94 2.06-2.06.94zm10 10l.94 2.06.94-2.06 2.06-.94-2.06-.94-.94-2.06-.94 2.06-2.06.94z\"/><path d=\"M17.41 7.96l-1.37-1.37c-.4-.4-.92-.59-1.43-.59-.52 0-1.04.2-1.43.59L10.3 9.45l-7.72 7.72c-.78.78-.78 2.05 0 2.83L4 21.41c.39.39.9.59 1.41.59.51 0 1.02-.2 1.41-.59l7.78-7.78 2.81-2.81c.8-.78.8-2.07 0-2.86zM5.41 20L4 18.59l7.72-7.72 1.47 1.35L5.41 20z\"/>\n",
              "  </svg>\n",
              "      </button>\n",
              "      \n",
              "  <style>\n",
              "    .colab-df-container {\n",
              "      display:flex;\n",
              "      flex-wrap:wrap;\n",
              "      gap: 12px;\n",
              "    }\n",
              "\n",
              "    .colab-df-convert {\n",
              "      background-color: #E8F0FE;\n",
              "      border: none;\n",
              "      border-radius: 50%;\n",
              "      cursor: pointer;\n",
              "      display: none;\n",
              "      fill: #1967D2;\n",
              "      height: 32px;\n",
              "      padding: 0 0 0 0;\n",
              "      width: 32px;\n",
              "    }\n",
              "\n",
              "    .colab-df-convert:hover {\n",
              "      background-color: #E2EBFA;\n",
              "      box-shadow: 0px 1px 2px rgba(60, 64, 67, 0.3), 0px 1px 3px 1px rgba(60, 64, 67, 0.15);\n",
              "      fill: #174EA6;\n",
              "    }\n",
              "\n",
              "    [theme=dark] .colab-df-convert {\n",
              "      background-color: #3B4455;\n",
              "      fill: #D2E3FC;\n",
              "    }\n",
              "\n",
              "    [theme=dark] .colab-df-convert:hover {\n",
              "      background-color: #434B5C;\n",
              "      box-shadow: 0px 1px 3px 1px rgba(0, 0, 0, 0.15);\n",
              "      filter: drop-shadow(0px 1px 2px rgba(0, 0, 0, 0.3));\n",
              "      fill: #FFFFFF;\n",
              "    }\n",
              "  </style>\n",
              "\n",
              "      <script>\n",
              "        const buttonEl =\n",
              "          document.querySelector('#df-a9c72936-7288-4093-a78a-74a227e72047 button.colab-df-convert');\n",
              "        buttonEl.style.display =\n",
              "          google.colab.kernel.accessAllowed ? 'block' : 'none';\n",
              "\n",
              "        async function convertToInteractive(key) {\n",
              "          const element = document.querySelector('#df-a9c72936-7288-4093-a78a-74a227e72047');\n",
              "          const dataTable =\n",
              "            await google.colab.kernel.invokeFunction('convertToInteractive',\n",
              "                                                     [key], {});\n",
              "          if (!dataTable) return;\n",
              "\n",
              "          const docLinkHtml = 'Like what you see? Visit the ' +\n",
              "            '<a target=\"_blank\" href=https://colab.research.google.com/notebooks/data_table.ipynb>data table notebook</a>'\n",
              "            + ' to learn more about interactive tables.';\n",
              "          element.innerHTML = '';\n",
              "          dataTable['output_type'] = 'display_data';\n",
              "          await google.colab.output.renderOutput(dataTable, element);\n",
              "          const docLink = document.createElement('div');\n",
              "          docLink.innerHTML = docLinkHtml;\n",
              "          element.appendChild(docLink);\n",
              "        }\n",
              "      </script>\n",
              "    </div>\n",
              "  </div>\n",
              "  "
            ],
            "text/plain": [
              "                       RMSE  MRR_5  MRR_10  NDCG_5  NDCG_10        Time\n",
              "Method                                                                 \n",
              "AutoRec_Item          0.838  0.974   0.974   0.965    0.970   16.514515\n",
              "AutoRec_Item_Advance  0.839  0.977   0.977   0.966    0.971   37.101328\n",
              "AutoRec_Item_Content  0.842  0.974   0.973   0.965    0.969   33.618607\n",
              "AutoRec_User          0.879  0.988   0.988   0.968    0.972  124.197437\n",
              "AutoRec_User_Content  0.871  0.988   0.988   0.969    0.973  202.111784\n",
              "MF_NN                 0.864  0.987   0.987   0.967    0.971  168.180904"
            ]
          },
          "metadata": {},
          "execution_count": 78
        }
      ],
      "source": [
        "final_results.groupby('Method').min('RMSE')"
      ]
    },
    {
      "cell_type": "markdown",
      "metadata": {
        "id": "7ZS2B3VzL-J9"
      },
      "source": [
        "## Deep AutoRec Item"
      ]
    },
    {
      "cell_type": "code",
      "execution_count": 79,
      "metadata": {
        "id": "74JUeZ5aLWkX",
        "colab": {
          "base_uri": "https://localhost:8080/",
          "height": 816
        },
        "outputId": "6764d5a3-6b7c-474f-b6ba-cb962ab49b16"
      },
      "outputs": [
        {
          "output_type": "stream",
          "name": "stdout",
          "text": [
            "AutoRec(\n",
            "  (autorec_sequential): Sequential(\n",
            "    (0): Linear(in_features=6040, out_features=400, bias=True)\n",
            "    (1): ELU(alpha=1.0)\n",
            "    (2): Linear(in_features=400, out_features=200, bias=True)\n",
            "    (3): ELU(alpha=1.0)\n",
            "    (4): Linear(in_features=200, out_features=400, bias=True)\n",
            "    (5): ELU(alpha=1.0)\n",
            "    (6): Linear(in_features=400, out_features=6040, bias=True)\n",
            "    (7): Identity()\n",
            "  )\n",
            ") \n",
            "\n",
            "Model parameters: 4999040\n",
            "SGD\n",
            "Epoch 1,Train loss  : 14.041,Test loss    : 14.022\n",
            "Epoch 151,Train loss  : 0.820,Test loss    : 0.848\n",
            "Epoch 301,Train loss  : 0.766,Test loss    : 0.805\n",
            "Epoch 451,Train loss  : 0.728,Test loss    : 0.779\n",
            "Epoch 601,Train loss  : 0.701,Test loss    : 0.761\n",
            "Epoch 751,Train loss  : 0.676,Test loss    : 0.748\n",
            "Epoch 901,Train loss  : 0.656,Test loss    : 0.739\n",
            "Epoch 1051,Train loss  : 0.641,Test loss    : 0.733\n",
            "Epoch 1201,Train loss  : 0.640,Test loss    : 0.733\n",
            "Early stoping after 1210 epochs. Test loss did not imporve for more than 30 epcochs\n",
            "\n",
            "Finished Training, Train loss=0.640, Test loss=0.733\n",
            "('DeepAutoRec_Item', 0.856, 0.969, 0.969, 0.962, 0.967, 172.11088561700035, 4999040)\n",
            "CPU times: user 2min 57s, sys: 1.56 s, total: 2min 58s\n",
            "Wall time: 2min 57s\n"
          ]
        },
        {
          "output_type": "display_data",
          "data": {
            "image/png": "[encoded data removed]",
            "text/plain": [
              "<Figure size 720x288 with 1 Axes>"
            ]
          },
          "metadata": {
            "needs_background": "light"
          }
        }
      ],
      "source": [
        "%%time\n",
        "\n",
        "#BEST single: 0.838.... \n",
        "#hidden_dims=[400],lr=0.003,epochs=500,dropout=0,batch_size=1024,activation=Sigmoid())\n",
        "#dest deep\n",
        "#0.888 same params: runner_autorec_item,_,_ = train_autorec_item(activation=ReLU(),hidden_dims=[400,100,400],lr=0.005,batch_size=512,dropout=0.5,verbose=True)\n",
        "#0.859\n",
        "# runner_autorec_item,_,_ = train_autorec_item(hidden_dims=[400,200,400],\n",
        "                                            #  epochs=1500,lr=0.01,\n",
        "                                            #  activation=ReLU(),\n",
        "                                            #  verbose=True,optimizer='sgd',wd=0.001)\n",
        "\n",
        "runner_autorec_item,_,_ = train_autorec_item(hidden_dims=[400,200,400],\n",
        "                                             epochs=1500,lr=0.01,\n",
        "                                             activation=ELU(),\n",
        "                                             verbose=True,optimizer='sgd',wd=0.001)\n",
        "\n",
        "print(evaluate_autorec_item(runner_autorec_item,model_name='DeepAutoRec_Item',save_results=True))\n",
        "\n",
        "runner_autorec_item.loss_graph()"
      ]
    },
    {
      "cell_type": "code",
      "execution_count": 80,
      "metadata": {
        "id": "rMOWksK8Zuh1",
        "colab": {
          "base_uri": "https://localhost:8080/",
          "height": 332
        },
        "outputId": "805bd3b6-b113-4c02-b6a2-17812cdb5c34"
      },
      "outputs": [
        {
          "output_type": "execute_result",
          "data": {
            "text/html": [
              "\n",
              "  <div id=\"df-9f4d122e-acd1-4a06-bc2a-e225971af15b\">\n",
              "    <div class=\"colab-df-container\">\n",
              "      <div>\n",
              "<style scoped>\n",
              "    .dataframe tbody tr th:only-of-type {\n",
              "        vertical-align: middle;\n",
              "    }\n",
              "\n",
              "    .dataframe tbody tr th {\n",
              "        vertical-align: top;\n",
              "    }\n",
              "\n",
              "    .dataframe thead th {\n",
              "        text-align: right;\n",
              "    }\n",
              "</style>\n",
              "<table border=\"1\" class=\"dataframe\">\n",
              "  <thead>\n",
              "    <tr style=\"text-align: right;\">\n",
              "      <th></th>\n",
              "      <th>Method</th>\n",
              "      <th>RMSE</th>\n",
              "      <th>MRR_5</th>\n",
              "      <th>MRR_10</th>\n",
              "      <th>NDCG_5</th>\n",
              "      <th>NDCG_10</th>\n",
              "      <th>Time</th>\n",
              "      <th>Params</th>\n",
              "    </tr>\n",
              "  </thead>\n",
              "  <tbody>\n",
              "    <tr>\n",
              "      <th>0</th>\n",
              "      <td>MF_NN</td>\n",
              "      <td>0.864</td>\n",
              "      <td>0.987</td>\n",
              "      <td>0.987</td>\n",
              "      <td>0.967</td>\n",
              "      <td>0.971</td>\n",
              "      <td>168.180904</td>\n",
              "      <td>199880</td>\n",
              "    </tr>\n",
              "    <tr>\n",
              "      <th>1</th>\n",
              "      <td>AutoRec_User</td>\n",
              "      <td>0.879</td>\n",
              "      <td>0.988</td>\n",
              "      <td>0.988</td>\n",
              "      <td>0.968</td>\n",
              "      <td>0.972</td>\n",
              "      <td>124.197437</td>\n",
              "      <td>794452</td>\n",
              "    </tr>\n",
              "    <tr>\n",
              "      <th>2</th>\n",
              "      <td>AutoRec_Item</td>\n",
              "      <td>0.838</td>\n",
              "      <td>0.974</td>\n",
              "      <td>0.974</td>\n",
              "      <td>0.965</td>\n",
              "      <td>0.970</td>\n",
              "      <td>16.514515</td>\n",
              "      <td>4838440</td>\n",
              "    </tr>\n",
              "    <tr>\n",
              "      <th>3</th>\n",
              "      <td>AutoRec_User_Content</td>\n",
              "      <td>0.871</td>\n",
              "      <td>0.989</td>\n",
              "      <td>0.989</td>\n",
              "      <td>0.969</td>\n",
              "      <td>0.973</td>\n",
              "      <td>202.111784</td>\n",
              "      <td>1200237</td>\n",
              "    </tr>\n",
              "    <tr>\n",
              "      <th>4</th>\n",
              "      <td>AutoRec_Item_Content</td>\n",
              "      <td>0.843</td>\n",
              "      <td>0.974</td>\n",
              "      <td>0.974</td>\n",
              "      <td>0.965</td>\n",
              "      <td>0.969</td>\n",
              "      <td>34.425685</td>\n",
              "      <td>6064558</td>\n",
              "    </tr>\n",
              "    <tr>\n",
              "      <th>5</th>\n",
              "      <td>AutoRec_Item_Advance</td>\n",
              "      <td>0.839</td>\n",
              "      <td>0.977</td>\n",
              "      <td>0.977</td>\n",
              "      <td>0.966</td>\n",
              "      <td>0.971</td>\n",
              "      <td>37.101328</td>\n",
              "      <td>6173602</td>\n",
              "    </tr>\n",
              "    <tr>\n",
              "      <th>6</th>\n",
              "      <td>AutoRec_User_Content</td>\n",
              "      <td>0.871</td>\n",
              "      <td>0.988</td>\n",
              "      <td>0.988</td>\n",
              "      <td>0.969</td>\n",
              "      <td>0.973</td>\n",
              "      <td>269.684787</td>\n",
              "      <td>1200237</td>\n",
              "    </tr>\n",
              "    <tr>\n",
              "      <th>7</th>\n",
              "      <td>AutoRec_Item_Content</td>\n",
              "      <td>0.842</td>\n",
              "      <td>0.974</td>\n",
              "      <td>0.973</td>\n",
              "      <td>0.965</td>\n",
              "      <td>0.970</td>\n",
              "      <td>33.618607</td>\n",
              "      <td>6064558</td>\n",
              "    </tr>\n",
              "    <tr>\n",
              "      <th>8</th>\n",
              "      <td>DeepAutoRec_Item</td>\n",
              "      <td>0.856</td>\n",
              "      <td>0.969</td>\n",
              "      <td>0.969</td>\n",
              "      <td>0.962</td>\n",
              "      <td>0.967</td>\n",
              "      <td>172.110886</td>\n",
              "      <td>4999040</td>\n",
              "    </tr>\n",
              "  </tbody>\n",
              "</table>\n",
              "</div>\n",
              "      <button class=\"colab-df-convert\" onclick=\"convertToInteractive('df-9f4d122e-acd1-4a06-bc2a-e225971af15b')\"\n",
              "              title=\"Convert this dataframe to an interactive table.\"\n",
              "              style=\"display:none;\">\n",
              "        \n",
              "  <svg xmlns=\"http://www.w3.org/2000/svg\" height=\"24px\"viewBox=\"0 0 24 24\"\n",
              "       width=\"24px\">\n",
              "    <path d=\"M0 0h24v24H0V0z\" fill=\"none\"/>\n",
              "    <path d=\"M18.56 5.44l.94 2.06.94-2.06 2.06-.94-2.06-.94-.94-2.06-.94 2.06-2.06.94zm-11 1L8.5 8.5l.94-2.06 2.06-.94-2.06-.94L8.5 2.5l-.94 2.06-2.06.94zm10 10l.94 2.06.94-2.06 2.06-.94-2.06-.94-.94-2.06-.94 2.06-2.06.94z\"/><path d=\"M17.41 7.96l-1.37-1.37c-.4-.4-.92-.59-1.43-.59-.52 0-1.04.2-1.43.59L10.3 9.45l-7.72 7.72c-.78.78-.78 2.05 0 2.83L4 21.41c.39.39.9.59 1.41.59.51 0 1.02-.2 1.41-.59l7.78-7.78 2.81-2.81c.8-.78.8-2.07 0-2.86zM5.41 20L4 18.59l7.72-7.72 1.47 1.35L5.41 20z\"/>\n",
              "  </svg>\n",
              "      </button>\n",
              "      \n",
              "  <style>\n",
              "    .colab-df-container {\n",
              "      display:flex;\n",
              "      flex-wrap:wrap;\n",
              "      gap: 12px;\n",
              "    }\n",
              "\n",
              "    .colab-df-convert {\n",
              "      background-color: #E8F0FE;\n",
              "      border: none;\n",
              "      border-radius: 50%;\n",
              "      cursor: pointer;\n",
              "      display: none;\n",
              "      fill: #1967D2;\n",
              "      height: 32px;\n",
              "      padding: 0 0 0 0;\n",
              "      width: 32px;\n",
              "    }\n",
              "\n",
              "    .colab-df-convert:hover {\n",
              "      background-color: #E2EBFA;\n",
              "      box-shadow: 0px 1px 2px rgba(60, 64, 67, 0.3), 0px 1px 3px 1px rgba(60, 64, 67, 0.15);\n",
              "      fill: #174EA6;\n",
              "    }\n",
              "\n",
              "    [theme=dark] .colab-df-convert {\n",
              "      background-color: #3B4455;\n",
              "      fill: #D2E3FC;\n",
              "    }\n",
              "\n",
              "    [theme=dark] .colab-df-convert:hover {\n",
              "      background-color: #434B5C;\n",
              "      box-shadow: 0px 1px 3px 1px rgba(0, 0, 0, 0.15);\n",
              "      filter: drop-shadow(0px 1px 2px rgba(0, 0, 0, 0.3));\n",
              "      fill: #FFFFFF;\n",
              "    }\n",
              "  </style>\n",
              "\n",
              "      <script>\n",
              "        const buttonEl =\n",
              "          document.querySelector('#df-9f4d122e-acd1-4a06-bc2a-e225971af15b button.colab-df-convert');\n",
              "        buttonEl.style.display =\n",
              "          google.colab.kernel.accessAllowed ? 'block' : 'none';\n",
              "\n",
              "        async function convertToInteractive(key) {\n",
              "          const element = document.querySelector('#df-9f4d122e-acd1-4a06-bc2a-e225971af15b');\n",
              "          const dataTable =\n",
              "            await google.colab.kernel.invokeFunction('convertToInteractive',\n",
              "                                                     [key], {});\n",
              "          if (!dataTable) return;\n",
              "\n",
              "          const docLinkHtml = 'Like what you see? Visit the ' +\n",
              "            '<a target=\"_blank\" href=https://colab.research.google.com/notebooks/data_table.ipynb>data table notebook</a>'\n",
              "            + ' to learn more about interactive tables.';\n",
              "          element.innerHTML = '';\n",
              "          dataTable['output_type'] = 'display_data';\n",
              "          await google.colab.output.renderOutput(dataTable, element);\n",
              "          const docLink = document.createElement('div');\n",
              "          docLink.innerHTML = docLinkHtml;\n",
              "          element.appendChild(docLink);\n",
              "        }\n",
              "      </script>\n",
              "    </div>\n",
              "  </div>\n",
              "  "
            ],
            "text/plain": [
              "                 Method   RMSE  MRR_5  ...  NDCG_10        Time   Params\n",
              "0                 MF_NN  0.864  0.987  ...    0.971  168.180904   199880\n",
              "1          AutoRec_User  0.879  0.988  ...    0.972  124.197437   794452\n",
              "2          AutoRec_Item  0.838  0.974  ...    0.970   16.514515  4838440\n",
              "3  AutoRec_User_Content  0.871  0.989  ...    0.973  202.111784  1200237\n",
              "4  AutoRec_Item_Content  0.843  0.974  ...    0.969   34.425685  6064558\n",
              "5  AutoRec_Item_Advance  0.839  0.977  ...    0.971   37.101328  6173602\n",
              "6  AutoRec_User_Content  0.871  0.988  ...    0.973  269.684787  1200237\n",
              "7  AutoRec_Item_Content  0.842  0.974  ...    0.970   33.618607  6064558\n",
              "8      DeepAutoRec_Item  0.856  0.969  ...    0.967  172.110886  4999040\n",
              "\n",
              "[9 rows x 8 columns]"
            ]
          },
          "metadata": {},
          "execution_count": 80
        }
      ],
      "source": [
        "final_results"
      ]
    },
    {
      "cell_type": "code",
      "execution_count": 81,
      "metadata": {
        "id": "kWuRiBPiQzd1",
        "colab": {
          "base_uri": "https://localhost:8080/",
          "height": 300
        },
        "outputId": "1ced6f75-fb8a-4b0b-ea7a-2000525f3a53"
      },
      "outputs": [
        {
          "output_type": "execute_result",
          "data": {
            "text/html": [
              "\n",
              "  <div id=\"df-a5e00fbc-ac72-4e59-8d79-ef3f8c588a72\">\n",
              "    <div class=\"colab-df-container\">\n",
              "      <div>\n",
              "<style scoped>\n",
              "    .dataframe tbody tr th:only-of-type {\n",
              "        vertical-align: middle;\n",
              "    }\n",
              "\n",
              "    .dataframe tbody tr th {\n",
              "        vertical-align: top;\n",
              "    }\n",
              "\n",
              "    .dataframe thead th {\n",
              "        text-align: right;\n",
              "    }\n",
              "</style>\n",
              "<table border=\"1\" class=\"dataframe\">\n",
              "  <thead>\n",
              "    <tr style=\"text-align: right;\">\n",
              "      <th></th>\n",
              "      <th>RMSE</th>\n",
              "      <th>MRR_5</th>\n",
              "      <th>MRR_10</th>\n",
              "      <th>NDCG_5</th>\n",
              "      <th>NDCG_10</th>\n",
              "      <th>Time</th>\n",
              "    </tr>\n",
              "    <tr>\n",
              "      <th>Method</th>\n",
              "      <th></th>\n",
              "      <th></th>\n",
              "      <th></th>\n",
              "      <th></th>\n",
              "      <th></th>\n",
              "      <th></th>\n",
              "    </tr>\n",
              "  </thead>\n",
              "  <tbody>\n",
              "    <tr>\n",
              "      <th>AutoRec_Item</th>\n",
              "      <td>0.838</td>\n",
              "      <td>0.974</td>\n",
              "      <td>0.974</td>\n",
              "      <td>0.965</td>\n",
              "      <td>0.970</td>\n",
              "      <td>16.514515</td>\n",
              "    </tr>\n",
              "    <tr>\n",
              "      <th>AutoRec_Item_Advance</th>\n",
              "      <td>0.839</td>\n",
              "      <td>0.977</td>\n",
              "      <td>0.977</td>\n",
              "      <td>0.966</td>\n",
              "      <td>0.971</td>\n",
              "      <td>37.101328</td>\n",
              "    </tr>\n",
              "    <tr>\n",
              "      <th>AutoRec_Item_Content</th>\n",
              "      <td>0.842</td>\n",
              "      <td>0.974</td>\n",
              "      <td>0.973</td>\n",
              "      <td>0.965</td>\n",
              "      <td>0.969</td>\n",
              "      <td>33.618607</td>\n",
              "    </tr>\n",
              "    <tr>\n",
              "      <th>AutoRec_User</th>\n",
              "      <td>0.879</td>\n",
              "      <td>0.988</td>\n",
              "      <td>0.988</td>\n",
              "      <td>0.968</td>\n",
              "      <td>0.972</td>\n",
              "      <td>124.197437</td>\n",
              "    </tr>\n",
              "    <tr>\n",
              "      <th>AutoRec_User_Content</th>\n",
              "      <td>0.871</td>\n",
              "      <td>0.988</td>\n",
              "      <td>0.988</td>\n",
              "      <td>0.969</td>\n",
              "      <td>0.973</td>\n",
              "      <td>202.111784</td>\n",
              "    </tr>\n",
              "    <tr>\n",
              "      <th>DeepAutoRec_Item</th>\n",
              "      <td>0.856</td>\n",
              "      <td>0.969</td>\n",
              "      <td>0.969</td>\n",
              "      <td>0.962</td>\n",
              "      <td>0.967</td>\n",
              "      <td>172.110886</td>\n",
              "    </tr>\n",
              "    <tr>\n",
              "      <th>MF_NN</th>\n",
              "      <td>0.864</td>\n",
              "      <td>0.987</td>\n",
              "      <td>0.987</td>\n",
              "      <td>0.967</td>\n",
              "      <td>0.971</td>\n",
              "      <td>168.180904</td>\n",
              "    </tr>\n",
              "  </tbody>\n",
              "</table>\n",
              "</div>\n",
              "      <button class=\"colab-df-convert\" onclick=\"convertToInteractive('df-a5e00fbc-ac72-4e59-8d79-ef3f8c588a72')\"\n",
              "              title=\"Convert this dataframe to an interactive table.\"\n",
              "              style=\"display:none;\">\n",
              "        \n",
              "  <svg xmlns=\"http://www.w3.org/2000/svg\" height=\"24px\"viewBox=\"0 0 24 24\"\n",
              "       width=\"24px\">\n",
              "    <path d=\"M0 0h24v24H0V0z\" fill=\"none\"/>\n",
              "    <path d=\"M18.56 5.44l.94 2.06.94-2.06 2.06-.94-2.06-.94-.94-2.06-.94 2.06-2.06.94zm-11 1L8.5 8.5l.94-2.06 2.06-.94-2.06-.94L8.5 2.5l-.94 2.06-2.06.94zm10 10l.94 2.06.94-2.06 2.06-.94-2.06-.94-.94-2.06-.94 2.06-2.06.94z\"/><path d=\"M17.41 7.96l-1.37-1.37c-.4-.4-.92-.59-1.43-.59-.52 0-1.04.2-1.43.59L10.3 9.45l-7.72 7.72c-.78.78-.78 2.05 0 2.83L4 21.41c.39.39.9.59 1.41.59.51 0 1.02-.2 1.41-.59l7.78-7.78 2.81-2.81c.8-.78.8-2.07 0-2.86zM5.41 20L4 18.59l7.72-7.72 1.47 1.35L5.41 20z\"/>\n",
              "  </svg>\n",
              "      </button>\n",
              "      \n",
              "  <style>\n",
              "    .colab-df-container {\n",
              "      display:flex;\n",
              "      flex-wrap:wrap;\n",
              "      gap: 12px;\n",
              "    }\n",
              "\n",
              "    .colab-df-convert {\n",
              "      background-color: #E8F0FE;\n",
              "      border: none;\n",
              "      border-radius: 50%;\n",
              "      cursor: pointer;\n",
              "      display: none;\n",
              "      fill: #1967D2;\n",
              "      height: 32px;\n",
              "      padding: 0 0 0 0;\n",
              "      width: 32px;\n",
              "    }\n",
              "\n",
              "    .colab-df-convert:hover {\n",
              "      background-color: #E2EBFA;\n",
              "      box-shadow: 0px 1px 2px rgba(60, 64, 67, 0.3), 0px 1px 3px 1px rgba(60, 64, 67, 0.15);\n",
              "      fill: #174EA6;\n",
              "    }\n",
              "\n",
              "    [theme=dark] .colab-df-convert {\n",
              "      background-color: #3B4455;\n",
              "      fill: #D2E3FC;\n",
              "    }\n",
              "\n",
              "    [theme=dark] .colab-df-convert:hover {\n",
              "      background-color: #434B5C;\n",
              "      box-shadow: 0px 1px 3px 1px rgba(0, 0, 0, 0.15);\n",
              "      filter: drop-shadow(0px 1px 2px rgba(0, 0, 0, 0.3));\n",
              "      fill: #FFFFFF;\n",
              "    }\n",
              "  </style>\n",
              "\n",
              "      <script>\n",
              "        const buttonEl =\n",
              "          document.querySelector('#df-a5e00fbc-ac72-4e59-8d79-ef3f8c588a72 button.colab-df-convert');\n",
              "        buttonEl.style.display =\n",
              "          google.colab.kernel.accessAllowed ? 'block' : 'none';\n",
              "\n",
              "        async function convertToInteractive(key) {\n",
              "          const element = document.querySelector('#df-a5e00fbc-ac72-4e59-8d79-ef3f8c588a72');\n",
              "          const dataTable =\n",
              "            await google.colab.kernel.invokeFunction('convertToInteractive',\n",
              "                                                     [key], {});\n",
              "          if (!dataTable) return;\n",
              "\n",
              "          const docLinkHtml = 'Like what you see? Visit the ' +\n",
              "            '<a target=\"_blank\" href=https://colab.research.google.com/notebooks/data_table.ipynb>data table notebook</a>'\n",
              "            + ' to learn more about interactive tables.';\n",
              "          element.innerHTML = '';\n",
              "          dataTable['output_type'] = 'display_data';\n",
              "          await google.colab.output.renderOutput(dataTable, element);\n",
              "          const docLink = document.createElement('div');\n",
              "          docLink.innerHTML = docLinkHtml;\n",
              "          element.appendChild(docLink);\n",
              "        }\n",
              "      </script>\n",
              "    </div>\n",
              "  </div>\n",
              "  "
            ],
            "text/plain": [
              "                       RMSE  MRR_5  MRR_10  NDCG_5  NDCG_10        Time\n",
              "Method                                                                 \n",
              "AutoRec_Item          0.838  0.974   0.974   0.965    0.970   16.514515\n",
              "AutoRec_Item_Advance  0.839  0.977   0.977   0.966    0.971   37.101328\n",
              "AutoRec_Item_Content  0.842  0.974   0.973   0.965    0.969   33.618607\n",
              "AutoRec_User          0.879  0.988   0.988   0.968    0.972  124.197437\n",
              "AutoRec_User_Content  0.871  0.988   0.988   0.969    0.973  202.111784\n",
              "DeepAutoRec_Item      0.856  0.969   0.969   0.962    0.967  172.110886\n",
              "MF_NN                 0.864  0.987   0.987   0.967    0.971  168.180904"
            ]
          },
          "metadata": {},
          "execution_count": 81
        }
      ],
      "source": [
        "final_results.groupby('Method').min('RMSE')"
      ]
    },
    {
      "cell_type": "markdown",
      "metadata": {
        "id": "layMEFCQZuh1"
      },
      "source": [
        "## Improvements   Results Summary"
      ]
    },
    {
      "cell_type": "code",
      "execution_count": 82,
      "metadata": {
        "id": "SJhmM5ZAZuh1",
        "colab": {
          "base_uri": "https://localhost:8080/",
          "height": 722
        },
        "outputId": "8ec341cf-0304-4d53-f142-44ba7b4b5eb4"
      },
      "outputs": [
        {
          "output_type": "display_data",
          "data": {
            "image/png": "[encoded data removed]",
            "text/plain": [
              "<Figure size 1440x864 with 2 Axes>"
            ]
          },
          "metadata": {
            "needs_background": "light"
          }
        }
      ],
      "source": [
        "labels = [\"RMSE\" , \"MRR_5\" , \"MRR_10\", \"NDCG_5\" ,\"NDCG_10\" ]\n",
        "x = np.arange(len(labels))\n",
        "\n",
        "AutoRec_User_content = [final_results.loc[3,'RMSE'] , \\\n",
        "                       final_results.loc[3,'MRR_5'] , \\\n",
        "                       final_results.loc[3,'MRR_10'] , \\\n",
        "                       final_results.loc[3,'NDCG_5'] , \\\n",
        "                       final_results.loc[3,'NDCG_10']]\n",
        "\n",
        "AutoRec_User_deep = [final_results.loc[6,'RMSE'] , \\\n",
        "                    final_results.loc[6,'MRR_5'] , \\\n",
        "                    final_results.loc[6,'MRR_10'] , \\\n",
        "                    final_results.loc[6,'NDCG_5'] , \\\n",
        "                    final_results.loc[6,'NDCG_10']]\n",
        "\n",
        "AutoRec_Item_content = [final_results.loc[4,'RMSE'] , \\\n",
        "                       final_results.loc[4,'MRR_5'] , \\\n",
        "                       final_results.loc[4,'MRR_10'] , \\\n",
        "                       final_results.loc[4,'NDCG_5'] , \\\n",
        "                       final_results.loc[4,'NDCG_10']]\n",
        "\n",
        "AutoRec_Item_content_advanced = [final_results.loc[5,'RMSE'] , \\\n",
        "                                 final_results.loc[5,'MRR_5'] , \\\n",
        "                                 final_results.loc[5,'MRR_10'] , \\\n",
        "                                 final_results.loc[5,'NDCG_5'] , \\\n",
        "                                 final_results.loc[5,'NDCG_10']]\n",
        "\n",
        "\n",
        "AutoRec_Item_deep = [final_results.loc[7,'RMSE'] , \\\n",
        "                    final_results.loc[7,'MRR_5'] , \\\n",
        "                    final_results.loc[7,'MRR_10'] , \\\n",
        "                    final_results.loc[7,'NDCG_5'] , \\\n",
        "                    final_results.loc[7,'NDCG_10']] \n",
        "        \n",
        "\n",
        "AutoRec_User_content          = [ int(i*100)/100  for i in AutoRec_User_content]\n",
        "AutoRec_User_deep             = [ int(i*100)/100  for i in AutoRec_User_deep]\n",
        "AutoRec_Item_content          = [ int(i*100)/100  for i in AutoRec_Item_content]\n",
        "AutoRec_Item_content_advanced = [ int(i*100)/100  for i in AutoRec_Item_content_advanced]\n",
        "AutoRec_Item_deep             = [ int(i*100)/100  for i in AutoRec_Item_deep]\n",
        "\n",
        "fig, ax = plt.subplots(2, 1, figsize=(20, 12))\n",
        "width = 0.12\n",
        "ax[0].set_title(\"Dataset: {}  AutoRec_User Evaluation methods\".format(dataset_name), fontsize=16)\n",
        "\n",
        "ax[0].bar(x - width/2, AutoRec_User , width, label='AutoRec_User')\n",
        "ax[0].bar(x + width/2, AutoRec_User_content , width, label='AutoRec_User_content')\n",
        "ax[0].bar(x + (3/2)*width, AutoRec_User_deep, width, label='AutoRec_User_deep')\n",
        "ax[0].set_xticks(x)\n",
        "ax[0].set_xticklabels(labels ,fontsize=14,rotation=0)\n",
        "ax[0].legend(loc='lower right')\n",
        "\n",
        "for p in ax[0].patches:\n",
        "    ax[0].annotate(str(p.get_height()), (p.get_x() * 1.010, p.get_height() * 1.010))\n",
        "\n",
        "ax[1].set_title(\"Dataset: {}  AutoRec_Item Evaluation methods\".format(dataset_name), fontsize=16)\n",
        "ax[1].bar(x - (3/2)*width, AutoRec_Item , width, label='AutoRec_Item')\n",
        "ax[1].bar(x - width/2, AutoRec_Item_content , width, label='AutoRec_Item_content')\n",
        "ax[1].bar(x + (1/2)*width, AutoRec_Item_content_advanced, width, label='AutoRec_Item_content_advanced')\n",
        "ax[1].bar(x + (3/2)*width, AutoRec_Item_deep, width, label='AutoRec_Item_deep')\n",
        "ax[1].set_xticks(x)\n",
        "ax[1].set_xticklabels(labels ,fontsize=14,rotation=0)\n",
        "ax[1].legend(loc='lower right')\n",
        "\n",
        "for p in ax[1].patches:\n",
        "    ax[1].annotate(str(p.get_height()), (p.get_x() * 1.010, p.get_height() * 1.010))"
      ]
    },
    {
      "cell_type": "code",
      "execution_count": 83,
      "metadata": {
        "id": "HlbwOW6bZuh2",
        "colab": {
          "base_uri": "https://localhost:8080/",
          "height": 442
        },
        "outputId": "76ac4868-cb34-447d-e971-6d0f0c606ab6"
      },
      "outputs": [
        {
          "output_type": "display_data",
          "data": {
            "image/png": "[encoded data removed]",
            "text/plain": [
              "<Figure size 1080x288 with 2 Axes>"
            ]
          },
          "metadata": {
            "needs_background": "light"
          }
        }
      ],
      "source": [
        "labels_user = [\"AutoRec_User\" , \"AutoRec_User_content\" , \"AutoRec_User_deep\" ]\n",
        "x_user = np.arange(len(labels_user))\n",
        "\n",
        "time_user = []\n",
        "time_user.append(final_results.loc[1,'Params'])\n",
        "time_user.append(final_results.loc[3,'Params'])\n",
        "time_user.append(final_results.loc[6,'Params'])\n",
        "time_max_user   =  max(time_user)\n",
        "time_max_user   = [ round(i/time_max_user,2)  for i in time_user]\n",
        "\n",
        "\n",
        "labels_item = [\"AutoRec_Item\" , \"AutoRec_Item_content\", \"AutoRec_Item_content_Advance\" , \"AutoRec_Item_deep\" ]\n",
        "x_item = np.arange(len(labels_item))\n",
        "\n",
        "time_item = []\n",
        "time_item.append(final_results.loc[2,'Params'])\n",
        "time_item.append(final_results.loc[4,'Params'])\n",
        "time_item.append(final_results.loc[5,'Params'])\n",
        "time_item.append(final_results.loc[7,'Params'])\n",
        "\n",
        "time_max_item   =  max(time_item)\n",
        "time_max_item   = [ round(i/time_max_item,2)  for i in time_item]\n",
        "\n",
        "\n",
        "fig, ax = plt.subplots(1, 2, figsize=(15, 4))\n",
        "\n",
        "width = 0.2\n",
        "ax[0].bar(x_user ,time_user   , width)\n",
        "ax[0].set_title(\"AutoRec User Num Params\", fontsize=16)\n",
        "ax[0].set_ylabel(\"Params Ratio\", fontsize=16)\n",
        "ax[0].set_xticks(x_user)\n",
        "ax[0].set_xticklabels(labels_user ,fontsize=14,rotation=45)\n",
        "\n",
        "for p in ax[0].patches:\n",
        "    ax[0].annotate(str(p.get_height()), (p.get_x() * 1.010, p.get_height() * 1.010))\n",
        "\n",
        "\n",
        "width = 0.2\n",
        "ax[1].bar(x_item ,time_item   , width)    \n",
        "ax[1].set_title(\"AutoRec Item  Num Params\", fontsize=16)\n",
        "ax[1].set_ylabel(\"Params Ratio\", fontsize=16)\n",
        "ax[1].set_xticks(x_item)\n",
        "ax[1].set_xticklabels(labels_item ,fontsize=14,rotation=45)\n",
        "\n",
        "for p in ax[1].patches:\n",
        "    ax[1].annotate(str(p.get_height()), (p.get_x() * 1.010, p.get_height() * 1.010))"
      ]
    },
    {
      "cell_type": "markdown",
      "metadata": {
        "id": "J0cauYknZuh2"
      },
      "source": [
        "<br>\n",
        "\n",
        "# HyperParams Search using KFold CV \n",
        "\n",
        "<br>"
      ]
    },
    {
      "cell_type": "code",
      "execution_count": 84,
      "metadata": {
        "id": "3SyKMmj57m5W"
      },
      "outputs": [],
      "source": [
        "#Reset the results df\n",
        "final_results_df = pd.DataFrame(columns=['Model_name','Hid_dim_size','Iterations','Learning_Rate','Dropout','Batch_size','RMSE','MRR_5','MRR_10','NDCG_5','NDCG_10','Time'])\n",
        "all_results = pd.DataFrame(columns=final_results_df.columns)"
      ]
    },
    {
      "cell_type": "code",
      "execution_count": 85,
      "metadata": {
        "id": "Y95QI8CC6JRP"
      },
      "outputs": [],
      "source": [
        "def train_cv(model_name,n_iterations , hidden_dims , batch_size,\n",
        "             dropout , learning_rate ,activation, number_of_folds ,final_results,verbose=True):\n",
        "\n",
        "    if verbose:\n",
        "      verbose_formatting = \"{:10}\\t{:10}\\t{:10}\\t{:10}\\t{:10}\\t{:10}\\t{:10}\\t{:4}\\t{:4}\\t{:4}\"\n",
        "      print (verbose_formatting.format(\"Model_name\",\"Iter\",\"Hid_dim_size\",\"LR\",\"Dropout\",\"Batch_size\",\"Fold\", \"Train Loss\" , \"Test Loss\",\"RMSE\"))\n",
        "    \n",
        "    config_num = 0\n",
        "    best_tst_config_rmse, best_trn_config_loss, best_config_num = 10000,10000,config_num\n",
        "    for n_iter in n_iterations:\n",
        "        for hd in hidden_dims:\n",
        "            for lr in learning_rate:\n",
        "                for reg in dropout:\n",
        "                  for act in activation:\n",
        "                      for bs in batch_size:\n",
        "                          dic = {'Iterations':n_iter,'Hid_dim_size':hd,\n",
        "                                'Learning_Rate':lr,'Dropout':reg,\n",
        "                                'Batch_size':bs,'Activation':act}\n",
        "                          rmse, mrr_5,mrr_10,ndcg_5,ndcd_10,train_loss_sum,time_sum = 0,0,0,0,0,0,0\n",
        "                          \n",
        "                          for kfold in range(number_of_folds):                \n",
        "                              train,test = getfulldf(*fold2df(kfold+1))\n",
        "                              # train     = train_list[kfold]\n",
        "                              # test      = test_list[kfold]\n",
        "                          \n",
        "                              # train model on Fold (calling the relevant model function dynamically)\n",
        "                              trn_f = globals()[models[model_name]['model_train_func']]\n",
        "                              model_runner,train_loss,test_loss = trn_f(hidden_dims=[hd],lr=lr,epochs=n_iter,dropout=reg,batch_size=bs,verbose=False,activation=act)\n",
        "\n",
        "                              #evaluate model on Fold\n",
        "                              evl_f = globals()[models[model_name]['model_eval_func']]\n",
        "                              name , rmse_eval, mrr10 , mrr5 , ndcg10, ndcg5 , time, _ = evl_f(model_runner,save_results = True)\n",
        "                              \n",
        "                              train_loss_sum += train_loss\n",
        "                              if verbose:\n",
        "                                verbose_formatting2 = \"{:10}\\t{:10}\\t{:10}\\t{:10}\\t{:10}\\t{:10}\\t{:10}\\t{:4f}\\t{:4f}\\t{:4f}\"\n",
        "                                print (verbose_formatting2.format(model_name,str(n_iter),str(hd),str(lr),str(reg),str(bs),\n",
        "                                                                  str(kfold) ,train_loss , test_loss,rmse_eval))        \n",
        "                              \n",
        "                              #summarize fold results\n",
        "                              rmse     +=  rmse_eval\n",
        "                              mrr_5    +=  mrr5\n",
        "                              mrr_10   +=  mrr10\n",
        "                              ndcg_5   +=  ndcg5\n",
        "                              ndcd_10  +=  ndcg10\n",
        "                              time_sum +=  time\n",
        "                                                                \n",
        "                          #average\n",
        "                          dic['Config_num'] = config_num\n",
        "                          dic['Model_name'] = model_name\n",
        "                          dic['RMSE']     =  rmse/number_of_folds\n",
        "                          dic['MRR_5']    =  mrr_5/number_of_folds\n",
        "                          dic['MRR_10']   =  mrr_10/number_of_folds\n",
        "                          dic['NDCG_5']   =  ndcg_5/number_of_folds\n",
        "                          dic['NDCG_10']  =  ndcd_10/number_of_folds\n",
        "                          dic['Time']     =  time_sum/number_of_folds\n",
        "                          # dic['Params']   =  model_runner.model.num_params()\n",
        "                  \n",
        "                          avg_train_loss = train_loss_sum/number_of_folds\n",
        "                          avg_test_rmse = dic['RMSE']\n",
        "                          print (\"\\033[1mConfig Num {} Summary:  Average Test RMSE: {:.5f})\\033[0m\\n\". \\\n",
        "                                  format(config_num , avg_test_rmse ))\n",
        "                          #save best Config for model\n",
        "                          if avg_test_rmse < best_tst_config_rmse:\n",
        "                            best_tst_config_rmse = avg_test_rmse\n",
        "                            best_trn_config_loss = avg_train_loss\n",
        "                            best_hp = dic.copy()\n",
        "                            best_config_num = config_num\n",
        "\n",
        "                          # add experiment\n",
        "                          final_results = final_results.append(dic,ignore_index=True)\n",
        "                          config_num += 1\n",
        "    print (\"-----------------------------------{}--------------------------------------------------\".format(model_name))\n",
        "    print('Best Test RMSE={:.3f}, was obtained by config={}'.format(best_tst_config_rmse,best_config_num))\n",
        "    print('Hyperparameters used:',best_hp)\n",
        "    print (\"=========================================================================================================\\n\")\n",
        "    return final_results"
      ]
    },
    {
      "cell_type": "markdown",
      "metadata": {
        "id": "VNAzMoL27SYd"
      },
      "source": [
        "## KFold CV for AutoRec User"
      ]
    },
    {
      "cell_type": "code",
      "execution_count": 86,
      "metadata": {
        "id": "NXSpgrHV7RWU",
        "colab": {
          "base_uri": "https://localhost:8080/"
        },
        "outputId": "6f48627f-6830-4e23-a79d-1c2852ef76ee"
      },
      "outputs": [
        {
          "output_type": "stream",
          "name": "stdout",
          "text": [
            "Running 5Fold CV, number of configs=4\n",
            "CPU times: user 0 ns, sys: 195 µs, total: 195 µs\n",
            "Wall time: 167 µs\n"
          ]
        }
      ],
      "source": [
        "%%time\n",
        "\n",
        "'''\n",
        "Best Test RMSE=0.878, was obtained by config=1\n",
        "Hyperparameters used: {'Iterations': 500, 'Hid_dim_size': 200, 'Learning_Rate': 0.0002, 'Dropout': 0, 'Batch_size': 100\n",
        "'''\n",
        "\n",
        "number_of_folds = 5 #MAX_FOLD # 5       \n",
        "#Iterations used for epochs\n",
        "n_iterations   = [1000] #just one value due to computational power\n",
        "learning_rate   = [0.003,0.0005]#1e-3,0.005,0.0003]\n",
        "#learning_rate   = [0.0002]\n",
        "batch_size = [100]  #64]\n",
        "dropout = [0]\n",
        "#hidden_dim_size=[100,250]\n",
        "hidden_dim_size=[175,200]\n",
        "# activation=[Tanh(),LeakyReLU(),Sigmoid()]\n",
        "activation=[Sigmoid()]\n",
        "\n",
        "num_config = len(n_iterations)*len(learning_rate)*len(batch_size)*len(dropout)*len(hidden_dim_size)*len(activation) \n",
        "\n",
        "print('Running {}Fold CV, number of configs={}'.format(number_of_folds,num_config))\n",
        "# for model_name in ['AutoRec_User']:\n",
        "#   all_results = all_results.append(train_cv(model_name,n_iterations , hidden_dim_size ,\n",
        "#                     batch_size , dropout , learning_rate ,activation,\n",
        "#                     number_of_folds ,final_results_df,verbose=True))"
      ]
    },
    {
      "cell_type": "markdown",
      "metadata": {
        "id": "BtCNIBQo8Ul6"
      },
      "source": [
        "## KFold CV for AutoRec Item"
      ]
    },
    {
      "cell_type": "code",
      "execution_count": 87,
      "metadata": {
        "id": "mhZSdZb36JRP",
        "colab": {
          "base_uri": "https://localhost:8080/"
        },
        "outputId": "4431d5eb-0e23-4a70-cf10-2830961c6261"
      },
      "outputs": [
        {
          "output_type": "stream",
          "name": "stdout",
          "text": [
            "CPU times: user 52 µs, sys: 0 ns, total: 52 µs\n",
            "Wall time: 56.7 µs\n"
          ]
        }
      ],
      "source": [
        "%%time\n",
        "\n",
        "'''\n",
        "Best Test RMSE=0.842, was obtained by config=2\n",
        "Hyperparameters used: {'Iterations': 500, 'Hid_dim_size': 400, 'Learning_Rate': 0.0001, 'Dropout': 0, 'Batch_size': 128, \n",
        "'''\n",
        "\n",
        "number_of_folds = 5 #MAX_FOLD # 5       \n",
        "#Iterations used for epochs\n",
        "n_iterations   = [1000] #just one value due to computational power\n",
        "learning_rate   = [1e-3 , 5*1e-4 , 2*1e-4]\n",
        "batch_size = [64 , 128 ,256]  \n",
        "dropout = [0]\n",
        "#hidden_dim_size=[100,250]\n",
        "hidden_dim_size=[400,500]\n",
        "# activation=[Tanh(),LeakyReLU(),Sigmoid()]\n",
        "activation=[Sigmoid()]\n",
        "\n",
        "num_config = len(n_iterations)*len(learning_rate)*len(batch_size)*len(dropout)*len(hidden_dim_size)*len(activation)\n",
        "\n",
        "# print('Running {}Fold CV, number of configs={}'.format(number_of_folds,num_config))\n",
        "# for model_name in ['AutoRec_Item']:\n",
        "#   all_results = all_results.append(train_cv(model_name,n_iterations , hidden_dim_size ,\n",
        "#                     batch_size , dropout , learning_rate ,activation,\n",
        "#                     number_of_folds ,final_results_df,verbose=True))\n",
        "  "
      ]
    },
    {
      "cell_type": "code",
      "execution_count": 88,
      "metadata": {
        "id": "_gNNlOWTG7i6",
        "colab": {
          "base_uri": "https://localhost:8080/",
          "height": 49
        },
        "outputId": "b420796c-6ad4-4515-8c74-931b0327f646"
      },
      "outputs": [
        {
          "output_type": "execute_result",
          "data": {
            "text/html": [
              "\n",
              "  <div id=\"df-a682d219-e1ef-4d45-a8cf-2d5cca4812d7\">\n",
              "    <div class=\"colab-df-container\">\n",
              "      <div>\n",
              "<style scoped>\n",
              "    .dataframe tbody tr th:only-of-type {\n",
              "        vertical-align: middle;\n",
              "    }\n",
              "\n",
              "    .dataframe tbody tr th {\n",
              "        vertical-align: top;\n",
              "    }\n",
              "\n",
              "    .dataframe thead th {\n",
              "        text-align: right;\n",
              "    }\n",
              "</style>\n",
              "<table border=\"1\" class=\"dataframe\">\n",
              "  <thead>\n",
              "    <tr style=\"text-align: right;\">\n",
              "      <th></th>\n",
              "      <th>Model_name</th>\n",
              "      <th>Hid_dim_size</th>\n",
              "      <th>Iterations</th>\n",
              "      <th>Learning_Rate</th>\n",
              "      <th>Dropout</th>\n",
              "      <th>Batch_size</th>\n",
              "      <th>RMSE</th>\n",
              "      <th>MRR_5</th>\n",
              "      <th>MRR_10</th>\n",
              "      <th>NDCG_5</th>\n",
              "      <th>NDCG_10</th>\n",
              "      <th>Time</th>\n",
              "    </tr>\n",
              "  </thead>\n",
              "  <tbody>\n",
              "  </tbody>\n",
              "</table>\n",
              "</div>\n",
              "      <button class=\"colab-df-convert\" onclick=\"convertToInteractive('df-a682d219-e1ef-4d45-a8cf-2d5cca4812d7')\"\n",
              "              title=\"Convert this dataframe to an interactive table.\"\n",
              "              style=\"display:none;\">\n",
              "        \n",
              "  <svg xmlns=\"http://www.w3.org/2000/svg\" height=\"24px\"viewBox=\"0 0 24 24\"\n",
              "       width=\"24px\">\n",
              "    <path d=\"M0 0h24v24H0V0z\" fill=\"none\"/>\n",
              "    <path d=\"M18.56 5.44l.94 2.06.94-2.06 2.06-.94-2.06-.94-.94-2.06-.94 2.06-2.06.94zm-11 1L8.5 8.5l.94-2.06 2.06-.94-2.06-.94L8.5 2.5l-.94 2.06-2.06.94zm10 10l.94 2.06.94-2.06 2.06-.94-2.06-.94-.94-2.06-.94 2.06-2.06.94z\"/><path d=\"M17.41 7.96l-1.37-1.37c-.4-.4-.92-.59-1.43-.59-.52 0-1.04.2-1.43.59L10.3 9.45l-7.72 7.72c-.78.78-.78 2.05 0 2.83L4 21.41c.39.39.9.59 1.41.59.51 0 1.02-.2 1.41-.59l7.78-7.78 2.81-2.81c.8-.78.8-2.07 0-2.86zM5.41 20L4 18.59l7.72-7.72 1.47 1.35L5.41 20z\"/>\n",
              "  </svg>\n",
              "      </button>\n",
              "      \n",
              "  <style>\n",
              "    .colab-df-container {\n",
              "      display:flex;\n",
              "      flex-wrap:wrap;\n",
              "      gap: 12px;\n",
              "    }\n",
              "\n",
              "    .colab-df-convert {\n",
              "      background-color: #E8F0FE;\n",
              "      border: none;\n",
              "      border-radius: 50%;\n",
              "      cursor: pointer;\n",
              "      display: none;\n",
              "      fill: #1967D2;\n",
              "      height: 32px;\n",
              "      padding: 0 0 0 0;\n",
              "      width: 32px;\n",
              "    }\n",
              "\n",
              "    .colab-df-convert:hover {\n",
              "      background-color: #E2EBFA;\n",
              "      box-shadow: 0px 1px 2px rgba(60, 64, 67, 0.3), 0px 1px 3px 1px rgba(60, 64, 67, 0.15);\n",
              "      fill: #174EA6;\n",
              "    }\n",
              "\n",
              "    [theme=dark] .colab-df-convert {\n",
              "      background-color: #3B4455;\n",
              "      fill: #D2E3FC;\n",
              "    }\n",
              "\n",
              "    [theme=dark] .colab-df-convert:hover {\n",
              "      background-color: #434B5C;\n",
              "      box-shadow: 0px 1px 3px 1px rgba(0, 0, 0, 0.15);\n",
              "      filter: drop-shadow(0px 1px 2px rgba(0, 0, 0, 0.3));\n",
              "      fill: #FFFFFF;\n",
              "    }\n",
              "  </style>\n",
              "\n",
              "      <script>\n",
              "        const buttonEl =\n",
              "          document.querySelector('#df-a682d219-e1ef-4d45-a8cf-2d5cca4812d7 button.colab-df-convert');\n",
              "        buttonEl.style.display =\n",
              "          google.colab.kernel.accessAllowed ? 'block' : 'none';\n",
              "\n",
              "        async function convertToInteractive(key) {\n",
              "          const element = document.querySelector('#df-a682d219-e1ef-4d45-a8cf-2d5cca4812d7');\n",
              "          const dataTable =\n",
              "            await google.colab.kernel.invokeFunction('convertToInteractive',\n",
              "                                                     [key], {});\n",
              "          if (!dataTable) return;\n",
              "\n",
              "          const docLinkHtml = 'Like what you see? Visit the ' +\n",
              "            '<a target=\"_blank\" href=https://colab.research.google.com/notebooks/data_table.ipynb>data table notebook</a>'\n",
              "            + ' to learn more about interactive tables.';\n",
              "          element.innerHTML = '';\n",
              "          dataTable['output_type'] = 'display_data';\n",
              "          await google.colab.output.renderOutput(dataTable, element);\n",
              "          const docLink = document.createElement('div');\n",
              "          docLink.innerHTML = docLinkHtml;\n",
              "          element.appendChild(docLink);\n",
              "        }\n",
              "      </script>\n",
              "    </div>\n",
              "  </div>\n",
              "  "
            ],
            "text/plain": [
              "Empty DataFrame\n",
              "Columns: [Model_name, Hid_dim_size, Iterations, Learning_Rate, Dropout, Batch_size, RMSE, MRR_5, MRR_10, NDCG_5, NDCG_10, Time]\n",
              "Index: []"
            ]
          },
          "metadata": {},
          "execution_count": 88
        }
      ],
      "source": [
        "all_results.sort_values(by=['Model_name','RMSE'])"
      ]
    },
    {
      "cell_type": "code",
      "execution_count": 89,
      "metadata": {
        "id": "k75m2oDjWdT6",
        "colab": {
          "base_uri": "https://localhost:8080/",
          "height": 81
        },
        "outputId": "890e9921-78ae-4b85-bbb5-d4e7f5798b7f"
      },
      "outputs": [
        {
          "output_type": "execute_result",
          "data": {
            "text/html": [
              "\n",
              "  <div id=\"df-12675aeb-b4ca-4729-8dd8-e63f93d91b1d\">\n",
              "    <div class=\"colab-df-container\">\n",
              "      <div>\n",
              "<style scoped>\n",
              "    .dataframe tbody tr th:only-of-type {\n",
              "        vertical-align: middle;\n",
              "    }\n",
              "\n",
              "    .dataframe tbody tr th {\n",
              "        vertical-align: top;\n",
              "    }\n",
              "\n",
              "    .dataframe thead th {\n",
              "        text-align: right;\n",
              "    }\n",
              "</style>\n",
              "<table border=\"1\" class=\"dataframe\">\n",
              "  <thead>\n",
              "    <tr style=\"text-align: right;\">\n",
              "      <th></th>\n",
              "      <th>Hid_dim_size</th>\n",
              "      <th>Iterations</th>\n",
              "      <th>Learning_Rate</th>\n",
              "      <th>Dropout</th>\n",
              "      <th>Batch_size</th>\n",
              "      <th>RMSE</th>\n",
              "      <th>MRR_5</th>\n",
              "      <th>MRR_10</th>\n",
              "      <th>NDCG_5</th>\n",
              "      <th>NDCG_10</th>\n",
              "      <th>Time</th>\n",
              "    </tr>\n",
              "    <tr>\n",
              "      <th>Model_name</th>\n",
              "      <th></th>\n",
              "      <th></th>\n",
              "      <th></th>\n",
              "      <th></th>\n",
              "      <th></th>\n",
              "      <th></th>\n",
              "      <th></th>\n",
              "      <th></th>\n",
              "      <th></th>\n",
              "      <th></th>\n",
              "      <th></th>\n",
              "    </tr>\n",
              "  </thead>\n",
              "  <tbody>\n",
              "  </tbody>\n",
              "</table>\n",
              "</div>\n",
              "      <button class=\"colab-df-convert\" onclick=\"convertToInteractive('df-12675aeb-b4ca-4729-8dd8-e63f93d91b1d')\"\n",
              "              title=\"Convert this dataframe to an interactive table.\"\n",
              "              style=\"display:none;\">\n",
              "        \n",
              "  <svg xmlns=\"http://www.w3.org/2000/svg\" height=\"24px\"viewBox=\"0 0 24 24\"\n",
              "       width=\"24px\">\n",
              "    <path d=\"M0 0h24v24H0V0z\" fill=\"none\"/>\n",
              "    <path d=\"M18.56 5.44l.94 2.06.94-2.06 2.06-.94-2.06-.94-.94-2.06-.94 2.06-2.06.94zm-11 1L8.5 8.5l.94-2.06 2.06-.94-2.06-.94L8.5 2.5l-.94 2.06-2.06.94zm10 10l.94 2.06.94-2.06 2.06-.94-2.06-.94-.94-2.06-.94 2.06-2.06.94z\"/><path d=\"M17.41 7.96l-1.37-1.37c-.4-.4-.92-.59-1.43-.59-.52 0-1.04.2-1.43.59L10.3 9.45l-7.72 7.72c-.78.78-.78 2.05 0 2.83L4 21.41c.39.39.9.59 1.41.59.51 0 1.02-.2 1.41-.59l7.78-7.78 2.81-2.81c.8-.78.8-2.07 0-2.86zM5.41 20L4 18.59l7.72-7.72 1.47 1.35L5.41 20z\"/>\n",
              "  </svg>\n",
              "      </button>\n",
              "      \n",
              "  <style>\n",
              "    .colab-df-container {\n",
              "      display:flex;\n",
              "      flex-wrap:wrap;\n",
              "      gap: 12px;\n",
              "    }\n",
              "\n",
              "    .colab-df-convert {\n",
              "      background-color: #E8F0FE;\n",
              "      border: none;\n",
              "      border-radius: 50%;\n",
              "      cursor: pointer;\n",
              "      display: none;\n",
              "      fill: #1967D2;\n",
              "      height: 32px;\n",
              "      padding: 0 0 0 0;\n",
              "      width: 32px;\n",
              "    }\n",
              "\n",
              "    .colab-df-convert:hover {\n",
              "      background-color: #E2EBFA;\n",
              "      box-shadow: 0px 1px 2px rgba(60, 64, 67, 0.3), 0px 1px 3px 1px rgba(60, 64, 67, 0.15);\n",
              "      fill: #174EA6;\n",
              "    }\n",
              "\n",
              "    [theme=dark] .colab-df-convert {\n",
              "      background-color: #3B4455;\n",
              "      fill: #D2E3FC;\n",
              "    }\n",
              "\n",
              "    [theme=dark] .colab-df-convert:hover {\n",
              "      background-color: #434B5C;\n",
              "      box-shadow: 0px 1px 3px 1px rgba(0, 0, 0, 0.15);\n",
              "      filter: drop-shadow(0px 1px 2px rgba(0, 0, 0, 0.3));\n",
              "      fill: #FFFFFF;\n",
              "    }\n",
              "  </style>\n",
              "\n",
              "      <script>\n",
              "        const buttonEl =\n",
              "          document.querySelector('#df-12675aeb-b4ca-4729-8dd8-e63f93d91b1d button.colab-df-convert');\n",
              "        buttonEl.style.display =\n",
              "          google.colab.kernel.accessAllowed ? 'block' : 'none';\n",
              "\n",
              "        async function convertToInteractive(key) {\n",
              "          const element = document.querySelector('#df-12675aeb-b4ca-4729-8dd8-e63f93d91b1d');\n",
              "          const dataTable =\n",
              "            await google.colab.kernel.invokeFunction('convertToInteractive',\n",
              "                                                     [key], {});\n",
              "          if (!dataTable) return;\n",
              "\n",
              "          const docLinkHtml = 'Like what you see? Visit the ' +\n",
              "            '<a target=\"_blank\" href=https://colab.research.google.com/notebooks/data_table.ipynb>data table notebook</a>'\n",
              "            + ' to learn more about interactive tables.';\n",
              "          element.innerHTML = '';\n",
              "          dataTable['output_type'] = 'display_data';\n",
              "          await google.colab.output.renderOutput(dataTable, element);\n",
              "          const docLink = document.createElement('div');\n",
              "          docLink.innerHTML = docLinkHtml;\n",
              "          element.appendChild(docLink);\n",
              "        }\n",
              "      </script>\n",
              "    </div>\n",
              "  </div>\n",
              "  "
            ],
            "text/plain": [
              "Empty DataFrame\n",
              "Columns: [Hid_dim_size, Iterations, Learning_Rate, Dropout, Batch_size, RMSE, MRR_5, MRR_10, NDCG_5, NDCG_10, Time]\n",
              "Index: []"
            ]
          },
          "metadata": {},
          "execution_count": 89
        }
      ],
      "source": [
        "all_results.groupby('Model_name').min('RMSE')"
      ]
    },
    {
      "cell_type": "markdown",
      "metadata": {
        "id": "Uswp1obfZuh5"
      },
      "source": [
        "## KFold CV for AutoRec User Content"
      ]
    },
    {
      "cell_type": "code",
      "execution_count": 90,
      "metadata": {
        "id": "hMCeU_RgZuh5",
        "colab": {
          "base_uri": "https://localhost:8080/"
        },
        "outputId": "3f55529e-d028-46dd-dfb9-867f0bd748e9"
      },
      "outputs": [
        {
          "output_type": "stream",
          "name": "stdout",
          "text": [
            "CPU times: user 80 ms, sys: 1.01 ms, total: 81 ms\n",
            "Wall time: 80.4 ms\n"
          ]
        }
      ],
      "source": [
        "%%time\n",
        "\n",
        "'''\n",
        "100k\n",
        "Best Test RMSE=0.937, was obtained by config=5\n",
        "Hyperparameters used: {'Iterations': 1000, 'Hid_dim_size': 250, 'Learning_Rate': 0.0005, 'Dropout': 0, 'Batch_size': 256\n",
        "\n",
        "1M\n",
        "Best Test RMSE=0.871, was obtained by config=3\n",
        "Hyperparameters used: {'Iterations': 1000, 'Hid_dim_size': 150, 'Learning_Rate': 0.0002, 'Dropout': 0, 'Batch_size': 256\n",
        "'''\n",
        "content_gain_user  = 8   # 8 , 8 for 100K , 1M\n",
        "train_content_user = pd.concat((train , users_profile_df*content_gain_user) , axis = 1)\n",
        "df_zero            = users_profile_df*0\n",
        "test_content_user  = pd.concat((test , df_zero) ,axis = 1)\n",
        "\n",
        "\n",
        "number_of_folds = 1 #MAX_FOLD # 5       \n",
        "n_iterations    = [1000] #just one value due to computational power\n",
        "learning_rate   = [5*1e-4 , 2*1e-4]\n",
        "batch_size      = [128, 256] \n",
        "dropout         = [0]\n",
        "hidden_dim_size =[150 , 250,500]\n",
        "activation      =[Sigmoid()]\n",
        "#activation=[Tanh(),LeakyReLU(),Sigmoid()]\n",
        "\n",
        "#num_config = len(n_iterations)*len(learning_rate)*len(batch_size)*len(dropout)*len(hidden_dim_size)*len(activation) \n",
        "\n",
        "#print('Running {}Fold CV, number of configs={}'.format(number_of_folds,num_config))\n",
        "#for model_name in ['AutoRec_User_content']:\n",
        "#    all_results = all_results.append(train_cv(model_name,n_iterations , hidden_dim_size ,\n",
        "#                                              batch_size , dropout , learning_rate ,activation,\n",
        "#                                              number_of_folds ,final_results_df,verbose=True))"
      ]
    },
    {
      "cell_type": "code",
      "execution_count": 91,
      "metadata": {
        "id": "_FSv-6j0Zuh5",
        "colab": {
          "base_uri": "https://localhost:8080/",
          "height": 81
        },
        "outputId": "b9a7149d-8cd9-47c3-c09c-80112d89b571"
      },
      "outputs": [
        {
          "output_type": "execute_result",
          "data": {
            "text/html": [
              "\n",
              "  <div id=\"df-620f373d-ce61-47f8-b41b-9007e63fb91b\">\n",
              "    <div class=\"colab-df-container\">\n",
              "      <div>\n",
              "<style scoped>\n",
              "    .dataframe tbody tr th:only-of-type {\n",
              "        vertical-align: middle;\n",
              "    }\n",
              "\n",
              "    .dataframe tbody tr th {\n",
              "        vertical-align: top;\n",
              "    }\n",
              "\n",
              "    .dataframe thead th {\n",
              "        text-align: right;\n",
              "    }\n",
              "</style>\n",
              "<table border=\"1\" class=\"dataframe\">\n",
              "  <thead>\n",
              "    <tr style=\"text-align: right;\">\n",
              "      <th></th>\n",
              "      <th>Hid_dim_size</th>\n",
              "      <th>Iterations</th>\n",
              "      <th>Learning_Rate</th>\n",
              "      <th>Dropout</th>\n",
              "      <th>Batch_size</th>\n",
              "      <th>RMSE</th>\n",
              "      <th>MRR_5</th>\n",
              "      <th>MRR_10</th>\n",
              "      <th>NDCG_5</th>\n",
              "      <th>NDCG_10</th>\n",
              "      <th>Time</th>\n",
              "    </tr>\n",
              "    <tr>\n",
              "      <th>Model_name</th>\n",
              "      <th></th>\n",
              "      <th></th>\n",
              "      <th></th>\n",
              "      <th></th>\n",
              "      <th></th>\n",
              "      <th></th>\n",
              "      <th></th>\n",
              "      <th></th>\n",
              "      <th></th>\n",
              "      <th></th>\n",
              "      <th></th>\n",
              "    </tr>\n",
              "  </thead>\n",
              "  <tbody>\n",
              "  </tbody>\n",
              "</table>\n",
              "</div>\n",
              "      <button class=\"colab-df-convert\" onclick=\"convertToInteractive('df-620f373d-ce61-47f8-b41b-9007e63fb91b')\"\n",
              "              title=\"Convert this dataframe to an interactive table.\"\n",
              "              style=\"display:none;\">\n",
              "        \n",
              "  <svg xmlns=\"http://www.w3.org/2000/svg\" height=\"24px\"viewBox=\"0 0 24 24\"\n",
              "       width=\"24px\">\n",
              "    <path d=\"M0 0h24v24H0V0z\" fill=\"none\"/>\n",
              "    <path d=\"M18.56 5.44l.94 2.06.94-2.06 2.06-.94-2.06-.94-.94-2.06-.94 2.06-2.06.94zm-11 1L8.5 8.5l.94-2.06 2.06-.94-2.06-.94L8.5 2.5l-.94 2.06-2.06.94zm10 10l.94 2.06.94-2.06 2.06-.94-2.06-.94-.94-2.06-.94 2.06-2.06.94z\"/><path d=\"M17.41 7.96l-1.37-1.37c-.4-.4-.92-.59-1.43-.59-.52 0-1.04.2-1.43.59L10.3 9.45l-7.72 7.72c-.78.78-.78 2.05 0 2.83L4 21.41c.39.39.9.59 1.41.59.51 0 1.02-.2 1.41-.59l7.78-7.78 2.81-2.81c.8-.78.8-2.07 0-2.86zM5.41 20L4 18.59l7.72-7.72 1.47 1.35L5.41 20z\"/>\n",
              "  </svg>\n",
              "      </button>\n",
              "      \n",
              "  <style>\n",
              "    .colab-df-container {\n",
              "      display:flex;\n",
              "      flex-wrap:wrap;\n",
              "      gap: 12px;\n",
              "    }\n",
              "\n",
              "    .colab-df-convert {\n",
              "      background-color: #E8F0FE;\n",
              "      border: none;\n",
              "      border-radius: 50%;\n",
              "      cursor: pointer;\n",
              "      display: none;\n",
              "      fill: #1967D2;\n",
              "      height: 32px;\n",
              "      padding: 0 0 0 0;\n",
              "      width: 32px;\n",
              "    }\n",
              "\n",
              "    .colab-df-convert:hover {\n",
              "      background-color: #E2EBFA;\n",
              "      box-shadow: 0px 1px 2px rgba(60, 64, 67, 0.3), 0px 1px 3px 1px rgba(60, 64, 67, 0.15);\n",
              "      fill: #174EA6;\n",
              "    }\n",
              "\n",
              "    [theme=dark] .colab-df-convert {\n",
              "      background-color: #3B4455;\n",
              "      fill: #D2E3FC;\n",
              "    }\n",
              "\n",
              "    [theme=dark] .colab-df-convert:hover {\n",
              "      background-color: #434B5C;\n",
              "      box-shadow: 0px 1px 3px 1px rgba(0, 0, 0, 0.15);\n",
              "      filter: drop-shadow(0px 1px 2px rgba(0, 0, 0, 0.3));\n",
              "      fill: #FFFFFF;\n",
              "    }\n",
              "  </style>\n",
              "\n",
              "      <script>\n",
              "        const buttonEl =\n",
              "          document.querySelector('#df-620f373d-ce61-47f8-b41b-9007e63fb91b button.colab-df-convert');\n",
              "        buttonEl.style.display =\n",
              "          google.colab.kernel.accessAllowed ? 'block' : 'none';\n",
              "\n",
              "        async function convertToInteractive(key) {\n",
              "          const element = document.querySelector('#df-620f373d-ce61-47f8-b41b-9007e63fb91b');\n",
              "          const dataTable =\n",
              "            await google.colab.kernel.invokeFunction('convertToInteractive',\n",
              "                                                     [key], {});\n",
              "          if (!dataTable) return;\n",
              "\n",
              "          const docLinkHtml = 'Like what you see? Visit the ' +\n",
              "            '<a target=\"_blank\" href=https://colab.research.google.com/notebooks/data_table.ipynb>data table notebook</a>'\n",
              "            + ' to learn more about interactive tables.';\n",
              "          element.innerHTML = '';\n",
              "          dataTable['output_type'] = 'display_data';\n",
              "          await google.colab.output.renderOutput(dataTable, element);\n",
              "          const docLink = document.createElement('div');\n",
              "          docLink.innerHTML = docLinkHtml;\n",
              "          element.appendChild(docLink);\n",
              "        }\n",
              "      </script>\n",
              "    </div>\n",
              "  </div>\n",
              "  "
            ],
            "text/plain": [
              "Empty DataFrame\n",
              "Columns: [Hid_dim_size, Iterations, Learning_Rate, Dropout, Batch_size, RMSE, MRR_5, MRR_10, NDCG_5, NDCG_10, Time]\n",
              "Index: []"
            ]
          },
          "metadata": {},
          "execution_count": 91
        }
      ],
      "source": [
        "all_results.groupby('Model_name').min('RMSE')"
      ]
    },
    {
      "cell_type": "markdown",
      "metadata": {
        "id": "xgez6lrNZuh6"
      },
      "source": [
        "## KFold CV for AutoRec Item  Content\n"
      ]
    },
    {
      "cell_type": "code",
      "execution_count": 92,
      "metadata": {
        "id": "pHpeYKc2Zuh6"
      },
      "outputs": [],
      "source": [
        "'''\n",
        "100K\n",
        "Best Test RMSE=0.889, \n",
        "Hyperparameters used: {'Iterations': 1000, 'Hid_dim_size': 250, 'Learning_Rate': 0.001, 'Dropout': 0, 'Batch_size': 256\n",
        "\n",
        "1M\n",
        "Best Test RMSE=0.843, \n",
        "Hyperparameters used: {'Iterations': 1000, 'Hid_dim_size': 500, 'Learning_Rate': 0.0005, 'Dropout': 0, 'Batch_size': 128\n",
        "'''\n",
        "content_gain_item       = 10  # 20  ,10 for 100K , 1M\n",
        "train_content_item      = pd.concat((train , movies_profile_df.T*content_gain_item))\n",
        "\n",
        "number_of_folds = 1 #MAX_FOLD # 5       \n",
        "n_iterations    = [1000] #just one value due to computational power\n",
        "learning_rate   = [5*1e-4 , 2*1e-4]\n",
        "batch_size      = [128, 256] \n",
        "dropout         = [0]\n",
        "hidden_dim_size =[150 , 250,500]\n",
        "activation      =[Sigmoid()]\n",
        "#activation=[Tanh(),LeakyReLU(),Sigmoid()]\n",
        "\n",
        "#num_config = len(n_iterations)*len(learning_rate)*len(batch_size)*len(dropout)*len(hidden_dim_size)*len(activation) \n",
        "\n",
        "#print('Running {}Fold CV, number of configs={}'.format(number_of_folds,num_config))\n",
        "#for model_name in ['AutoRec_Item_content']:\n",
        "#    all_results = all_results.append(train_cv(model_name,n_iterations , hidden_dim_size ,\n",
        "#                                              batch_size , dropout , learning_rate ,activation,\n",
        "#                                              number_of_folds ,final_results_df,verbose=True))"
      ]
    },
    {
      "cell_type": "code",
      "execution_count": 93,
      "metadata": {
        "id": "7T6VOHSCZuh6",
        "colab": {
          "base_uri": "https://localhost:8080/",
          "height": 81
        },
        "outputId": "35a9b0db-9047-48b2-9e3a-7c55c4c15427"
      },
      "outputs": [
        {
          "output_type": "execute_result",
          "data": {
            "text/html": [
              "\n",
              "  <div id=\"df-49ec878d-63f8-4258-b300-d0d75eed09c6\">\n",
              "    <div class=\"colab-df-container\">\n",
              "      <div>\n",
              "<style scoped>\n",
              "    .dataframe tbody tr th:only-of-type {\n",
              "        vertical-align: middle;\n",
              "    }\n",
              "\n",
              "    .dataframe tbody tr th {\n",
              "        vertical-align: top;\n",
              "    }\n",
              "\n",
              "    .dataframe thead th {\n",
              "        text-align: right;\n",
              "    }\n",
              "</style>\n",
              "<table border=\"1\" class=\"dataframe\">\n",
              "  <thead>\n",
              "    <tr style=\"text-align: right;\">\n",
              "      <th></th>\n",
              "      <th>Hid_dim_size</th>\n",
              "      <th>Iterations</th>\n",
              "      <th>Learning_Rate</th>\n",
              "      <th>Dropout</th>\n",
              "      <th>Batch_size</th>\n",
              "      <th>RMSE</th>\n",
              "      <th>MRR_5</th>\n",
              "      <th>MRR_10</th>\n",
              "      <th>NDCG_5</th>\n",
              "      <th>NDCG_10</th>\n",
              "      <th>Time</th>\n",
              "    </tr>\n",
              "    <tr>\n",
              "      <th>Model_name</th>\n",
              "      <th></th>\n",
              "      <th></th>\n",
              "      <th></th>\n",
              "      <th></th>\n",
              "      <th></th>\n",
              "      <th></th>\n",
              "      <th></th>\n",
              "      <th></th>\n",
              "      <th></th>\n",
              "      <th></th>\n",
              "      <th></th>\n",
              "    </tr>\n",
              "  </thead>\n",
              "  <tbody>\n",
              "  </tbody>\n",
              "</table>\n",
              "</div>\n",
              "      <button class=\"colab-df-convert\" onclick=\"convertToInteractive('df-49ec878d-63f8-4258-b300-d0d75eed09c6')\"\n",
              "              title=\"Convert this dataframe to an interactive table.\"\n",
              "              style=\"display:none;\">\n",
              "        \n",
              "  <svg xmlns=\"http://www.w3.org/2000/svg\" height=\"24px\"viewBox=\"0 0 24 24\"\n",
              "       width=\"24px\">\n",
              "    <path d=\"M0 0h24v24H0V0z\" fill=\"none\"/>\n",
              "    <path d=\"M18.56 5.44l.94 2.06.94-2.06 2.06-.94-2.06-.94-.94-2.06-.94 2.06-2.06.94zm-11 1L8.5 8.5l.94-2.06 2.06-.94-2.06-.94L8.5 2.5l-.94 2.06-2.06.94zm10 10l.94 2.06.94-2.06 2.06-.94-2.06-.94-.94-2.06-.94 2.06-2.06.94z\"/><path d=\"M17.41 7.96l-1.37-1.37c-.4-.4-.92-.59-1.43-.59-.52 0-1.04.2-1.43.59L10.3 9.45l-7.72 7.72c-.78.78-.78 2.05 0 2.83L4 21.41c.39.39.9.59 1.41.59.51 0 1.02-.2 1.41-.59l7.78-7.78 2.81-2.81c.8-.78.8-2.07 0-2.86zM5.41 20L4 18.59l7.72-7.72 1.47 1.35L5.41 20z\"/>\n",
              "  </svg>\n",
              "      </button>\n",
              "      \n",
              "  <style>\n",
              "    .colab-df-container {\n",
              "      display:flex;\n",
              "      flex-wrap:wrap;\n",
              "      gap: 12px;\n",
              "    }\n",
              "\n",
              "    .colab-df-convert {\n",
              "      background-color: #E8F0FE;\n",
              "      border: none;\n",
              "      border-radius: 50%;\n",
              "      cursor: pointer;\n",
              "      display: none;\n",
              "      fill: #1967D2;\n",
              "      height: 32px;\n",
              "      padding: 0 0 0 0;\n",
              "      width: 32px;\n",
              "    }\n",
              "\n",
              "    .colab-df-convert:hover {\n",
              "      background-color: #E2EBFA;\n",
              "      box-shadow: 0px 1px 2px rgba(60, 64, 67, 0.3), 0px 1px 3px 1px rgba(60, 64, 67, 0.15);\n",
              "      fill: #174EA6;\n",
              "    }\n",
              "\n",
              "    [theme=dark] .colab-df-convert {\n",
              "      background-color: #3B4455;\n",
              "      fill: #D2E3FC;\n",
              "    }\n",
              "\n",
              "    [theme=dark] .colab-df-convert:hover {\n",
              "      background-color: #434B5C;\n",
              "      box-shadow: 0px 1px 3px 1px rgba(0, 0, 0, 0.15);\n",
              "      filter: drop-shadow(0px 1px 2px rgba(0, 0, 0, 0.3));\n",
              "      fill: #FFFFFF;\n",
              "    }\n",
              "  </style>\n",
              "\n",
              "      <script>\n",
              "        const buttonEl =\n",
              "          document.querySelector('#df-49ec878d-63f8-4258-b300-d0d75eed09c6 button.colab-df-convert');\n",
              "        buttonEl.style.display =\n",
              "          google.colab.kernel.accessAllowed ? 'block' : 'none';\n",
              "\n",
              "        async function convertToInteractive(key) {\n",
              "          const element = document.querySelector('#df-49ec878d-63f8-4258-b300-d0d75eed09c6');\n",
              "          const dataTable =\n",
              "            await google.colab.kernel.invokeFunction('convertToInteractive',\n",
              "                                                     [key], {});\n",
              "          if (!dataTable) return;\n",
              "\n",
              "          const docLinkHtml = 'Like what you see? Visit the ' +\n",
              "            '<a target=\"_blank\" href=https://colab.research.google.com/notebooks/data_table.ipynb>data table notebook</a>'\n",
              "            + ' to learn more about interactive tables.';\n",
              "          element.innerHTML = '';\n",
              "          dataTable['output_type'] = 'display_data';\n",
              "          await google.colab.output.renderOutput(dataTable, element);\n",
              "          const docLink = document.createElement('div');\n",
              "          docLink.innerHTML = docLinkHtml;\n",
              "          element.appendChild(docLink);\n",
              "        }\n",
              "      </script>\n",
              "    </div>\n",
              "  </div>\n",
              "  "
            ],
            "text/plain": [
              "Empty DataFrame\n",
              "Columns: [Hid_dim_size, Iterations, Learning_Rate, Dropout, Batch_size, RMSE, MRR_5, MRR_10, NDCG_5, NDCG_10, Time]\n",
              "Index: []"
            ]
          },
          "metadata": {},
          "execution_count": 93
        }
      ],
      "source": [
        "all_results.groupby('Model_name').min('RMSE')"
      ]
    },
    {
      "cell_type": "markdown",
      "metadata": {
        "id": "rFbVkqhfZuh6"
      },
      "source": [
        "## KFold CV for AutoRec Item  Content Advance\n"
      ]
    },
    {
      "cell_type": "code",
      "execution_count": 94,
      "metadata": {
        "id": "pAkKwxLbZuh6"
      },
      "outputs": [],
      "source": [
        "'''\n",
        "100K\n",
        "Best Test RMSE=0.927, was obtained by config=0\n",
        "Hyperparameters used: {'Iterations': 1000, 'Hid_dim_size': 100, 'Learning_Rate': 0.001, 'Dropout': 0, 'Batch_size': 64\n",
        "\n",
        "1M\n",
        "Best Test RMSE=0.839, was obtained by config=8\n",
        "Hyperparameters used: {'Iterations': 1000, 'Hid_dim_size': 500, 'Learning_Rate': 0.0005, 'Dropout': 0, 'Batch_size': 128\n",
        "'''\n",
        "content_gain_item2  = 1\n",
        "train_content_item2 = pd.concat((train , movies_profile_df.T*content_gain_item2))\n",
        "\n",
        "number_of_folds = 1 #MAX_FOLD # 5       \n",
        "n_iterations    = [1000] #just one value due to computational power\n",
        "learning_rate   = [5*1e-4 , 2*1e-4]\n",
        "batch_size      = [128, 256] \n",
        "dropout         = [0]\n",
        "hidden_dim_size =[100  , 250,500]\n",
        "activation      =[Sigmoid()]\n",
        "#activation=[Tanh(),LeakyReLU(),Sigmoid()]\n",
        "\n",
        "num_config = len(n_iterations)*len(learning_rate)*len(batch_size)*len(dropout)*len(hidden_dim_size)*len(activation) \n",
        "\n",
        "#print('Running {}Fold CV, number of configs={}'.format(number_of_folds,num_config))\n",
        "#for model_name in ['AutoRec_Item_content2']:\n",
        "#    all_results = all_results.append(train_cv(model_name,n_iterations , hidden_dim_size ,\n",
        "#                                              batch_size , dropout , learning_rate ,activation,\n",
        "#                                              number_of_folds ,final_results_df,verbose=True))"
      ]
    },
    {
      "cell_type": "code",
      "execution_count": 95,
      "metadata": {
        "id": "oieSF570Zuh7",
        "colab": {
          "base_uri": "https://localhost:8080/",
          "height": 81
        },
        "outputId": "920f1542-65e6-42a9-de41-c8e1412d0b65"
      },
      "outputs": [
        {
          "output_type": "execute_result",
          "data": {
            "text/html": [
              "\n",
              "  <div id=\"df-d25f8cd1-edee-4f55-a323-26924556eb93\">\n",
              "    <div class=\"colab-df-container\">\n",
              "      <div>\n",
              "<style scoped>\n",
              "    .dataframe tbody tr th:only-of-type {\n",
              "        vertical-align: middle;\n",
              "    }\n",
              "\n",
              "    .dataframe tbody tr th {\n",
              "        vertical-align: top;\n",
              "    }\n",
              "\n",
              "    .dataframe thead th {\n",
              "        text-align: right;\n",
              "    }\n",
              "</style>\n",
              "<table border=\"1\" class=\"dataframe\">\n",
              "  <thead>\n",
              "    <tr style=\"text-align: right;\">\n",
              "      <th></th>\n",
              "      <th>Hid_dim_size</th>\n",
              "      <th>Iterations</th>\n",
              "      <th>Learning_Rate</th>\n",
              "      <th>Dropout</th>\n",
              "      <th>Batch_size</th>\n",
              "      <th>RMSE</th>\n",
              "      <th>MRR_5</th>\n",
              "      <th>MRR_10</th>\n",
              "      <th>NDCG_5</th>\n",
              "      <th>NDCG_10</th>\n",
              "      <th>Time</th>\n",
              "    </tr>\n",
              "    <tr>\n",
              "      <th>Model_name</th>\n",
              "      <th></th>\n",
              "      <th></th>\n",
              "      <th></th>\n",
              "      <th></th>\n",
              "      <th></th>\n",
              "      <th></th>\n",
              "      <th></th>\n",
              "      <th></th>\n",
              "      <th></th>\n",
              "      <th></th>\n",
              "      <th></th>\n",
              "    </tr>\n",
              "  </thead>\n",
              "  <tbody>\n",
              "  </tbody>\n",
              "</table>\n",
              "</div>\n",
              "      <button class=\"colab-df-convert\" onclick=\"convertToInteractive('df-d25f8cd1-edee-4f55-a323-26924556eb93')\"\n",
              "              title=\"Convert this dataframe to an interactive table.\"\n",
              "              style=\"display:none;\">\n",
              "        \n",
              "  <svg xmlns=\"http://www.w3.org/2000/svg\" height=\"24px\"viewBox=\"0 0 24 24\"\n",
              "       width=\"24px\">\n",
              "    <path d=\"M0 0h24v24H0V0z\" fill=\"none\"/>\n",
              "    <path d=\"M18.56 5.44l.94 2.06.94-2.06 2.06-.94-2.06-.94-.94-2.06-.94 2.06-2.06.94zm-11 1L8.5 8.5l.94-2.06 2.06-.94-2.06-.94L8.5 2.5l-.94 2.06-2.06.94zm10 10l.94 2.06.94-2.06 2.06-.94-2.06-.94-.94-2.06-.94 2.06-2.06.94z\"/><path d=\"M17.41 7.96l-1.37-1.37c-.4-.4-.92-.59-1.43-.59-.52 0-1.04.2-1.43.59L10.3 9.45l-7.72 7.72c-.78.78-.78 2.05 0 2.83L4 21.41c.39.39.9.59 1.41.59.51 0 1.02-.2 1.41-.59l7.78-7.78 2.81-2.81c.8-.78.8-2.07 0-2.86zM5.41 20L4 18.59l7.72-7.72 1.47 1.35L5.41 20z\"/>\n",
              "  </svg>\n",
              "      </button>\n",
              "      \n",
              "  <style>\n",
              "    .colab-df-container {\n",
              "      display:flex;\n",
              "      flex-wrap:wrap;\n",
              "      gap: 12px;\n",
              "    }\n",
              "\n",
              "    .colab-df-convert {\n",
              "      background-color: #E8F0FE;\n",
              "      border: none;\n",
              "      border-radius: 50%;\n",
              "      cursor: pointer;\n",
              "      display: none;\n",
              "      fill: #1967D2;\n",
              "      height: 32px;\n",
              "      padding: 0 0 0 0;\n",
              "      width: 32px;\n",
              "    }\n",
              "\n",
              "    .colab-df-convert:hover {\n",
              "      background-color: #E2EBFA;\n",
              "      box-shadow: 0px 1px 2px rgba(60, 64, 67, 0.3), 0px 1px 3px 1px rgba(60, 64, 67, 0.15);\n",
              "      fill: #174EA6;\n",
              "    }\n",
              "\n",
              "    [theme=dark] .colab-df-convert {\n",
              "      background-color: #3B4455;\n",
              "      fill: #D2E3FC;\n",
              "    }\n",
              "\n",
              "    [theme=dark] .colab-df-convert:hover {\n",
              "      background-color: #434B5C;\n",
              "      box-shadow: 0px 1px 3px 1px rgba(0, 0, 0, 0.15);\n",
              "      filter: drop-shadow(0px 1px 2px rgba(0, 0, 0, 0.3));\n",
              "      fill: #FFFFFF;\n",
              "    }\n",
              "  </style>\n",
              "\n",
              "      <script>\n",
              "        const buttonEl =\n",
              "          document.querySelector('#df-d25f8cd1-edee-4f55-a323-26924556eb93 button.colab-df-convert');\n",
              "        buttonEl.style.display =\n",
              "          google.colab.kernel.accessAllowed ? 'block' : 'none';\n",
              "\n",
              "        async function convertToInteractive(key) {\n",
              "          const element = document.querySelector('#df-d25f8cd1-edee-4f55-a323-26924556eb93');\n",
              "          const dataTable =\n",
              "            await google.colab.kernel.invokeFunction('convertToInteractive',\n",
              "                                                     [key], {});\n",
              "          if (!dataTable) return;\n",
              "\n",
              "          const docLinkHtml = 'Like what you see? Visit the ' +\n",
              "            '<a target=\"_blank\" href=https://colab.research.google.com/notebooks/data_table.ipynb>data table notebook</a>'\n",
              "            + ' to learn more about interactive tables.';\n",
              "          element.innerHTML = '';\n",
              "          dataTable['output_type'] = 'display_data';\n",
              "          await google.colab.output.renderOutput(dataTable, element);\n",
              "          const docLink = document.createElement('div');\n",
              "          docLink.innerHTML = docLinkHtml;\n",
              "          element.appendChild(docLink);\n",
              "        }\n",
              "      </script>\n",
              "    </div>\n",
              "  </div>\n",
              "  "
            ],
            "text/plain": [
              "Empty DataFrame\n",
              "Columns: [Hid_dim_size, Iterations, Learning_Rate, Dropout, Batch_size, RMSE, MRR_5, MRR_10, NDCG_5, NDCG_10, Time]\n",
              "Index: []"
            ]
          },
          "metadata": {},
          "execution_count": 95
        }
      ],
      "source": [
        "all_results.groupby('Model_name').min('RMSE')"
      ]
    },
    {
      "cell_type": "markdown",
      "metadata": {
        "id": "lNOp0vnFa36h"
      },
      "source": [
        "## Validate Datasets Folds"
      ]
    },
    {
      "cell_type": "code",
      "execution_count": 96,
      "metadata": {
        "id": "lFpi96wOa4R7"
      },
      "outputs": [],
      "source": [
        "def check_dataset(ds_name,delim=' '):\n",
        "  cols = ['u_id','i_id','rat','datetime']\n",
        "  for i in range(1,6):\n",
        "    base_df = pd.read_csv('datasets/{}/u{}.base'.format(ds_name,i),delimiter=delim, names=cols)\n",
        "    test_df = pd.read_csv('datasets/{}/u{}.test'.format(ds_name,i),delimiter=delim, names=cols)\n",
        "    base_users = set(sorted(np.unique(base_df['u_id'])))\n",
        "    test_users = set(sorted(np.unique(test_df['u_id'])))\n",
        "    print('--------------------Fold {}----------------------------------'.format(i))\n",
        "    print('Number of distinct users:',len(base_users-test_users))\n",
        "    print('Unique users in base={} and test={}'.format(i,len(np.unique(base_df['u_id'])),len(np.unique(test_df['u_id']))))\n",
        "    print('Base Users with less than 15 ratings:',(base_df.groupby('u_id').count()['rat'] <10).sum(),end=',')\n",
        "    print(' Test Users with less than 15 ratings:',(base_df.groupby('u_id').count()['rat'] <10).sum()) \n"
      ]
    },
    {
      "cell_type": "code",
      "execution_count": 97,
      "metadata": {
        "id": "5bbJsNPQa6Vh",
        "colab": {
          "base_uri": "https://localhost:8080/"
        },
        "outputId": "7dc5988a-e7da-4dab-f02a-f526133e307e"
      },
      "outputs": [
        {
          "output_type": "stream",
          "name": "stdout",
          "text": [
            "--------------------Fold 1----------------------------------\n",
            "Number of distinct users: 484\n",
            "Unique users in base=1 and test=943\n",
            "Base Users with less than 15 ratings: 6, Test Users with less than 15 ratings: 6\n",
            "--------------------Fold 2----------------------------------\n",
            "Number of distinct users: 290\n",
            "Unique users in base=2 and test=943\n",
            "Base Users with less than 15 ratings: 2, Test Users with less than 15 ratings: 2\n",
            "--------------------Fold 3----------------------------------\n",
            "Number of distinct users: 74\n",
            "Unique users in base=3 and test=943\n",
            "Base Users with less than 15 ratings: 1, Test Users with less than 15 ratings: 1\n",
            "--------------------Fold 4----------------------------------\n",
            "Number of distinct users: 20\n",
            "Unique users in base=4 and test=943\n",
            "Base Users with less than 15 ratings: 3, Test Users with less than 15 ratings: 3\n",
            "--------------------Fold 5----------------------------------\n",
            "Number of distinct users: 16\n",
            "Unique users in base=5 and test=943\n",
            "Base Users with less than 15 ratings: 8, Test Users with less than 15 ratings: 8\n"
          ]
        }
      ],
      "source": [
        "check_dataset('ml-100k','\\t')"
      ]
    },
    {
      "cell_type": "code",
      "execution_count": 98,
      "metadata": {
        "id": "qPu7zxS7a4Lp",
        "colab": {
          "base_uri": "https://localhost:8080/"
        },
        "outputId": "3bab7822-e301-4d40-e8ae-2a6ef2f0008d"
      },
      "outputs": [
        {
          "output_type": "stream",
          "name": "stdout",
          "text": [
            "--------------------Fold 1----------------------------------\n",
            "Number of distinct users: 1\n",
            "Unique users in base=1 and test=6040\n",
            "Base Users with less than 15 ratings: 0, Test Users with less than 15 ratings: 0\n",
            "--------------------Fold 2----------------------------------\n",
            "Number of distinct users: 3\n",
            "Unique users in base=2 and test=6040\n",
            "Base Users with less than 15 ratings: 0, Test Users with less than 15 ratings: 0\n",
            "--------------------Fold 3----------------------------------\n",
            "Number of distinct users: 2\n",
            "Unique users in base=3 and test=6040\n",
            "Base Users with less than 15 ratings: 0, Test Users with less than 15 ratings: 0\n",
            "--------------------Fold 4----------------------------------\n",
            "Number of distinct users: 5\n",
            "Unique users in base=4 and test=6040\n",
            "Base Users with less than 15 ratings: 0, Test Users with less than 15 ratings: 0\n",
            "--------------------Fold 5----------------------------------\n",
            "Number of distinct users: 9\n",
            "Unique users in base=5 and test=6040\n",
            "Base Users with less than 15 ratings: 0, Test Users with less than 15 ratings: 0\n"
          ]
        }
      ],
      "source": [
        "check_dataset('ml-1m')"
      ]
    }
  ],
  "metadata": {
    "accelerator": "GPU",
    "colab": {
      "collapsed_sections": [],
      "machine_shape": "hm",
      "name": "RS_Gil_Liad_Project_v14_ML_1M_final.ipynb",
      "provenance": [],
      "toc_visible": true
    },
    "kernelspec": {
      "display_name": "pytorch",
      "language": "python",
      "name": "pytorch"
    },
    "language_info": {
      "codemirror_mode": {
        "name": "ipython",
        "version": 3
      },
      "file_extension": ".py",
      "mimetype": "text/x-python",
      "name": "python",
      "nbconvert_exporter": "python",
      "pygments_lexer": "ipython3",
      "version": "3.9.7"
    }
  },
  "nbformat": 4,
  "nbformat_minor": 0
}